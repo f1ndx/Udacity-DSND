{
 "cells": [
  {
   "cell_type": "markdown",
   "metadata": {},
   "source": [
    "# Airbnb Data Analysis for New York City"
   ]
  },
  {
   "cell_type": "code",
   "execution_count": 1,
   "metadata": {},
   "outputs": [
    {
     "name": "stdout",
     "output_type": "stream",
     "text": [
      "Python 3.8.5\n"
     ]
    }
   ],
   "source": [
    "import numpy as np\n",
    "import pandas as pd\n",
    "import matplotlib.pyplot as plt\n",
    "import chart_studio.plotly as py\n",
    "import plotly.graph_objs as go\n",
    "import plotly.tools as tls\n",
    "import plotly.figure_factory as ff\n",
    "import plotly.io as pio\n",
    "import cufflinks as cf\n",
    "import datetime\n",
    "import calendar as cal\n",
    "import seaborn as sns\n",
    "import os\n",
    "\n",
    "from plotly.subplots import make_subplots\n",
    "from matplotlib.cbook import boxplot_stats\n",
    "from IPython.display import display, display_html\n",
    "\n",
    "pio.templates.default = 'none'\n",
    "\n",
    "%matplotlib inline\n",
    "!python --version"
   ]
  },
  {
   "cell_type": "markdown",
   "metadata": {},
   "source": [
    "## 1. Business Understanding\n",
    "\n",
    "Some questions that I would like to gain insight into from this analysis are the following:\n",
    "-  **Which NYC areas have the most listings?**\n",
    "-  **What does availability for listings look like throughout the year?**\n",
    "-  **How do listing prices vary by location?**\n",
    "-  **How do listing prices change throughout the year?**\n",
    "\n",
    "Notice that these four questions are exploratory in nature, thus we will be examining descriptive statistics and visual trends around these questions.\n",
    "\n",
    "---\n",
    "\n",
    "## 2. Data Understanding\n",
    "\n",
    "A full library of Airbnb data for cities globally can be found [here](http://insideairbnb.com/get-the-data.html).  Under the New York City section, the datasets that are available for download are:\n",
    "* calendar - Detailed Calendar Data for listings in New York City\n",
    "* listings - Detailed Listings data for New York City\n",
    "* reviews - Detailed Review Data for listings in New York City\n",
    "* neighbourhoods - Neighbourhood list for geo filter\n",
    "\n",
    "Since my questions that I would like to answer revolve around availability and pricing, I will primarily be using the first data set above in this exploratory analysis, as well as the `listings` dataset just to pull in some supplementary data (i.e. neighbourhood features).  Also, to get a better idea of the temporal trends around availability and pricing, I will be looking at the `calendar` data from June 2018 to June 2020 where possible.\n",
    "\n",
    "Now let's take a closer look at some of the characteristics of this data, including the data's cleanliness and completeness.\n",
    "\n",
    "#### Calendar Dataset."
   ]
  },
  {
   "cell_type": "code",
   "execution_count": 2,
   "metadata": {},
   "outputs": [],
   "source": [
    "# Load in the Calendar csv files\n",
    "calendar_june2018 = pd.read_csv('data/calendar_june2018.csv')\n",
    "calendar_june2019 = pd.read_csv('data/calendar_june2019.csv')"
   ]
  },
  {
   "cell_type": "markdown",
   "metadata": {},
   "source": [
    "Let's take a look at these dataframes to get an idea of what the data looks like."
   ]
  },
  {
   "cell_type": "code",
   "execution_count": 3,
   "metadata": {},
   "outputs": [
    {
     "data": {
      "text/html": [
       "<div>\n",
       "<style scoped>\n",
       "    .dataframe tbody tr th:only-of-type {\n",
       "        vertical-align: middle;\n",
       "    }\n",
       "\n",
       "    .dataframe tbody tr th {\n",
       "        vertical-align: top;\n",
       "    }\n",
       "\n",
       "    .dataframe thead th {\n",
       "        text-align: right;\n",
       "    }\n",
       "</style>\n",
       "<table border=\"1\" class=\"dataframe\">\n",
       "  <thead>\n",
       "    <tr style=\"text-align: right;\">\n",
       "      <th></th>\n",
       "      <th>listing_id</th>\n",
       "      <th>date</th>\n",
       "      <th>available</th>\n",
       "      <th>price</th>\n",
       "    </tr>\n",
       "  </thead>\n",
       "  <tbody>\n",
       "    <tr>\n",
       "      <th>0</th>\n",
       "      <td>182177</td>\n",
       "      <td>2019-06-04</td>\n",
       "      <td>f</td>\n",
       "      <td>NaN</td>\n",
       "    </tr>\n",
       "    <tr>\n",
       "      <th>1</th>\n",
       "      <td>182177</td>\n",
       "      <td>2019-06-03</td>\n",
       "      <td>t</td>\n",
       "      <td>$136.00</td>\n",
       "    </tr>\n",
       "    <tr>\n",
       "      <th>2</th>\n",
       "      <td>182177</td>\n",
       "      <td>2019-06-02</td>\n",
       "      <td>t</td>\n",
       "      <td>$136.00</td>\n",
       "    </tr>\n",
       "    <tr>\n",
       "      <th>3</th>\n",
       "      <td>182177</td>\n",
       "      <td>2019-06-01</td>\n",
       "      <td>t</td>\n",
       "      <td>$136.00</td>\n",
       "    </tr>\n",
       "    <tr>\n",
       "      <th>4</th>\n",
       "      <td>182177</td>\n",
       "      <td>2019-05-31</td>\n",
       "      <td>t</td>\n",
       "      <td>$136.00</td>\n",
       "    </tr>\n",
       "  </tbody>\n",
       "</table>\n",
       "</div>"
      ],
      "text/plain": [
       "   listing_id        date available    price\n",
       "0      182177  2019-06-04         f      NaN\n",
       "1      182177  2019-06-03         t  $136.00\n",
       "2      182177  2019-06-02         t  $136.00\n",
       "3      182177  2019-06-01         t  $136.00\n",
       "4      182177  2019-05-31         t  $136.00"
      ]
     },
     "metadata": {},
     "output_type": "display_data"
    },
    {
     "data": {
      "text/html": [
       "<div>\n",
       "<style scoped>\n",
       "    .dataframe tbody tr th:only-of-type {\n",
       "        vertical-align: middle;\n",
       "    }\n",
       "\n",
       "    .dataframe tbody tr th {\n",
       "        vertical-align: top;\n",
       "    }\n",
       "\n",
       "    .dataframe thead th {\n",
       "        text-align: right;\n",
       "    }\n",
       "</style>\n",
       "<table border=\"1\" class=\"dataframe\">\n",
       "  <thead>\n",
       "    <tr style=\"text-align: right;\">\n",
       "      <th></th>\n",
       "      <th>listing_id</th>\n",
       "      <th>date</th>\n",
       "      <th>available</th>\n",
       "      <th>price</th>\n",
       "      <th>adjusted_price</th>\n",
       "      <th>minimum_nights</th>\n",
       "      <th>maximum_nights</th>\n",
       "    </tr>\n",
       "  </thead>\n",
       "  <tbody>\n",
       "    <tr>\n",
       "      <th>0</th>\n",
       "      <td>18764</td>\n",
       "      <td>2019-06-03</td>\n",
       "      <td>f</td>\n",
       "      <td>$145.00</td>\n",
       "      <td>$145.00</td>\n",
       "      <td>3.0</td>\n",
       "      <td>90.0</td>\n",
       "    </tr>\n",
       "    <tr>\n",
       "      <th>1</th>\n",
       "      <td>18764</td>\n",
       "      <td>2019-06-04</td>\n",
       "      <td>f</td>\n",
       "      <td>$145.00</td>\n",
       "      <td>$145.00</td>\n",
       "      <td>3.0</td>\n",
       "      <td>90.0</td>\n",
       "    </tr>\n",
       "    <tr>\n",
       "      <th>2</th>\n",
       "      <td>18764</td>\n",
       "      <td>2019-06-05</td>\n",
       "      <td>t</td>\n",
       "      <td>$145.00</td>\n",
       "      <td>$145.00</td>\n",
       "      <td>3.0</td>\n",
       "      <td>90.0</td>\n",
       "    </tr>\n",
       "    <tr>\n",
       "      <th>3</th>\n",
       "      <td>18764</td>\n",
       "      <td>2019-06-06</td>\n",
       "      <td>f</td>\n",
       "      <td>$145.00</td>\n",
       "      <td>$145.00</td>\n",
       "      <td>3.0</td>\n",
       "      <td>90.0</td>\n",
       "    </tr>\n",
       "    <tr>\n",
       "      <th>4</th>\n",
       "      <td>18764</td>\n",
       "      <td>2019-06-07</td>\n",
       "      <td>f</td>\n",
       "      <td>$145.00</td>\n",
       "      <td>$145.00</td>\n",
       "      <td>3.0</td>\n",
       "      <td>90.0</td>\n",
       "    </tr>\n",
       "  </tbody>\n",
       "</table>\n",
       "</div>"
      ],
      "text/plain": [
       "   listing_id        date available    price adjusted_price  minimum_nights  \\\n",
       "0       18764  2019-06-03         f  $145.00        $145.00             3.0   \n",
       "1       18764  2019-06-04         f  $145.00        $145.00             3.0   \n",
       "2       18764  2019-06-05         t  $145.00        $145.00             3.0   \n",
       "3       18764  2019-06-06         f  $145.00        $145.00             3.0   \n",
       "4       18764  2019-06-07         f  $145.00        $145.00             3.0   \n",
       "\n",
       "   maximum_nights  \n",
       "0            90.0  \n",
       "1            90.0  \n",
       "2            90.0  \n",
       "3            90.0  \n",
       "4            90.0  "
      ]
     },
     "metadata": {},
     "output_type": "display_data"
    }
   ],
   "source": [
    "display(calendar_june2018.head())\n",
    "display(calendar_june2019.head())"
   ]
  },
  {
   "cell_type": "code",
   "execution_count": 4,
   "metadata": {},
   "outputs": [
    {
     "name": "stdout",
     "output_type": "stream",
     "text": [
      "**Summary of June 2018 dataframe features:**\n",
      "<class 'pandas.core.frame.DataFrame'>\n",
      "RangeIndex: 17351735 entries, 0 to 17351734\n",
      "Data columns (total 4 columns):\n",
      " #   Column      Dtype \n",
      "---  ------      ----- \n",
      " 0   listing_id  int64 \n",
      " 1   date        object\n",
      " 2   available   object\n",
      " 3   price       object\n",
      "dtypes: int64(1), object(3)\n",
      "memory usage: 529.5+ MB\n",
      "None\n",
      "\n",
      "**Summary of June 2019 dataframe features:**\n",
      "<class 'pandas.core.frame.DataFrame'>\n",
      "RangeIndex: 17812547 entries, 0 to 17812546\n",
      "Data columns (total 7 columns):\n",
      " #   Column          Dtype  \n",
      "---  ------          -----  \n",
      " 0   listing_id      int64  \n",
      " 1   date            object \n",
      " 2   available       object \n",
      " 3   price           object \n",
      " 4   adjusted_price  object \n",
      " 5   minimum_nights  float64\n",
      " 6   maximum_nights  float64\n",
      "dtypes: float64(2), int64(1), object(4)\n",
      "memory usage: 951.3+ MB\n",
      "None\n"
     ]
    }
   ],
   "source": [
    "print('**Summary of June 2018 dataframe features:**')\n",
    "print(calendar_june2018.info())\n",
    "#print(calendar_june2018.describe(include='all'))\n",
    "print('\\n**Summary of June 2019 dataframe features:**')\n",
    "print(calendar_june2019.info())\n",
    "#print(calendar_june2019.describe(include='all'))"
   ]
  },
  {
   "cell_type": "markdown",
   "metadata": {},
   "source": [
    "There are three additional features in the 2019 data set that do not exist in the 2018 data set, but are not really relevant to our analysis here (and so will be dropped in the Data Preparation section).  Thus, we are left with the following features. \n",
    "\n",
    "**Features of interest:**\n",
    "\n",
    "* **listing_id** - unique identifier for the listing\n",
    "* **date** - specific date on the calendar (e.g. 2019-06-03)\n",
    "* **available** - whether the listing is available or not on the given date (t or f)\n",
    "* **price** - original price of listing in \\$\n",
    "\n",
    "Let's take a closer look at our features of interest, starting with the number of unique listings and date ranges for both calendar dataframes."
   ]
  },
  {
   "cell_type": "code",
   "execution_count": 5,
   "metadata": {},
   "outputs": [
    {
     "name": "stdout",
     "output_type": "stream",
     "text": [
      "There are 47539 unique listings from 2018-06-03 to 2019-06-04.\n",
      "There are 48801 unique listings from 2019-06-02 to 2020-06-01.\n"
     ]
    }
   ],
   "source": [
    "print('There are {} unique listings from {} to {}.'\n",
    "      .format(calendar_june2018.listing_id.nunique(),\n",
    "              calendar_june2018.date.min(), calendar_june2018.date.max()))\n",
    "print('There are {} unique listings from {} to {}.'\n",
    "      .format(calendar_june2019.listing_id.nunique(),\n",
    "              calendar_june2019.date.min(), calendar_june2019.date.max()))"
   ]
  },
  {
   "cell_type": "markdown",
   "metadata": {},
   "source": [
    "Each calendar dataset covers approximately one year worth of data for the following year.  We will want to convert the **date** feature to a datetime data type in the Data Preparation section below."
   ]
  },
  {
   "cell_type": "code",
   "execution_count": 6,
   "metadata": {},
   "outputs": [
    {
     "name": "stdout",
     "output_type": "stream",
     "text": [
      "Distinct values of \"available\" feature in 2018 dataset:  ['f' 't']\n",
      "Distinct values of \"available\" feature in 2019 dataset:  ['f' 't']\n"
     ]
    }
   ],
   "source": [
    "# Unique values for available feature\n",
    "print('Distinct values of \"available\" feature in 2018 dataset: ', calendar_june2018.available.unique())\n",
    "print('Distinct values of \"available\" feature in 2019 dataset: ', calendar_june2019.available.unique())"
   ]
  },
  {
   "cell_type": "markdown",
   "metadata": {},
   "source": [
    "The **available** feature in both datasets is of boolean-type, where \"f\" means that the listing is not available for that given day, while \"t\" means that the listing is available for that given day. We should convert these to 0 and 1, respectively in the Data Preparation section below."
   ]
  },
  {
   "cell_type": "code",
   "execution_count": 7,
   "metadata": {},
   "outputs": [
    {
     "name": "stdout",
     "output_type": "stream",
     "text": [
      "Feature(s) with missing values in 2018 dataset:  ['price']\n",
      "Feature(s) with missing values in 2019 dataset:  ['minimum_nights', 'maximum_nights']\n"
     ]
    }
   ],
   "source": [
    "# Features with missing values\n",
    "print('Feature(s) with missing values in 2018 dataset: ', calendar_june2018.columns[calendar_june2018.isnull().any()].tolist())\n",
    "print('Feature(s) with missing values in 2019 dataset: ', calendar_june2019.columns[calendar_june2019.isnull().any()].tolist())"
   ]
  },
  {
   "cell_type": "markdown",
   "metadata": {},
   "source": [
    "The only feature with missing values in the 2018 dataset is **price**, while the two features with missing values in the 2019 dataset are ones that are not relevant in this analysis i.e. we can ignore them here. Let's take a look at the proportion of missing data for **price** and check if it is perhaps related to the availability of the listing or truly missing data. "
   ]
  },
  {
   "cell_type": "code",
   "execution_count": 8,
   "metadata": {},
   "outputs": [
    {
     "name": "stdout",
     "output_type": "stream",
     "text": [
      "Data Completeness\\Cleanliness Checks:\n",
      "******************************************\n",
      "2018 Data:\n",
      "- Percentage of rows in the dataset with a missing price: 71.234% (n = 12360337 rows)\n",
      "- Percentage of rows where an available listing has a missing price (indicating incomplete data): 0.0%\n",
      "- Percentage of unique listings where no price is found in the dataset: 37.893% (n = 18014 listings)\n",
      "\n",
      "- Number of rows with a listing price of $0: 362\n",
      "- Number of rows where an available listing has a price of $0 (indicating unclean data): 362\n",
      "******************************************\n",
      "2019 Data:\n",
      "- Number of rows with a listing price of $0: 730 (n = 2 listings)\n",
      "- Number of rows where an available listing has a price of $0 (indicating unclean data): 726\n"
     ]
    }
   ],
   "source": [
    "# Percent of missing prices per listing\n",
    "grp_null_price = calendar_june2018.groupby('listing_id').apply(lambda x: x.price.isnull().sum()/len(x)).reset_index()\n",
    "grp_null_price.columns = ['listing_id', 'perc_null_price']\n",
    "# Listings where price is ALWAYS null\n",
    "no_price = grp_null_price[grp_null_price['perc_null_price'] == 1.0]\n",
    "\n",
    "# Data completeness and cleanliness checks:\n",
    "print('Data Completeness\\Cleanliness Checks:')\n",
    "print('******************************************')\n",
    "print('2018 Data:')\n",
    "print('- Percentage of rows in the dataset with a missing price: {:.3f}% (n = {} rows)'\n",
    "      .format(calendar_june2018['price'].isna().mean() * 100, calendar_june2018['price'].isna().sum()))\n",
    "print('- Percentage of rows where an available listing has a missing price (indicating incomplete data): {}%'\n",
    "      .format(((calendar_june2018['price'].isna()) & (calendar_june2018['available'] == 't')).mean()*100))\n",
    "print('- Percentage of unique listings where no price is found in the dataset: {:.3f}% (n = {} listings)'\n",
    "      .format(no_price.shape[0]/calendar_june2018.listing_id.nunique()*100, no_price['listing_id'].nunique()))\n",
    "print('\\n- Number of rows with a listing price of $0: {}'\n",
    "      .format(len(calendar_june2018[calendar_june2018['price'] == '$0.00'])))\n",
    "print('- Number of rows where an available listing has a price of $0 (indicating unclean data): {}'\n",
    "      .format(len(calendar_june2018[(calendar_june2018['price'] == '$0.00') & (calendar_june2018['available'] == 't')])))\n",
    "\n",
    "print('******************************************')\n",
    "print('2019 Data:')\n",
    "print('- Number of rows with a listing price of $0: {} (n = {} listings)'\n",
    "      .format(len(calendar_june2019[calendar_june2019['price'] == '$0.00']), \n",
    "              calendar_june2019[(calendar_june2019['price'] == '$0.00') & (calendar_june2019['available'] == 't')]['listing_id'].nunique()))\n",
    "print('- Number of rows where an available listing has a price of $0 (indicating unclean data): {}'\n",
    "      .format(len(calendar_june2019[(calendar_june2019['price'] == '$0.00') & (calendar_june2019['available'] == 't')])))"
   ]
  },
  {
   "cell_type": "code",
   "execution_count": 9,
   "metadata": {},
   "outputs": [
    {
     "name": "stdout",
     "output_type": "stream",
     "text": [
      "Listings with a price of \"$0\" in 2019 dataset:  [20933849, 28107839]\n"
     ]
    }
   ],
   "source": [
    "# Which two listings in 2019 dataset have price = $0\n",
    "print('Listings with a price of \"$0\" in 2019 dataset: ', calendar_june2019[(calendar_june2019['price'] == '$0.00') & (calendar_june2019['available'] == 't')]['listing_id'].unique().tolist())"
   ]
  },
  {
   "cell_type": "markdown",
   "metadata": {},
   "source": [
    "A little over 70% of the 2018 data contains a missing price which is *quite* substantial, but after taking a closer look, all listings marked as unavailable also have a missing price.  It's possible that the price was intentionally left out for unavailable listings (and I see this same pattern in older data sets of prior months/years for NYC), but this is *not* the case for the 2019 data set where the price still exists for unavailable listings.  Due to this discrepancy and to keep things simple, we will only be using the 2019 dataset when exploring pricing trends for a full calendar year.\n",
    "\n",
    "This feature will also need some cleanup/attention: the \"\\$\" character in the values should be converted to a numeric, and the rows with a listing price of &dollar;0 should be dropped when looking at pricing trends for the 2019 dataset.\n",
    "\n",
    "#### Listings Dataset."
   ]
  },
  {
   "cell_type": "code",
   "execution_count": 10,
   "metadata": {},
   "outputs": [
    {
     "name": "stdout",
     "output_type": "stream",
     "text": [
      "There are 106 features and 48801 unique listings in the 2019 listings dataset.\n"
     ]
    }
   ],
   "source": [
    "# Load in the 2019 listings csv file\n",
    "listings_june2019 = pd.read_csv('data/listings_june2019.csv', low_memory = False)\n",
    "\n",
    "print('There are {} features and {} unique listings in the 2019 listings dataset.'\n",
    "      .format(len(listings_june2019.columns), listings_june2019['id'].nunique()))"
   ]
  },
  {
   "cell_type": "markdown",
   "metadata": {},
   "source": [
    "Of these 106 features in this dataset, we only care about three.\n",
    "\n",
    "**Features of interest:**\n",
    "\n",
    "* **id** - unique identifier for the listing\n",
    "* **neighbourhood_cleansed** - the neighbourhood location of the listing\n",
    "* **neighbourhood_group_cleansed** - the neighbourhood group (i.e. borough) location of the listing\n",
    "\n",
    "We will want to map these two neighbourhood features to the `calendar` dataset using the listing ID feature (called \"id\" here)"
   ]
  },
  {
   "cell_type": "code",
   "execution_count": 11,
   "metadata": {},
   "outputs": [
    {
     "data": {
      "text/html": [
       "<div>\n",
       "<style scoped>\n",
       "    .dataframe tbody tr th:only-of-type {\n",
       "        vertical-align: middle;\n",
       "    }\n",
       "\n",
       "    .dataframe tbody tr th {\n",
       "        vertical-align: top;\n",
       "    }\n",
       "\n",
       "    .dataframe thead th {\n",
       "        text-align: right;\n",
       "    }\n",
       "</style>\n",
       "<table border=\"1\" class=\"dataframe\">\n",
       "  <thead>\n",
       "    <tr style=\"text-align: right;\">\n",
       "      <th></th>\n",
       "      <th>id</th>\n",
       "      <th>neighbourhood_cleansed</th>\n",
       "      <th>neighbourhood_group_cleansed</th>\n",
       "    </tr>\n",
       "  </thead>\n",
       "  <tbody>\n",
       "    <tr>\n",
       "      <th>0</th>\n",
       "      <td>2539</td>\n",
       "      <td>Kensington</td>\n",
       "      <td>Brooklyn</td>\n",
       "    </tr>\n",
       "    <tr>\n",
       "      <th>1</th>\n",
       "      <td>2595</td>\n",
       "      <td>Midtown</td>\n",
       "      <td>Manhattan</td>\n",
       "    </tr>\n",
       "    <tr>\n",
       "      <th>2</th>\n",
       "      <td>3647</td>\n",
       "      <td>Harlem</td>\n",
       "      <td>Manhattan</td>\n",
       "    </tr>\n",
       "    <tr>\n",
       "      <th>3</th>\n",
       "      <td>3831</td>\n",
       "      <td>Clinton Hill</td>\n",
       "      <td>Brooklyn</td>\n",
       "    </tr>\n",
       "    <tr>\n",
       "      <th>4</th>\n",
       "      <td>4989</td>\n",
       "      <td>Hell's Kitchen</td>\n",
       "      <td>Manhattan</td>\n",
       "    </tr>\n",
       "  </tbody>\n",
       "</table>\n",
       "</div>"
      ],
      "text/plain": [
       "     id neighbourhood_cleansed neighbourhood_group_cleansed\n",
       "0  2539             Kensington                     Brooklyn\n",
       "1  2595                Midtown                    Manhattan\n",
       "2  3647                 Harlem                    Manhattan\n",
       "3  3831           Clinton Hill                     Brooklyn\n",
       "4  4989         Hell's Kitchen                    Manhattan"
      ]
     },
     "execution_count": 11,
     "metadata": {},
     "output_type": "execute_result"
    }
   ],
   "source": [
    "listings_june2019[['id', 'neighbourhood_cleansed', 'neighbourhood_group_cleansed']].head()"
   ]
  },
  {
   "cell_type": "markdown",
   "metadata": {},
   "source": [
    "Now that we have an idea of what the dataset looks like, the next step in the CRISP-DM process is to prep the data for analysis. We may want to brew a fresh pot of coffee for this :)\n",
    "\n",
    "---\n",
    "\n",
    "## 3. Data Preparation\n",
    "\n",
    "**Time for some wrangling!**\n",
    "\n",
    "From a high-level, we will do two things in this section:\n",
    "1. Combine the 2018 and 2019 data for `calender` and `listings` datasets to use later for some time-series analysis.\n",
    "2. Clean up `calender` dataset - data type conversions, handle missing values and categorical features properly, etc.\n",
    "\n",
    "### 3.1 Combining the datasets\n",
    "\n",
    "* Things to do:\n",
    "    1. Remove irrelevant columns from 2019 data sets that do not exist in 2018 data sets.\n",
    "    2. Concatenate the csv's to get a complete data set from June 2018-2020 for both calendar and listings datasets.\n",
    "\n",
    "**Calendar dataset**"
   ]
  },
  {
   "cell_type": "code",
   "execution_count": 12,
   "metadata": {},
   "outputs": [
    {
     "name": "stdout",
     "output_type": "stream",
     "text": [
      "There are a total of 730 days and 67403 unique listings in the combined Calendar dataset (2018-06-03 to 2020-06-01).\n"
     ]
    }
   ],
   "source": [
    "# Load in the Calendar csv files\n",
    "calendar_june2018 = pd.read_csv('data/calendar_june2018.csv')\n",
    "calendar_june2019 = pd.read_csv('data/calendar_june2019.csv')\n",
    "\n",
    "# Remove the three additional columns from calendar_june2019 that do not exist in calendar_june2018\n",
    "calendar_june2019 = calendar_june2019.drop(['adjusted_price', 'minimum_nights', 'maximum_nights'], axis = 1)\n",
    "\n",
    "# Remove duplicate records on overlapping dates (2019-06-02, 2019-06-03, 2019-06-04), keeping the last occurrence (which contains price instead of NaN)\n",
    "# Concatenate the csv's to get complete calendar dataset from June 2018-2020\n",
    "calendar = pd.concat([calendar_june2018, calendar_june2019], ignore_index = True).drop_duplicates(subset = ['date', 'listing_id', 'available'], keep = 'last').reset_index(drop = True)\n",
    "\n",
    "print('There are a total of {} days and {} unique listings in the combined Calendar dataset ({} to {}).'\n",
    "      .format(calendar.date.nunique(), calendar.listing_id.nunique(), \n",
    "              calendar.date.min(), calendar.date.max()))"
   ]
  },
  {
   "cell_type": "markdown",
   "metadata": {},
   "source": [
    "**Listings dataset**"
   ]
  },
  {
   "cell_type": "code",
   "execution_count": 13,
   "metadata": {},
   "outputs": [
    {
     "name": "stdout",
     "output_type": "stream",
     "text": [
      "There are a total of 67404 unique listings in the combined Listings dataset.\n"
     ]
    }
   ],
   "source": [
    "# Load in the Listings csv files\n",
    "listings_june2018 = pd.read_csv('data/listings_june2018.csv', low_memory = False)\n",
    "listings_june2019 = pd.read_csv('data/listings_june2019.csv', low_memory = False)\n",
    "\n",
    "# Remove the ten additional columns from listings_june2019 that do not exist in listings_june2018\n",
    "diff_cols = listings_june2019.columns.difference(listings_june2018.columns)\n",
    "listings_june2019 = listings_june2019.drop(listings_june2019[diff_cols], axis = 1)\n",
    "\n",
    "# Remove duplicate records on overlapping dates (2019-06-02, 2019-06-03, 2019-06-04)\n",
    "# Concatenate the csv's to get complete listing dataset from June 2018-2020\n",
    "listings = pd.concat([listings_june2018, listings_june2019], ignore_index = True).drop_duplicates(keep = 'last').reset_index(drop = True)\n",
    "\n",
    "# Rename id (from listings) to listing_id for consistency.\n",
    "listings = listings.rename(columns = {\"id\": \"listing_id\"})\n",
    "listings_june2018 = listings_june2018.rename(columns = {\"id\": \"listing_id\"})\n",
    "listings_june2019 = listings_june2019.rename(columns = {\"id\": \"listing_id\"})\n",
    "\n",
    "print('There are a total of {} unique listings in the combined Listings dataset.'.format(listings.listing_id.nunique()))"
   ]
  },
  {
   "cell_type": "markdown",
   "metadata": {},
   "source": [
    "### 3.2 Data Cleansing\n",
    "\n",
    "**Calendar dataset** \n",
    "\n",
    "* **Things to do:**\n",
    "   - Remove any rows that a **price** of \\$0 (dirty data).\n",
    "   - Convert the **available** feature to 0 if not available and 1 if available.\n",
    "   - Remove the '$' character in the **price** feature and convert it to a numeric.\n",
    "   - Convert the **date** feature to a datetime data type and add corresponding **day_of_week**, **month**, and **year** features to each record.\n",
    "   - Pull the **neighbourhood_group_cleansed** feature from the `listings` dataset and add as new feature for each listing."
   ]
  },
  {
   "cell_type": "code",
   "execution_count": 14,
   "metadata": {},
   "outputs": [
    {
     "data": {
      "text/html": [
       "<div>\n",
       "<style scoped>\n",
       "    .dataframe tbody tr th:only-of-type {\n",
       "        vertical-align: middle;\n",
       "    }\n",
       "\n",
       "    .dataframe tbody tr th {\n",
       "        vertical-align: top;\n",
       "    }\n",
       "\n",
       "    .dataframe thead th {\n",
       "        text-align: right;\n",
       "    }\n",
       "</style>\n",
       "<table border=\"1\" class=\"dataframe\">\n",
       "  <thead>\n",
       "    <tr style=\"text-align: right;\">\n",
       "      <th></th>\n",
       "      <th>listing_id</th>\n",
       "      <th>date</th>\n",
       "      <th>available</th>\n",
       "      <th>price</th>\n",
       "    </tr>\n",
       "  </thead>\n",
       "  <tbody>\n",
       "    <tr>\n",
       "      <th>0</th>\n",
       "      <td>182177</td>\n",
       "      <td>2019-06-04</td>\n",
       "      <td>f</td>\n",
       "      <td>NaN</td>\n",
       "    </tr>\n",
       "    <tr>\n",
       "      <th>1</th>\n",
       "      <td>182177</td>\n",
       "      <td>2019-06-02</td>\n",
       "      <td>t</td>\n",
       "      <td>$136.00</td>\n",
       "    </tr>\n",
       "    <tr>\n",
       "      <th>2</th>\n",
       "      <td>182177</td>\n",
       "      <td>2019-06-01</td>\n",
       "      <td>t</td>\n",
       "      <td>$136.00</td>\n",
       "    </tr>\n",
       "    <tr>\n",
       "      <th>3</th>\n",
       "      <td>182177</td>\n",
       "      <td>2019-05-31</td>\n",
       "      <td>t</td>\n",
       "      <td>$136.00</td>\n",
       "    </tr>\n",
       "    <tr>\n",
       "      <th>4</th>\n",
       "      <td>182177</td>\n",
       "      <td>2019-05-30</td>\n",
       "      <td>t</td>\n",
       "      <td>$136.00</td>\n",
       "    </tr>\n",
       "  </tbody>\n",
       "</table>\n",
       "</div>"
      ],
      "text/plain": [
       "   listing_id        date available    price\n",
       "0      182177  2019-06-04         f      NaN\n",
       "1      182177  2019-06-02         t  $136.00\n",
       "2      182177  2019-06-01         t  $136.00\n",
       "3      182177  2019-05-31         t  $136.00\n",
       "4      182177  2019-05-30         t  $136.00"
      ]
     },
     "execution_count": 14,
     "metadata": {},
     "output_type": "execute_result"
    }
   ],
   "source": [
    "calendar.head()"
   ]
  },
  {
   "cell_type": "code",
   "execution_count": 15,
   "metadata": {},
   "outputs": [],
   "source": [
    "# Function that cleans a calendar dataset\n",
    "def clean_cal(df):\n",
    "    \"\"\"\n",
    "    Input: The (calendar) dataframe to be cleaned.\n",
    "    This function does the following:\n",
    "        - removes any rows that have a price of $0\n",
    "        - converts the available feature to 0 if not available and 1 if available\n",
    "        - removes the '$' character in the price feature and converts it to a numeric\n",
    "        - TEMP: replace the missing values in price with the mean price per listing\n",
    "        - converts the date feature to a datetime data type\n",
    "        - adds the corresponding day_of_week, month, and year features from date to each record     \n",
    "    Output: A clean (calendar) dataframe.\n",
    "    \n",
    "    \"\"\"\n",
    "\n",
    "    # Remove any rows that have a price of $0 (removes two listings total).\n",
    "    df.drop(df[df['price'] == '$0.00'].index, inplace = True)\n",
    "\n",
    "    # Convert the available feature to 0 if not available and 1 if available.\n",
    "    df.loc[:,'available'] = df['available'].map({'t':1, 'f':0})\n",
    "\n",
    "    # Remove the '$' character in the price feature and convert it to a numeric.\n",
    "    df.loc[:,'price'] = df['price'].replace('[\\$,]', '', regex = True).astype(float)\n",
    "    \n",
    "    # Convert the date feature to a datetime data type.\n",
    "    df.loc[:,'date'] = pd.to_datetime(df['date'])\n",
    "\n",
    "    # Add corresponding day_of_week feature to each record.\n",
    "    df.loc[:,'day_of_week'] = df['date'].dt.day_name()\n",
    "    # Add corresponding month feature to each record.\n",
    "    df.loc[:,'month'] = df['date'].dt.strftime('%B')\n",
    "    # Add corresponding year feature to each record.\n",
    "    df.loc[:,'year'] = df['date'].dt.year.astype(str)\n",
    "\n",
    "    return df\n",
    "\n",
    "\n",
    "# Function that maps neighbourhood features from one dataframe to another\n",
    "def map_neighbourhood(df_cal, df_list):\n",
    "    \"\"\"\n",
    "    Input: df_cal is the dataframe that needs the neighbourhood features.\n",
    "           df_list is the dataframe that already has the neighbourhood features.\n",
    "    This function creates a mapping between listing_id and neighbourhood/neighbourhood groups from the listings df \n",
    "    and then maps those new features to the calendar df.\n",
    "    Output: The first dataframe (df_cal) containing the mapped neighbourhood features.\n",
    "    \n",
    "    \"\"\"\n",
    "    \n",
    "    # Create mapping between listing_id and neighbourhood from listings df\n",
    "    neighb_mapping = dict(df_list[['listing_id', 'neighbourhood_cleansed']].values)\n",
    "    # Map to cal df\n",
    "    df_cal.loc[:,'neighbourhood'] = df_cal['listing_id'].map(neighb_mapping)\n",
    "\n",
    "    # Create mapping between listing_id and neighbourhood group from listings df\n",
    "    neighb_group_mapping = dict(df_list[['listing_id', 'neighbourhood_group_cleansed']].values)\n",
    "    # Map to cal df\n",
    "    df_cal.loc[:,'neighbourhood_group'] = df_cal['listing_id'].map(neighb_group_mapping)\n",
    "\n",
    "    return df_cal"
   ]
  },
  {
   "cell_type": "code",
   "execution_count": 16,
   "metadata": {},
   "outputs": [],
   "source": [
    "# Call clean_cal() function to clean up the individual and combined calendar datasets\n",
    "cal_clean2018 = clean_cal(calendar_june2018)\n",
    "cal_clean2019 = clean_cal(calendar_june2019)\n",
    "calendar_clean = clean_cal(calendar)\n",
    "\n",
    "# Call map_neighbourhood() function to map the neighbourhood features from the listings datasets to the calender datasets.\n",
    "cal_final2018 = map_neighbourhood(cal_clean2018, listings_june2018)\n",
    "cal_final2019 = map_neighbourhood(cal_clean2019, listings_june2019)\n",
    "calendar_final = map_neighbourhood(calendar_clean, listings)"
   ]
  },
  {
   "cell_type": "code",
   "execution_count": 17,
   "metadata": {},
   "outputs": [
    {
     "data": {
      "text/html": [
       "<div>\n",
       "<style scoped>\n",
       "    .dataframe tbody tr th:only-of-type {\n",
       "        vertical-align: middle;\n",
       "    }\n",
       "\n",
       "    .dataframe tbody tr th {\n",
       "        vertical-align: top;\n",
       "    }\n",
       "\n",
       "    .dataframe thead th {\n",
       "        text-align: right;\n",
       "    }\n",
       "</style>\n",
       "<table border=\"1\" class=\"dataframe\">\n",
       "  <thead>\n",
       "    <tr style=\"text-align: right;\">\n",
       "      <th></th>\n",
       "      <th>listing_id</th>\n",
       "      <th>date</th>\n",
       "      <th>available</th>\n",
       "      <th>price</th>\n",
       "      <th>day_of_week</th>\n",
       "      <th>month</th>\n",
       "      <th>year</th>\n",
       "      <th>neighbourhood</th>\n",
       "      <th>neighbourhood_group</th>\n",
       "    </tr>\n",
       "  </thead>\n",
       "  <tbody>\n",
       "    <tr>\n",
       "      <th>0</th>\n",
       "      <td>182177</td>\n",
       "      <td>2019-06-04</td>\n",
       "      <td>0</td>\n",
       "      <td>NaN</td>\n",
       "      <td>Tuesday</td>\n",
       "      <td>June</td>\n",
       "      <td>2019</td>\n",
       "      <td>Allerton</td>\n",
       "      <td>Bronx</td>\n",
       "    </tr>\n",
       "    <tr>\n",
       "      <th>1</th>\n",
       "      <td>182177</td>\n",
       "      <td>2019-06-02</td>\n",
       "      <td>1</td>\n",
       "      <td>136.0</td>\n",
       "      <td>Sunday</td>\n",
       "      <td>June</td>\n",
       "      <td>2019</td>\n",
       "      <td>Allerton</td>\n",
       "      <td>Bronx</td>\n",
       "    </tr>\n",
       "    <tr>\n",
       "      <th>2</th>\n",
       "      <td>182177</td>\n",
       "      <td>2019-06-01</td>\n",
       "      <td>1</td>\n",
       "      <td>136.0</td>\n",
       "      <td>Saturday</td>\n",
       "      <td>June</td>\n",
       "      <td>2019</td>\n",
       "      <td>Allerton</td>\n",
       "      <td>Bronx</td>\n",
       "    </tr>\n",
       "    <tr>\n",
       "      <th>3</th>\n",
       "      <td>182177</td>\n",
       "      <td>2019-05-31</td>\n",
       "      <td>1</td>\n",
       "      <td>136.0</td>\n",
       "      <td>Friday</td>\n",
       "      <td>May</td>\n",
       "      <td>2019</td>\n",
       "      <td>Allerton</td>\n",
       "      <td>Bronx</td>\n",
       "    </tr>\n",
       "    <tr>\n",
       "      <th>4</th>\n",
       "      <td>182177</td>\n",
       "      <td>2019-05-30</td>\n",
       "      <td>1</td>\n",
       "      <td>136.0</td>\n",
       "      <td>Thursday</td>\n",
       "      <td>May</td>\n",
       "      <td>2019</td>\n",
       "      <td>Allerton</td>\n",
       "      <td>Bronx</td>\n",
       "    </tr>\n",
       "  </tbody>\n",
       "</table>\n",
       "</div>"
      ],
      "text/plain": [
       "   listing_id       date  available  price day_of_week month  year  \\\n",
       "0      182177 2019-06-04          0    NaN     Tuesday  June  2019   \n",
       "1      182177 2019-06-02          1  136.0      Sunday  June  2019   \n",
       "2      182177 2019-06-01          1  136.0    Saturday  June  2019   \n",
       "3      182177 2019-05-31          1  136.0      Friday   May  2019   \n",
       "4      182177 2019-05-30          1  136.0    Thursday   May  2019   \n",
       "\n",
       "  neighbourhood neighbourhood_group  \n",
       "0      Allerton               Bronx  \n",
       "1      Allerton               Bronx  \n",
       "2      Allerton               Bronx  \n",
       "3      Allerton               Bronx  \n",
       "4      Allerton               Bronx  "
      ]
     },
     "execution_count": 17,
     "metadata": {},
     "output_type": "execute_result"
    }
   ],
   "source": [
    "# Double check data looks ok\n",
    "calendar_final.head()"
   ]
  },
  {
   "cell_type": "markdown",
   "metadata": {},
   "source": [
    "So after cleaning, we are left with:\n",
    "* numerical features: **listing_id**, **available**, **price**\n",
    "* categorical features: **day_of_week**, **month**, **year**, **neighbourhood**, and **neighbourhood_group**\n",
    "* datetime feature: **date**\n",
    "\n",
    "---\n",
    "\n",
    "## Exploratory Analysis\n",
    "\n",
    "Now that our data is prepped and ready to go, let's address our exploratory analysis questions:\n",
    "-  **Which NYC areas have the most listings?**\n",
    "-  **What does availability for listings look like throughout the year?**\n",
    "-  **How do listing prices vary by location?**\n",
    "-  **How do listing prices change throughout the year?**\n",
    "\n",
    "### Availability analysis.\n",
    "\n",
    "**- QUESTION: Which NYC areas have the most listings?**\n",
    "\n",
    "Let's take a look at the number of unique listings for each borough (i.e. 'neighbourhood_group') and neighbourhood (which is more granular)."
   ]
  },
  {
   "cell_type": "code",
   "execution_count": 18,
   "metadata": {},
   "outputs": [
    {
     "data": {
      "text/html": [
       "<iframe\n",
       "    scrolling=\"no\"\n",
       "    width=\"100%\"\n",
       "    height=\"545px\"\n",
       "    src=\"iframe_figures/figure_18.html\"\n",
       "    frameborder=\"0\"\n",
       "    allowfullscreen\n",
       "></iframe>\n"
      ]
     },
     "metadata": {},
     "output_type": "display_data"
    }
   ],
   "source": [
    "# Number of unique listings by borough for each dataset\n",
    "cal_bor_all = calendar_final[['listing_id', 'neighbourhood_group', 'date']].copy()\n",
    "nunique_all = cal_bor_all.groupby('neighbourhood_group')['listing_id'].nunique().reset_index()\n",
    "nunique_all.columns = ['neighbourhood_group', 'nunique']\n",
    "cal_bor2018 = cal_final2018[['listing_id', 'neighbourhood_group', 'date']].copy()\n",
    "nunique_2018 = cal_bor2018.groupby('neighbourhood_group')['listing_id'].nunique().reset_index()\n",
    "nunique_2018.columns = ['neighbourhood_group', 'nunique']\n",
    "cal_bor2019 = cal_final2019[['listing_id', 'neighbourhood_group', 'date']].copy()\n",
    "nunique_2019 = cal_bor2019.groupby('neighbourhood_group')['listing_id'].nunique().reset_index()\n",
    "nunique_2019.columns = ['neighbourhood_group', 'nunique']\n",
    "\n",
    "# Plot - num of unique listings by borough for individual data sets\n",
    "trace1 = go.Bar(\n",
    "    x = nunique_2018['neighbourhood_group'],\n",
    "    y = nunique_2018['nunique'],\n",
    "    name = '2018 Dataset'\n",
    ")\n",
    "trace2 = go.Bar(\n",
    "    x = nunique_2019['neighbourhood_group'],\n",
    "    y = nunique_2019['nunique'],\n",
    "    name='2019 Dataset'\n",
    ")\n",
    "trace3 = go.Bar(\n",
    "    x = nunique_all['neighbourhood_group'],\n",
    "    y = nunique_all['nunique'],\n",
    "    name='Combined Dataset'\n",
    ")\n",
    "\n",
    "data = [trace1, trace2, trace3]\n",
    "layout = go.Layout(\n",
    "    title = 'Number of Unique Listings by Borough (per dataset)',\n",
    "    yaxis_title = 'Number of Unique Listings',\n",
    "    xaxis_title = 'Borough',\n",
    "    barmode = 'group'\n",
    ")\n",
    "\n",
    "fig = go.Figure(data=data, layout=layout)\n",
    "fig.show(renderer=\"iframe_connected\")"
   ]
  },
  {
   "cell_type": "code",
   "execution_count": 19,
   "metadata": {},
   "outputs": [
    {
     "name": "stdout",
     "output_type": "stream",
     "text": [
      "- Percentage of listings that are in Manhattan and Brooklyn in 2019 dataset: 85.672%\n"
     ]
    }
   ],
   "source": [
    "nunique_2019['percent'] = nunique_2019['nunique']/cal_final2019['listing_id'].nunique()*100\n",
    "print('- Percentage of listings that are in Manhattan and Brooklyn in 2019 dataset: {:.3f}%'\n",
    "      .format(nunique_2019.loc[(nunique_2019['neighbourhood_group'] == 'Manhattan') | (nunique_2019['neighbourhood_group'] == 'Brooklyn'), 'percent'].sum()))"
   ]
  },
  {
   "cell_type": "markdown",
   "metadata": {},
   "source": [
    "It's clear that Manhattan and Brooklyn by far have the most number of listings when comparing the boroughs, comprising of 85% of all listings in the 2019 calendar dataset. Manhattan alone has a total of over 30k unique listings between the 2018 and 2019 datasets, which is not surprising since it is the most popular borough from a tourism perspective."
   ]
  },
  {
   "cell_type": "code",
   "execution_count": 20,
   "metadata": {},
   "outputs": [
    {
     "data": {
      "text/html": [
       "<iframe\n",
       "    scrolling=\"no\"\n",
       "    width=\"100%\"\n",
       "    height=\"545px\"\n",
       "    src=\"iframe_figures/figure_20.html\"\n",
       "    frameborder=\"0\"\n",
       "    allowfullscreen\n",
       "></iframe>\n"
      ]
     },
     "metadata": {},
     "output_type": "display_data"
    }
   ],
   "source": [
    "# Number of unique listings by neighbourhood in Manhattan\n",
    "cal_neigh = cal_final2019[['listing_id', 'neighbourhood', 'neighbourhood_group', 'date']].copy()\n",
    "nunique_manhatt = cal_final2019[cal_final2019['neighbourhood_group'] == 'Manhattan'].groupby('neighbourhood')['listing_id'].nunique().sort_values(ascending=False).reset_index()\n",
    "nunique_manhatt.columns = ['neighbourhood', 'nunique']\n",
    "# Create bins for nunique ranges\n",
    "nunique_manhatt['label'] = pd.cut(nunique_manhatt['nunique'], [0, 99, 500, 1000, 3000],\n",
    "                                  labels=['<100 listings', '100-500 listings', '501-1000 listings', '>1000 listings'])\n",
    "\n",
    "# Plot\n",
    "data = [dict(\n",
    "    type = 'bar',\n",
    "    x = nunique_manhatt['neighbourhood'],\n",
    "    y = nunique_manhatt['nunique'],\n",
    "    transforms = [dict(\n",
    "        type = 'groupby',\n",
    "        groups = nunique_manhatt['label'])]\n",
    ")]\n",
    "\n",
    "layout = dict(\n",
    "    yaxis = dict(title = 'Number of Listings'),\n",
    "    xaxis = dict(title = 'Neighbourhood', automargin = True, tickangle = 45),\n",
    "    title = 'Number of Listings by Neighbourhood (Manhattan)'\n",
    ")\n",
    "\n",
    "fig = dict(data=data, layout=layout)\n",
    "pio.show(fig, validate=False, renderer=\"iframe_connected\")\n",
    "\n",
    "\n",
    "# another way to color bars by label\n",
    "# data = []\n",
    "# for label, label_df in nunique_manhatt.groupby('label'):\n",
    "#     data.append(go.Bar(x=label_df['neighbourhood'],\n",
    "#                        y=label_df['nunique'],\n",
    "#                        name=label))\n",
    "    \n",
    "# layout = go.Layout(\n",
    "#     title = 'Number of Listings by Neighbourhood (Manhattan)',\n",
    "#     yaxis_title = 'Number of Listings',\n",
    "#     xaxis_title = 'Neighbourhood',\n",
    "#     xaxis = dict(categoryorder = 'total descending', automargin = True, tickangle = 45), legend_traceorder = 'reversed'\n",
    "# )\n",
    "\n",
    "# fig = go.Figure(data=data, layout=layout)\n",
    "# fig.show(renderer=\"iframe_connected\")"
   ]
  },
  {
   "cell_type": "markdown",
   "metadata": {},
   "source": [
    "It looks like Harlem (in Uptown Manhattan) has the most number of listings compared to other neighbourhoods, consisting of over 600 more listings than the next neighbourhood with the second highest count, Upper West Side (also Uptown). \n",
    "\n",
    "When considering what general areas of Manhattan - Uptown, Midtown, and Downtown - these neighbourhoods are in, the neighbourhoods that have:\n",
    "* \\> 1000 listings (blue bars in plot) are predominantly in Uptown and Midtown \n",
    "* 500-1000 listings (orange bars in plot) are predominantly Downtown\n",
    "* 100-500 listings (green bars in plot) are predominantly Midtown and Downtown\n",
    "* < 100 listings (red bars in plot) are predominantly Downtown\n",
    "\n",
    "Now that we have an idea on number of listings per area, let's look at some availability trends.\n",
    "\n",
    "**- QUESTION: What does availability for listings look like throughout the year?**"
   ]
  },
  {
   "cell_type": "code",
   "execution_count": 21,
   "metadata": {},
   "outputs": [
    {
     "data": {
      "text/html": [
       "<div>\n",
       "<style scoped>\n",
       "    .dataframe tbody tr th:only-of-type {\n",
       "        vertical-align: middle;\n",
       "    }\n",
       "\n",
       "    .dataframe tbody tr th {\n",
       "        vertical-align: top;\n",
       "    }\n",
       "\n",
       "    .dataframe thead th {\n",
       "        text-align: right;\n",
       "    }\n",
       "</style>\n",
       "<table border=\"1\" class=\"dataframe\">\n",
       "  <thead>\n",
       "    <tr style=\"text-align: right;\">\n",
       "      <th></th>\n",
       "      <th>date</th>\n",
       "      <th>month</th>\n",
       "      <th>year</th>\n",
       "      <th>day_of_week</th>\n",
       "      <th>available</th>\n",
       "      <th>neighbourhood</th>\n",
       "      <th>neighbourhood_group</th>\n",
       "      <th>booked</th>\n",
       "    </tr>\n",
       "  </thead>\n",
       "  <tbody>\n",
       "    <tr>\n",
       "      <th>0</th>\n",
       "      <td>2019-06-04</td>\n",
       "      <td>June</td>\n",
       "      <td>2019</td>\n",
       "      <td>Tuesday</td>\n",
       "      <td>0</td>\n",
       "      <td>Allerton</td>\n",
       "      <td>Bronx</td>\n",
       "      <td>1</td>\n",
       "    </tr>\n",
       "    <tr>\n",
       "      <th>1</th>\n",
       "      <td>2019-06-02</td>\n",
       "      <td>June</td>\n",
       "      <td>2019</td>\n",
       "      <td>Sunday</td>\n",
       "      <td>1</td>\n",
       "      <td>Allerton</td>\n",
       "      <td>Bronx</td>\n",
       "      <td>0</td>\n",
       "    </tr>\n",
       "    <tr>\n",
       "      <th>2</th>\n",
       "      <td>2019-06-01</td>\n",
       "      <td>June</td>\n",
       "      <td>2019</td>\n",
       "      <td>Saturday</td>\n",
       "      <td>1</td>\n",
       "      <td>Allerton</td>\n",
       "      <td>Bronx</td>\n",
       "      <td>0</td>\n",
       "    </tr>\n",
       "    <tr>\n",
       "      <th>3</th>\n",
       "      <td>2019-05-31</td>\n",
       "      <td>May</td>\n",
       "      <td>2019</td>\n",
       "      <td>Friday</td>\n",
       "      <td>1</td>\n",
       "      <td>Allerton</td>\n",
       "      <td>Bronx</td>\n",
       "      <td>0</td>\n",
       "    </tr>\n",
       "    <tr>\n",
       "      <th>4</th>\n",
       "      <td>2019-05-30</td>\n",
       "      <td>May</td>\n",
       "      <td>2019</td>\n",
       "      <td>Thursday</td>\n",
       "      <td>1</td>\n",
       "      <td>Allerton</td>\n",
       "      <td>Bronx</td>\n",
       "      <td>0</td>\n",
       "    </tr>\n",
       "  </tbody>\n",
       "</table>\n",
       "</div>"
      ],
      "text/plain": [
       "        date month  year day_of_week  available neighbourhood  \\\n",
       "0 2019-06-04  June  2019     Tuesday          0      Allerton   \n",
       "1 2019-06-02  June  2019      Sunday          1      Allerton   \n",
       "2 2019-06-01  June  2019    Saturday          1      Allerton   \n",
       "3 2019-05-31   May  2019      Friday          1      Allerton   \n",
       "4 2019-05-30   May  2019    Thursday          1      Allerton   \n",
       "\n",
       "  neighbourhood_group  booked  \n",
       "0               Bronx       1  \n",
       "1               Bronx       0  \n",
       "2               Bronx       0  \n",
       "3               Bronx       0  \n",
       "4               Bronx       0  "
      ]
     },
     "execution_count": 21,
     "metadata": {},
     "output_type": "execute_result"
    }
   ],
   "source": [
    "availability = calendar_final[['date', 'month', 'year', 'day_of_week', 'available', 'neighbourhood', 'neighbourhood_group']].copy()\n",
    "availability['booked'] = availability['available'].map(lambda x: 0 if x == 1 else 1)\n",
    "availability.head()"
   ]
  },
  {
   "cell_type": "code",
   "execution_count": 22,
   "metadata": {},
   "outputs": [
    {
     "data": {
      "text/html": [
       "<iframe\n",
       "    scrolling=\"no\"\n",
       "    width=\"100%\"\n",
       "    height=\"620\"\n",
       "    src=\"iframe_figures/figure_22.html\"\n",
       "    frameborder=\"0\"\n",
       "    allowfullscreen\n",
       "></iframe>\n"
      ]
     },
     "metadata": {},
     "output_type": "display_data"
    }
   ],
   "source": [
    "# Group mean of listings booked by date\n",
    "mean_date_booked = availability.groupby('date')['booked'].mean().reset_index()\n",
    "# Group mean of listings booked by month\n",
    "mean_month_booked = availability.groupby(availability['month'], sort=False)['booked'].mean().reset_index()\n",
    "\n",
    "# Plot\n",
    "fig = make_subplots(rows=2, cols=1, vertical_spacing=0.25)\n",
    "\n",
    "fig.add_trace(go.Scatter(x=mean_date_booked['date'].tolist(), y=(mean_date_booked['booked']*100).tolist(), name=\"% by date\"), row=1, col=1)\n",
    "fig.add_trace(go.Scatter(x=mean_month_booked['month'].tolist(), y=(mean_month_booked['booked']*100).tolist(), name=\"% by month\"), row=2, col=1)\n",
    "\n",
    "#fig.update_xaxes(title_text=\"Date\", row=1, col=1)\n",
    "fig.update_xaxes(row=2, col=1, autorange='reversed')\n",
    "fig.update_yaxes(title_text=\"% Booked\", row=1, col=1)\n",
    "fig.update_yaxes(title_text=\"% Booked\", row=2, col=1)\n",
    "fig.update_layout(height=600, title_text=\"Percent of Booked Airbnb Listings in NYC Over Time\")\n",
    "\n",
    "fig.show(renderer=\"iframe_connected\")"
   ]
  },
  {
   "cell_type": "markdown",
   "metadata": {},
   "source": [
    "When grouping by date, we can see a similar pattern (i.e. seasonality) of average listings booked across the two year time range (June 2018 to June 2020), where the most booked listings are throughout the month of June followed by late December going into the new year. \n",
    "* This makes sense for late December since many people venture in to celebrate Christmas time (and see the famous Rockefeller Center Christmas Tree), as well as to bring in the new year in style for New Years Eve (December 31st).\n",
    "* As for June, this may also be somewhat true empirically since I notice that more tourists start coming out to see the sites during this time, but I'm not totally convinced - this high percentage of bookings may potentially be due to the fact it is the starting month of the June data that was collected/extracted from InsideAirbnb.  It would make sense that the first month of the data pulled has the highest number of bookings since it is the most recent (as in most up-to-date) month of the entire dataset, thus the listings for this month would contain the most number of bookings as compared to say 5 months from the starting month.  \n",
    "    * One way to validate this - which we will below - is to select a completely different month for NYC from Inside Airbnb (perhaps in a different season as well) to see if the highest number of bookings show the beginning of that month as well.\n",
    "\n",
    "On the other hand, we can see the least booked listings occur during late August and late November. This may be reflective of NYC's most hot and humid month (August) and Thanksgiving (end of November) where people tend to spend time at home with family rather than travel for vacation.\n",
    "\n",
    "Let's test our theory about the first of the dataset month by pulling the Inside Airbnb data for the month of October in 2018. "
   ]
  },
  {
   "cell_type": "code",
   "execution_count": 23,
   "metadata": {},
   "outputs": [
    {
     "data": {
      "text/html": [
       "<iframe\n",
       "    scrolling=\"no\"\n",
       "    width=\"100%\"\n",
       "    height=\"545px\"\n",
       "    src=\"iframe_figures/figure_23.html\"\n",
       "    frameborder=\"0\"\n",
       "    allowfullscreen\n",
       "></iframe>\n"
      ]
     },
     "metadata": {},
     "output_type": "display_data"
    }
   ],
   "source": [
    "# Load Oct 2018 cal dataset to test above theory\n",
    "# Load in the Calendar csv files\n",
    "calendar_oct2018 = pd.read_csv('data/calendar_oct2018.csv')\n",
    "\n",
    "# Clean dataset\n",
    "oct_clean2018 = clean_cal(calendar_oct2018)\n",
    "oct_availability = oct_clean2018[['date', 'month', 'year', 'day_of_week', 'available']].copy()\n",
    "oct_availability['booked'] = oct_availability['available'].map(lambda x: 0 if x == 1 else 1)\n",
    "\n",
    "# Group mean of listings booked by date\n",
    "oct_mean_date_booked = oct_availability.groupby('date')['booked'].mean().reset_index()\n",
    "\n",
    "data = [go.Scatter(\n",
    "    x = oct_mean_date_booked['date'], \n",
    "    y = oct_mean_date_booked['booked']*100)]\n",
    "\n",
    "layout = go.Layout(\n",
    "    yaxis = dict(title = '% Booked (log transformed)'),\n",
    "    xaxis = dict(title = 'Date'),\n",
    "    title = 'Percent of Booked Airbnb Listings in NYC from Oct 2018 to Oct 2019')\n",
    "\n",
    "fig = go.Figure(data=data, layout=layout)\n",
    "fig.show(renderer=\"iframe_connected\")"
   ]
  },
  {
   "cell_type": "markdown",
   "metadata": {},
   "source": [
    "This plot confirms my above theory that the first month of the dataset will most likely always have the highest number of listings booked and should be caveated when reporting on the results.\n",
    "\n",
    "Next, let's look at availability more granularly by breaking it down by borough."
   ]
  },
  {
   "cell_type": "code",
   "execution_count": 24,
   "metadata": {},
   "outputs": [
    {
     "data": {
      "text/html": [
       "<iframe\n",
       "    scrolling=\"no\"\n",
       "    width=\"100%\"\n",
       "    height=\"545px\"\n",
       "    src=\"iframe_figures/figure_24.html\"\n",
       "    frameborder=\"0\"\n",
       "    allowfullscreen\n",
       "></iframe>\n"
      ]
     },
     "metadata": {},
     "output_type": "display_data"
    }
   ],
   "source": [
    "# Plot daily mean booked by borough\n",
    "mean_date_booked_bor = availability.groupby(['date', 'neighbourhood_group'])['booked'].mean().reset_index()\n",
    "\n",
    "data = [dict(\n",
    "  type = 'scatter',\n",
    "  x = mean_date_booked_bor['date'],\n",
    "  y = mean_date_booked_bor['booked']*100,\n",
    "  mode = 'lines',\n",
    "  transforms = [dict(\n",
    "    type = 'groupby',\n",
    "    groups = mean_date_booked_bor['neighbourhood_group']\n",
    "  )]\n",
    ")]\n",
    "\n",
    "layout = dict(\n",
    "    yaxis = dict(title = '% Booked'),\n",
    "    xaxis = dict(title = 'Date'),\n",
    "    title = 'Percent of Booked Airbnb Listings by Date and Borough'\n",
    ")\n",
    "\n",
    "fig = dict(data=data, layout=layout)\n",
    "pio.show(fig, validate=False, renderer=\"iframe_connected\")"
   ]
  },
  {
   "cell_type": "code",
   "execution_count": 25,
   "metadata": {},
   "outputs": [
    {
     "data": {
      "text/html": [
       "<iframe\n",
       "    scrolling=\"no\"\n",
       "    width=\"100%\"\n",
       "    height=\"545px\"\n",
       "    src=\"iframe_figures/figure_25.html\"\n",
       "    frameborder=\"0\"\n",
       "    allowfullscreen\n",
       "></iframe>\n"
      ]
     },
     "metadata": {},
     "output_type": "display_data"
    }
   ],
   "source": [
    "# Plot monthly mean booked by borough\n",
    "mean_month_booked_bor = availability.groupby(['month', 'neighbourhood_group'], sort=False)['booked'].mean().reset_index()\n",
    "\n",
    "data = [dict(\n",
    "  type = 'bar',\n",
    "  x = mean_month_booked_bor['month'],\n",
    "  y = mean_month_booked_bor['booked']*100,\n",
    "  transforms = [dict(\n",
    "    type = 'groupby',\n",
    "    groups = mean_month_booked_bor['neighbourhood_group']\n",
    "  )]\n",
    ")]\n",
    "\n",
    "layout = dict(\n",
    "    yaxis = dict(title = '% Booked'),\n",
    "    xaxis = dict(title = 'Month', autorange = 'reversed'),\n",
    "    title = 'Percent of Booked Airbnb Listings by Month and Borough'\n",
    ")\n",
    "\n",
    "fig = dict(data=data, layout=layout)\n",
    "pio.show(fig, validate=False, renderer=\"iframe_connected\")"
   ]
  },
  {
   "cell_type": "markdown",
   "metadata": {},
   "source": [
    "It is no surprise that Manhattan and Brooklyn are the most booked compared to the other boroughs as they tend to be more popular with tourism.  When looking across the two year timeline, Manhattan (green trend line) had the most bookings from June 2018 to June 2019 (2018 dataset), but then interestingly switches places with Brooklyn (orange trend line) starting from June 2019 and consistently remains that way for the next 12 months.  This would indicate that renters are seeking out Brooklyn over Manhattan when booking, it would be interesting to see what the contributing factors of this observation are (for instance rates are generally cheaper in Brooklyn compared to Manhattan).\n",
    "\n",
    "Let's take a look at some pricing trends.\n",
    "\n",
    "### Pricing analysis.\n",
    "\n",
    "Recall, we will use the 2019 `calendar` dataset given that over 70% of the 2018 dataset contained missing prices. Since we are just exploring overall price trends for a typical calendar year, I'm comfortable leaving the 2018 `calendar` dataset out of this analysis since it wouldn't adversely affect our results in this particular case (since we just want to have a general idea for a typical calendar year).\n",
    "\n",
    "**- QUESTION: How do listing prices vary by location?**\n",
    "\n",
    "Let's take a look at the overall distribution of **price** per borough."
   ]
  },
  {
   "cell_type": "code",
   "execution_count": 26,
   "metadata": {},
   "outputs": [
    {
     "name": "stdout",
     "output_type": "stream",
     "text": [
      "Highest price in dataset: $20000.0\n",
      "Lowest price in dataset: $10.0\n"
     ]
    },
    {
     "data": {
      "image/png": "[encoded data removed]",
      "text/plain": [
       "<Figure size 720x576 with 1 Axes>"
      ]
     },
     "metadata": {
      "needs_background": "light"
     },
     "output_type": "display_data"
    },
    {
     "data": {
      "image/png": "[encoded data removed]",
      "text/plain": [
       "<Figure size 720x576 with 1 Axes>"
      ]
     },
     "metadata": {},
     "output_type": "display_data"
    }
   ],
   "source": [
    "# Use the 2019 dataset since it is complete (there are no NaN's for the price feature)\n",
    "pricing = cal_final2019.copy()\n",
    "\n",
    "# Plot distribution of price using boxplot\n",
    "plt.figure(figsize=(10, 8))\n",
    "sns.set(style=\"whitegrid\", font_scale=1.25)\n",
    "ax = sns.boxplot(x = pricing['neighbourhood_group'], \n",
    "                 y = pricing['price'], \n",
    "                 data = pricing)\n",
    "\n",
    "plt.title('Price Distribution by Borough', fontsize=18)\n",
    "plt.xlabel('Borough')\n",
    "plt.ylabel('Price ($)')\n",
    "\n",
    "print('Highest price in dataset: ${}'.format(pricing['price'].max()))\n",
    "print('Lowest price in dataset: ${}'.format(pricing['price'].min()))\n",
    "\n",
    "# Plot distribution of log_price using boxplot\n",
    "plt.figure(figsize=(10, 8))\n",
    "sns.set(style=\"whitegrid\", font_scale=1.25)\n",
    "ax = sns.boxplot(x = pricing['neighbourhood_group'], \n",
    "                 y = np.log10(pricing['price']), \n",
    "                 data = pricing,\n",
    "                 showmeans = True)\n",
    "\n",
    "plt.title('(Log-Transformed) Price Distribution by Borough', fontsize=18)\n",
    "plt.xlabel('Borough')\n",
    "plt.ylabel('log(price)');"
   ]
  },
  {
   "cell_type": "code",
   "execution_count": 27,
   "metadata": {},
   "outputs": [
    {
     "data": {
      "text/html": [
       "<div>\n",
       "<style scoped>\n",
       "    .dataframe tbody tr th:only-of-type {\n",
       "        vertical-align: middle;\n",
       "    }\n",
       "\n",
       "    .dataframe tbody tr th {\n",
       "        vertical-align: top;\n",
       "    }\n",
       "\n",
       "    .dataframe thead th {\n",
       "        text-align: right;\n",
       "    }\n",
       "</style>\n",
       "<table border=\"1\" class=\"dataframe\">\n",
       "  <thead>\n",
       "    <tr style=\"text-align: right;\">\n",
       "      <th></th>\n",
       "      <th>listing_id</th>\n",
       "      <th>date</th>\n",
       "      <th>available</th>\n",
       "      <th>price</th>\n",
       "      <th>day_of_week</th>\n",
       "      <th>month</th>\n",
       "      <th>year</th>\n",
       "      <th>neighbourhood</th>\n",
       "      <th>neighbourhood_group</th>\n",
       "    </tr>\n",
       "  </thead>\n",
       "  <tbody>\n",
       "    <tr>\n",
       "      <th>16746659</th>\n",
       "      <td>34013027</td>\n",
       "      <td>2019-06-03</td>\n",
       "      <td>0</td>\n",
       "      <td>20000.0</td>\n",
       "      <td>Monday</td>\n",
       "      <td>June</td>\n",
       "      <td>2019</td>\n",
       "      <td>Chinatown</td>\n",
       "      <td>Manhattan</td>\n",
       "    </tr>\n",
       "  </tbody>\n",
       "</table>\n",
       "</div>"
      ],
      "text/plain": [
       "          listing_id       date  available    price day_of_week month  year  \\\n",
       "16746659    34013027 2019-06-03          0  20000.0      Monday  June  2019   \n",
       "\n",
       "         neighbourhood neighbourhood_group  \n",
       "16746659     Chinatown           Manhattan  "
      ]
     },
     "metadata": {},
     "output_type": "display_data"
    },
    {
     "data": {
      "text/html": [
       "<div>\n",
       "<style scoped>\n",
       "    .dataframe tbody tr th:only-of-type {\n",
       "        vertical-align: middle;\n",
       "    }\n",
       "\n",
       "    .dataframe tbody tr th {\n",
       "        vertical-align: top;\n",
       "    }\n",
       "\n",
       "    .dataframe thead th {\n",
       "        text-align: right;\n",
       "    }\n",
       "</style>\n",
       "<table border=\"1\" class=\"dataframe\">\n",
       "  <thead>\n",
       "    <tr style=\"text-align: right;\">\n",
       "      <th></th>\n",
       "      <th>listing_id</th>\n",
       "      <th>date</th>\n",
       "      <th>available</th>\n",
       "      <th>price</th>\n",
       "      <th>day_of_week</th>\n",
       "      <th>month</th>\n",
       "      <th>year</th>\n",
       "      <th>neighbourhood</th>\n",
       "      <th>neighbourhood_group</th>\n",
       "    </tr>\n",
       "  </thead>\n",
       "  <tbody>\n",
       "    <tr>\n",
       "      <th>3391684</th>\n",
       "      <td>7003697</td>\n",
       "      <td>2019-06-03</td>\n",
       "      <td>0</td>\n",
       "      <td>10000.0</td>\n",
       "      <td>Monday</td>\n",
       "      <td>June</td>\n",
       "      <td>2019</td>\n",
       "      <td>Astoria</td>\n",
       "      <td>Queens</td>\n",
       "    </tr>\n",
       "    <tr>\n",
       "      <th>6582652</th>\n",
       "      <td>13894339</td>\n",
       "      <td>2019-06-02</td>\n",
       "      <td>0</td>\n",
       "      <td>10000.0</td>\n",
       "      <td>Sunday</td>\n",
       "      <td>June</td>\n",
       "      <td>2019</td>\n",
       "      <td>Greenpoint</td>\n",
       "      <td>Brooklyn</td>\n",
       "    </tr>\n",
       "    <tr>\n",
       "      <th>9648187</th>\n",
       "      <td>20654227</td>\n",
       "      <td>2019-06-07</td>\n",
       "      <td>0</td>\n",
       "      <td>10000.0</td>\n",
       "      <td>Friday</td>\n",
       "      <td>June</td>\n",
       "      <td>2019</td>\n",
       "      <td>Cypress Hills</td>\n",
       "      <td>Brooklyn</td>\n",
       "    </tr>\n",
       "    <tr>\n",
       "      <th>10948990</th>\n",
       "      <td>22436899</td>\n",
       "      <td>2019-06-03</td>\n",
       "      <td>0</td>\n",
       "      <td>10000.0</td>\n",
       "      <td>Monday</td>\n",
       "      <td>June</td>\n",
       "      <td>2019</td>\n",
       "      <td>Upper West Side</td>\n",
       "      <td>Manhattan</td>\n",
       "    </tr>\n",
       "  </tbody>\n",
       "</table>\n",
       "</div>"
      ],
      "text/plain": [
       "          listing_id       date  available    price day_of_week month  year  \\\n",
       "3391684      7003697 2019-06-03          0  10000.0      Monday  June  2019   \n",
       "6582652     13894339 2019-06-02          0  10000.0      Sunday  June  2019   \n",
       "9648187     20654227 2019-06-07          0  10000.0      Friday  June  2019   \n",
       "10948990    22436899 2019-06-03          0  10000.0      Monday  June  2019   \n",
       "\n",
       "            neighbourhood neighbourhood_group  \n",
       "3391684           Astoria              Queens  \n",
       "6582652        Greenpoint            Brooklyn  \n",
       "9648187     Cypress Hills            Brooklyn  \n",
       "10948990  Upper West Side           Manhattan  "
      ]
     },
     "metadata": {},
     "output_type": "display_data"
    }
   ],
   "source": [
    "display(pricing[pricing['price'] == 20000].head())\n",
    "display(pricing[pricing['price'] == 10000].drop_duplicates(subset=['listing_id'], keep='first'))"
   ]
  },
  {
   "cell_type": "markdown",
   "metadata": {},
   "source": [
    "We see *so* many outliers (hello skewness!) in the first boxplot above such that it's \"crushed\" to the point where we can't gain any insight into the actual feature.  After applying a log transform to accomodate for the skewness, we are in a much better place and can at least begin to make some observations such as:\n",
    "* Manhattan has the highest median price out of the five boroughs, followed by Brooklyn.\n",
    "* Mahattan also has the greatest variability for prices as well as the largest outliers, as opposed to the Bronx borough which has the smallest distribution in price.\n",
    "\n",
    "After looking up some of these \"outlier\" listings on Airbnb to confirm their current listed prices, I already see an obvious discrepancy with the most expensive one: the &dollar;20,000 [listing](https://www.airbnb.com/rooms/34013027?source_impression_id=p3_1561861410_N0sl7onEpEYy3OZx) in Chinatown. It's clearly a data entry error since the price is now listed at a much more reasonable rate (< \\$300). We can replace this outlier with the median price of that listing to tidy it up a bit.\n",
    "\n",
    "When checking the \\$10,000 priced listings on AirBnb, the prices are consistent with what's currently posted but they appear to be listings that haven't been updated in awhile (e.g. availability hasn't been updated in two years, 0% response rate, etc.) and are also suspiciously priced too high for what the listing space actually is, for instance:\n",
    "* a private *room* in an apartment in Queens like [this](https://www.airbnb.com/rooms/7003697?source_impression_id=p3_1562307996_XvW8lGy2uj%2FLXSnO)\n",
    "* a one bedroom apartment in Brooklyn like [this](https://www.airbnb.com/rooms/13894339?source_impression_id=p3_1562308407_6bH93X1waQkePsfa)\n",
    "\n",
    "This could possibly be due to whether the host has Smart Pricing (a setting that lets a host set their prices to automatically go up or down based on changes in demand for listings like theirs) turned on or how they have it set up, but that is outside of the scope of this analysis. As a possible solution, we can use `quantile()` to compute the 99th quantile of **price**, and remove these outliers."
   ]
  },
  {
   "cell_type": "code",
   "execution_count": 28,
   "metadata": {},
   "outputs": [
    {
     "data": {
      "text/html": [
       "<div>\n",
       "<style scoped>\n",
       "    .dataframe tbody tr th:only-of-type {\n",
       "        vertical-align: middle;\n",
       "    }\n",
       "\n",
       "    .dataframe tbody tr th {\n",
       "        vertical-align: top;\n",
       "    }\n",
       "\n",
       "    .dataframe thead th {\n",
       "        text-align: right;\n",
       "    }\n",
       "</style>\n",
       "<table border=\"1\" class=\"dataframe\">\n",
       "  <thead>\n",
       "    <tr style=\"text-align: right;\">\n",
       "      <th></th>\n",
       "      <th>listing_id</th>\n",
       "      <th>date</th>\n",
       "      <th>available</th>\n",
       "      <th>price</th>\n",
       "      <th>day_of_week</th>\n",
       "      <th>month</th>\n",
       "      <th>year</th>\n",
       "      <th>neighbourhood</th>\n",
       "      <th>neighbourhood_group</th>\n",
       "    </tr>\n",
       "  </thead>\n",
       "  <tbody>\n",
       "    <tr>\n",
       "      <th>16746659</th>\n",
       "      <td>34013027</td>\n",
       "      <td>2019-06-03</td>\n",
       "      <td>0</td>\n",
       "      <td>377.0</td>\n",
       "      <td>Monday</td>\n",
       "      <td>June</td>\n",
       "      <td>2019</td>\n",
       "      <td>Chinatown</td>\n",
       "      <td>Manhattan</td>\n",
       "    </tr>\n",
       "  </tbody>\n",
       "</table>\n",
       "</div>"
      ],
      "text/plain": [
       "          listing_id       date  available  price day_of_week month  year  \\\n",
       "16746659    34013027 2019-06-03          0  377.0      Monday  June  2019   \n",
       "\n",
       "         neighbourhood neighbourhood_group  \n",
       "16746659     Chinatown           Manhattan  "
      ]
     },
     "metadata": {},
     "output_type": "display_data"
    }
   ],
   "source": [
    "# Replace $20,000 listing (one row) with the median price of that listing id\n",
    "median_price_20k = pricing[pricing['listing_id'] == 34013027]['price'].median()\n",
    "pricing['price'] = np.where(pricing['price'] == 20000, median_price_20k, pricing['price'])\n",
    "display(pricing[(pricing['date'] == '2019-06-03') & (pricing['listing_id'] == 34013027)].head()) \n",
    "\n",
    "# Include only the top 99% of values for 'price' to remove outliers\n",
    "pricing_no_outliers = pricing[pricing['price'] < pricing['price'].quantile(0.99)]"
   ]
  },
  {
   "cell_type": "code",
   "execution_count": 29,
   "metadata": {},
   "outputs": [
    {
     "data": {
      "text/html": [
       "<iframe\n",
       "    scrolling=\"no\"\n",
       "    width=\"100%\"\n",
       "    height=\"545px\"\n",
       "    src=\"iframe_figures/figure_29.html\"\n",
       "    frameborder=\"0\"\n",
       "    allowfullscreen\n",
       "></iframe>\n"
      ]
     },
     "metadata": {},
     "output_type": "display_data"
    }
   ],
   "source": [
    "# Transform 'price' by binning\n",
    "bins = np.arange(0, 1001, step=50)\n",
    "pricing_no_outliers['bin'] = pd.cut(pricing_no_outliers['price'], bins=bins, right=False, labels=bins[:-1])\n",
    "\n",
    "# Get freq per bin\n",
    "perc_bin = pd.DataFrame(pricing_no_outliers['bin'].value_counts(normalize=True, sort=False)*100).reset_index()\n",
    "perc_bin.columns = ['bin', 'perc']\n",
    "\n",
    "# Plot binned feature distribution of 'price' with outliers removed\n",
    "# note: to reduce the size of below fig from MB to KB (huge Series), replaced go.Histogram() with explicit binning and go.Bar()\n",
    "# data = [go.Histogram(x = pricing_no_outliers['price'], histnorm = 'percent', nbinsx = 21)]\n",
    "data = [go.Bar(x = perc_bin['bin'].astype(str), \n",
    "               y = perc_bin['perc'],\n",
    "               name = '',\n",
    "               text = perc_bin['bin'].apply(lambda x: \"${0:.0f}\".format(x)+\" - ${0:.0f}\".format(x+49)),\n",
    "               hovertemplate='Freq: %{y}% <br>' + 'Price: %{text}')]\n",
    "\n",
    "layout = go.Layout(\n",
    "    yaxis = dict(title = '% of rows'),\n",
    "    xaxis = dict(title = 'Price ($)', ticklabelposition='outside left', nticks = perc_bin.index.size),\n",
    "    title = 'Distribution of Price Feature (Excluding Outliers)',\n",
    "    bargap = 0.01)\n",
    "\n",
    "fig = go.Figure(data=data, layout=layout)\n",
    "fig.show(renderer=\"iframe_connected\")"
   ]
  },
  {
   "cell_type": "code",
   "execution_count": 30,
   "metadata": {},
   "outputs": [
    {
     "data": {
      "text/html": [
       "<iframe\n",
       "    scrolling=\"no\"\n",
       "    width=\"100%\"\n",
       "    height=\"545px\"\n",
       "    src=\"iframe_figures/figure_30.html\"\n",
       "    frameborder=\"0\"\n",
       "    allowfullscreen\n",
       "></iframe>\n"
      ]
     },
     "metadata": {},
     "output_type": "display_data"
    }
   ],
   "source": [
    "# Transform 'price' by binning\n",
    "bins = np.arange(0, 1001, step=50)\n",
    "pricing_no_outliers['bin'] = pd.cut(pricing_no_outliers['price'], bins=bins)\n",
    "\n",
    "# Group bins by number of unique listings\n",
    "grp_bin = pricing_no_outliers.groupby('bin', as_index=False).agg(\n",
    "    {\"listing_id\": lambda x: x.nunique()})\n",
    "grp_bin.columns = ['bin', 'nunique']\n",
    "grp_bin['nunique'].fillna(0, inplace=True)\n",
    "grp_bin['bin'] = grp_bin['bin'].astype(str)\n",
    "\n",
    "# Plot number of unique listings for each price range\n",
    "data = [go.Bar(x=grp_bin['bin'], y=grp_bin['nunique'])]\n",
    "\n",
    "layout = go.Layout(\n",
    "    yaxis = dict(title='Number of Unique Listings'),\n",
    "    xaxis = dict(title='Price Range ($)', automargin=True),\n",
    "    title = 'Number of Unique Listings by Price Range')\n",
    "\n",
    "fig = go.Figure(data=data, layout=layout)\n",
    "fig.show(renderer=\"iframe_connected\")"
   ]
  },
  {
   "cell_type": "markdown",
   "metadata": {},
   "source": [
    "The plots above tell us that the majority of NYC listings range between \\$50 and \\$200 per night, most of which fall into the \\$50 to \\$100 price range."
   ]
  },
  {
   "cell_type": "code",
   "execution_count": 31,
   "metadata": {},
   "outputs": [
    {
     "data": {
      "image/png": "[encoded data removed]",
      "text/plain": [
       "<Figure size 720x576 with 1 Axes>"
      ]
     },
     "metadata": {},
     "output_type": "display_data"
    }
   ],
   "source": [
    "# Plot distribution of price by borough\n",
    "plt.figure(figsize=(10, 8))\n",
    "sns.set(style=\"whitegrid\", font_scale=1.25)\n",
    "price_bor = sns.boxplot(x = pricing_no_outliers['neighbourhood_group'], \n",
    "                        y = pricing_no_outliers['price'], \n",
    "                        data = pricing_no_outliers,\n",
    "                        showfliers = False,\n",
    "                        showmeans = True)\n",
    "\n",
    "# Add labels for median values\n",
    "ax = price_bor.axes\n",
    "lines = ax.get_lines()\n",
    "boroughs = ax.get_xticks()\n",
    "\n",
    "for bor in boroughs:\n",
    "    # every 4th line at the interval of 6 is median line\n",
    "    y = round(lines[4+bor*6].get_ydata()[0],1) \n",
    "\n",
    "    ax.text(\n",
    "        bor, \n",
    "        y, \n",
    "        f'{y}', \n",
    "        ha='center', \n",
    "        va='center', \n",
    "        fontweight='bold', \n",
    "        size=13,\n",
    "        color='white',\n",
    "        bbox=dict(facecolor='#445A64'))\n",
    "    \n",
    "plt.title('Boxplot of Price by Borough After Removing Outliers', fontsize=17)\n",
    "plt.xlabel('Borough')\n",
    "plt.ylabel('Price ($)');"
   ]
  },
  {
   "cell_type": "markdown",
   "metadata": {},
   "source": [
    "After the outliers are removed, we have even a clearer picture of this feature's distribution by borough, seeing how Manhattan is much more widely distributed in price compared to the other boroughs, with a median price of around \\$150/night and max value of over \\$400. The other boroughs, on the other hand, all have a median price of less then \\$100/night, ranging from \\$70/night (Bronx, the least distributed) to \\$95/night (Brooklyn)."
   ]
  },
  {
   "cell_type": "code",
   "execution_count": 32,
   "metadata": {},
   "outputs": [
    {
     "data": {
      "text/html": [
       "<iframe\n",
       "    scrolling=\"no\"\n",
       "    width=\"100%\"\n",
       "    height=\"545px\"\n",
       "    src=\"iframe_figures/figure_32.html\"\n",
       "    frameborder=\"0\"\n",
       "    allowfullscreen\n",
       "></iframe>\n"
      ]
     },
     "metadata": {},
     "output_type": "display_data"
    }
   ],
   "source": [
    "# Median prices by neighbourhood of Manhattan\n",
    "med_pricing_manhatt = pricing_no_outliers[pricing_no_outliers['neighbourhood_group'] == 'Manhattan'].groupby('neighbourhood')['price'].median().sort_values(ascending=False).reset_index()\n",
    "med_pricing_manhatt.columns = ['neighbourhood', 'median']\n",
    "# Create bins for median price ranges\n",
    "med_pricing_manhatt['label'] = pd.cut(med_pricing_manhatt['median'], [0, 99, 199, 300], labels=['<$100 range', '$100 range', '$200 range'])\n",
    "\n",
    "# Plot\n",
    "data = [dict(\n",
    "    type = 'bar',\n",
    "    x = med_pricing_manhatt['neighbourhood'],\n",
    "    y = med_pricing_manhatt['median'],\n",
    "    transforms = [dict(\n",
    "        type = 'groupby',\n",
    "        groups = med_pricing_manhatt['label'])]\n",
    ")]\n",
    "\n",
    "layout = dict(\n",
    "    yaxis = dict(title = 'Median Price ($)'),\n",
    "    xaxis = dict(title = 'Neighbourhood', automargin = True, tickangle = 45),\n",
    "    title = 'Median Price by Neighbourhood in Manhattan'\n",
    ")\n",
    "\n",
    "fig = dict(data=data, layout=layout)\n",
    "pio.show(fig, validate=False, renderer=\"iframe_connected\")"
   ]
  },
  {
   "cell_type": "markdown",
   "metadata": {},
   "source": [
    "This plot shows that when comparing median price for various neighbourhoods in Manhattan, it is clear that location matters.\n",
    "* In general, the neighbourhoods starting on the left side of the plot are predominatly in Downtown and Midtown Manhattan.  And as you move towards the right, you'll notice that more neighbourhoods in Uptown Manhattan have the cheaper median prices compared to the rest.\n",
    "* Tribeca (in Downtown) has the highest (and only) median price around \\$300/night, while many other neighbourhoods spanning Downtown (Flatiron, NoHo, Battery Park City, Financial District, West Village) and Midtown (Theater District, Midtown, Chelsea) areas typically have median prices in the \\$200 range. \n",
    "* In contrast, Uptown neighbourhoods (Harlem, Inwood, Washington Heights, Marble Hill) are considerably cheaper compared to the more expensive areas, with median prices falling under &dollar;100/night.\n",
    "\n",
    "Note: it's more practical to look at median rather than mean in this case given that median is more robust when it comes to outliers. It is common to have outliers in this data, since prices can substantially fluctuate depending on the season, holiday, etc. (by a few thousand dollars when we are talking about entire floor lofts for instance), and for this reason, removing outliers would negatively affect our results.\n",
    "\n",
    "**- QUESTION: How do listing prices change throughout the year?**\n",
    "\n",
    "Instead of just looking at the mean prices over time for the data that has the outliers already removed, it may be insightful to also plot the mean prices with outliers included since it's normal for prices to spike substantially (e.g. a few thousand dollars) on holidays (particularly New Years Eve on December 31st) for larger venues where someone might want to rent out an entire art gallary/loft like [this](https://www.airbnb.com/rooms/4777903?source_impression_id=p3_1562444143_3TIesborJ7duF%2BX3) to bring in the New Year in style."
   ]
  },
  {
   "cell_type": "code",
   "execution_count": 33,
   "metadata": {},
   "outputs": [
    {
     "data": {
      "text/html": [
       "<iframe\n",
       "    scrolling=\"no\"\n",
       "    width=\"100%\"\n",
       "    height=\"720\"\n",
       "    src=\"iframe_figures/figure_33.html\"\n",
       "    frameborder=\"0\"\n",
       "    allowfullscreen\n",
       "></iframe>\n"
      ]
     },
     "metadata": {},
     "output_type": "display_data"
    }
   ],
   "source": [
    "# Group mean of prices by date and month\n",
    "mean_date_pricing = pricing_no_outliers.groupby('date')['price'].mean().reset_index()\n",
    "mean_month_pricing = pricing_no_outliers.groupby('month', sort = False)['price'].mean().reset_index()\n",
    "mean_date_pricing_all = pricing.groupby('date')['price'].mean().reset_index()\n",
    "mean_month_pricing_all = pricing.groupby('month', sort = False)['price'].mean().reset_index()\n",
    "\n",
    "# Plot\n",
    "trace0 = go.Scatter(\n",
    "    x = mean_date_pricing_all['date'], \n",
    "    y = mean_date_pricing_all['price'],\n",
    "    name = 'Daily (with outliers)',\n",
    "    legendgroup = 'day',\n",
    "    xaxis = 'x2',\n",
    "    yaxis = 'y2',\n",
    "    line=dict(color='blue', dash='dot')\n",
    ")\n",
    "trace1 = go.Scatter(\n",
    "    x = mean_date_pricing['date'], \n",
    "    y = mean_date_pricing['price'],\n",
    "    name = 'Daily (no outliers)',\n",
    "    legendgroup = 'day',\n",
    "    xaxis = 'x2',\n",
    "    yaxis = 'y2',\n",
    "    line = dict(color='blue')\n",
    ")\n",
    "trace2 = go.Scatter(\n",
    "    x = mean_month_pricing_all['month'], \n",
    "    y = mean_month_pricing_all['price'],\n",
    "    name = 'Monthly (with outliers)',\n",
    "    legendgroup = 'month',\n",
    "    line=dict(color='orange', dash='dot')\n",
    ")\n",
    "trace3 = go.Scatter(\n",
    "    x = mean_month_pricing['month'], \n",
    "    y = mean_month_pricing['price'],\n",
    "    name = 'Monthly (no outliers)',\n",
    "    legendgroup = 'month',\n",
    "    line=dict(color='orange')\n",
    ")\n",
    "# data = [trace3, trace2, trace1, trace0]\n",
    "data = [trace0, trace1, trace2, trace3]\n",
    "layout = go.Layout(\n",
    "    title = 'Average Price of Airbnb Listings in NYC Over Time',\n",
    "    yaxis = dict(title = 'Price ($)', domain = [0, 0.45]),\n",
    "    xaxis2 = dict(anchor = 'y2'),\n",
    "    yaxis2 = dict(title = 'Price ($)', domain = [0.55, 1], anchor = 'x2'),\n",
    "    legend = dict(traceorder = 'grouped', title_text='Avg Price ($)'),\n",
    "    height = 700\n",
    ")\n",
    "\n",
    "fig = go.Figure(data=data, layout=layout)\n",
    "fig.show(renderer=\"iframe_connected\")"
   ]
  },
  {
   "cell_type": "markdown",
   "metadata": {},
   "source": [
    "The temporal plots above suggest that there may be somewhat of a linear upward trend, as well as a clear indication of seasonality (reflected in first plot) where the amplitude of the cycles appears to be mostly consistent.  So in general, it appears that the average nightly price is slowly increasing over time, with the exception of the following:\n",
    "* late December where there is a noticibly larger price increase around the time of New Years Eve (December 31st)\n",
    "* entire month of January where there is a noticable price drop most likely due to the fact that it's the coldest (wintry) month in NYC\n",
    "\n",
    "I'd like to note the spike on December 31st - particularly on the trend line that includes the outliers - where listings like [this](https://www.airbnb.com/rooms/4777903?source_impression_id=p3_1562444143_3TIesborJ7duF%2BX3) would not have been otherwise captured if we only looked at our pricing data with the outliers excluded.  This listing is just one example where it is labeled as an outlier using `quantile()` but is still a legitimate data point."
   ]
  },
  {
   "cell_type": "code",
   "execution_count": 34,
   "metadata": {},
   "outputs": [
    {
     "data": {
      "text/html": [
       "<iframe\n",
       "    scrolling=\"no\"\n",
       "    width=\"100%\"\n",
       "    height=\"545px\"\n",
       "    src=\"iframe_figures/figure_34.html\"\n",
       "    frameborder=\"0\"\n",
       "    allowfullscreen\n",
       "></iframe>\n"
      ]
     },
     "metadata": {},
     "output_type": "display_data"
    }
   ],
   "source": [
    "# Group mean price by date and borough\n",
    "date_bor_all = pricing.groupby(['date', 'neighbourhood_group'])['price'].mean().reset_index()\n",
    "date_bor_no_outl = pricing_no_outliers.groupby(['date', 'neighbourhood_group'])['price'].mean().reset_index()\n",
    "\n",
    "dict_of_fig = dict({\n",
    "        'data': [\n",
    "            {\n",
    "                'x': date_bor_no_outl[date_bor_no_outl['neighbourhood_group']==neighbourhood_group]['date'],\n",
    "                'y': date_bor_no_outl[date_bor_no_outl['neighbourhood_group']==neighbourhood_group]['price'],\n",
    "                'name': neighbourhood_group, 'mode': 'lines',\n",
    "            } for neighbourhood_group in ['Manhattan', 'Brooklyn', 'Queens', 'Staten Island', 'Bronx']\n",
    "        ],\n",
    "        'layout': {\n",
    "            'xaxis': {'title': 'Date'},\n",
    "            'yaxis': {'title': \"Mean Price ($)\"},\n",
    "            'title': 'Mean Price of Airbnb Listings by Date and Borough (Outliers Removed)'\n",
    "        }\n",
    "})\n",
    "\n",
    "fig = go.Figure(dict_of_fig)\n",
    "fig.show(renderer=\"iframe_connected\")"
   ]
  },
  {
   "cell_type": "markdown",
   "metadata": {},
   "source": [
    "Looking at the temporal price trend per borough:\n",
    "* Manhattan consistently has the highest mean price and continues to set itself apart from the other boroughs in the trend.\n",
    "* We see the price spike around December 31st reflected across all 5 boroughs, Manhattan showing the most obvious increase while the others showing it just subtly which would indicate that listings in Manhattan are likely to increase more in price during that time compared to listings in the other boroughs.\n",
    "\n",
    "\n",
    "## 4. Evaluating the Results\n",
    "\n",
    "To recap, here are the results from our analysis.\n",
    "-  **Which NYC areas have the most listings?**\n",
    "    * Manhattan and Brooklyn by far have the most number of listings when comparing the boroughs, comprising of 85% of all listings in the 2019 calendar dataset. Manhattan alone has a total of over 30k unique listings between the 2018 and 2019 datasets, which is not surprising since it is the most popular borough from a tourism perspective.\n",
    "    * Harlem (in Uptown Manhattan) has the most number of listings compared to other neighbourhoods, consisting of over 600 more listings than the next neighbourhood with the second highest count, Upper West Side (also Uptown). \n",
    "    * When considering what general areas of Manhattan - Uptown, Midtown, and Downtown - these neighbourhoods are in, the neighbourhoods that have:\n",
    "        * \\> 1000 listings are predominantly in Uptown and Midtown \n",
    "        * 500-1000 listings are predominantly Downtown\n",
    "        * 100-500 listings are predominantly Midtown and Downtown\n",
    "        * < 100 listings are predominantly Downtown\n",
    "-  **What does availability for listings look like throughout the year?**\n",
    "    * When grouping by date, we can see a similar pattern (i.e. seasonality) of average listings booked across the two year time range (June 2018 to June 2020), where the most booked listings are throughout the month of June followed by late December going into the new year.\n",
    "        * This makes sense for late December since many people venture in to celebrate Christmas time (and see the famous Rockefeller Center Christmas Tree), as well as to bring in the new year in style for New Years Eve (December 31st).\n",
    "        * As for June, the reason it shows the highest percentage of bookings is due to the fact that it is the **starting month** of the data collection/extraction process for the next June calendar year, thus the listings for this month reflect the most recent (and thus the most number of) bookings.\n",
    "    * On the other hand, we can see the least booked listings occur during late August and late November. This may be reflective of NYC's most hot and humid month (August) and Thanksgiving (end of November) where people tend to spend time at home with family rather than travel for vacation.\n",
    "    * It is no surprise that Manhattan and Brooklyn are the most booked compared to the other boroughs as they tend to be more popular with tourism. When looking across the two year timeline, Manhattan had the most bookings from June 2018 to June 2019 (2018 dataset), but then interestingly switches places with Brooklyn starting from June 2019 and consistently remains that way for the next 12 months. This would indicate that renters are seeking out Brooklyn over Manhattan when booking.\n",
    "-  **How do listing prices vary by location?**\n",
    "    * Manhattan is much more widely distributed in price compared to the other boroughs, with a median price of around \\$150/night and max value of over \\$400. The other boroughs, on the other hand, all have a median price of less then \\$100/night, ranging from \\$70/night (Bronx, the least distributed) to \\$95/night (Brooklyn).\n",
    "    * When comparing median price for various neighbourhoods in Manhattan, it is clear that location matters.  In general, the neighbourhoods with the highest median prices are predominatly in Downtown and Midtown Manhattan, while more neighbourhoods in Uptown Manhattan have the cheaper median prices.\n",
    "        * Tribeca (in Downtown) has the highest (and only) median price around \\$300/night, while many other neighbourhoods spanning Downtown (Flatiron, NoHo, Battery Park City, Financial District, West Village) and Midtown (Theater District, Midtown, Chelsea) areas typically have median prices in the \\$200 range.\n",
    "        * In contrast, Uptown neighbourhoods (Harlem, Inwood, Washington Heights, Marble Hill) are considerably cheaper compared to the more expensive areas, with median prices falling under \\$100/night.\n",
    "-  **How do listing prices change throughout the year?**\n",
    "    * It appears that the average nightly price is slowly increasing over time (as well as a clear indication of seasonality), with the exception of the following:\n",
    "        * late December where there is a noticibly larger price increase around the time of New Years Eve (December 31st)\n",
    "        * entire month of January where there is a noticable price drop most likely due to the fact that it's the coldest (wintry) month in NYC.\n",
    "    * Looking at the temporal price trend per borough, Manhattan consistently has the highest mean price and continues to set itself apart from the other boroughs in the trend.\n",
    "    * We see the price spike around December 31st reflected across all 5 boroughs, Manhattan showing the most obvious increase while the others showing it just subtly which would indicate that listings in Manhattan are likely to increase more in price during that time compared to listings in the other boroughs."
   ]
  },
  {
   "cell_type": "code",
   "execution_count": null,
   "metadata": {},
   "outputs": [],
   "source": []
  }
 ],
 "metadata": {
  "kernelspec": {
   "display_name": "Python 3",
   "language": "python",
   "name": "python3"
  },
  "language_info": {
   "codemirror_mode": {
    "name": "ipython",
    "version": 3
   },
   "file_extension": ".py",
   "mimetype": "text/x-python",
   "name": "python",
   "nbconvert_exporter": "python",
   "pygments_lexer": "ipython3",
   "version": "3.8.5"
  }
 },
 "nbformat": 4,
 "nbformat_minor": 4
}
