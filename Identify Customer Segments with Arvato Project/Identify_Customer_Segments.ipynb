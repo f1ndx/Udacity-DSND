{
 "cells": [
  {
   "cell_type": "markdown",
   "metadata": {},
   "source": [
    "# Project: Identify Customer Segments\n",
    "\n",
    "In this project, you will apply unsupervised learning techniques to identify segments of the population that form the core customer base for a mail-order sales company in Germany. These segments can then be used to direct marketing campaigns towards audiences that will have the highest expected rate of returns. The data that you will use has been provided by our partners at Bertelsmann Arvato Analytics, and represents a real-life data science task.\n",
    "\n",
    "This notebook will help you complete this task by providing a framework within which you will perform your analysis steps. In each step of the project, you will see some text describing the subtask that you will perform, followed by one or more code cells for you to complete your work. **Feel free to add additional code and markdown cells as you go along so that you can explore everything in precise chunks.** The code cells provided in the base template will outline only the major tasks, and will usually not be enough to cover all of the minor tasks that comprise it.\n",
    "\n",
    "It should be noted that while there will be precise guidelines on how you should handle certain tasks in the project, there will also be places where an exact specification is not provided. **There will be times in the project where you will need to make and justify your own decisions on how to treat the data.** These are places where there may not be only one way to handle the data. In real-life tasks, there may be many valid ways to approach an analysis task. One of the most important things you can do is clearly document your approach so that other scientists can understand the decisions you've made.\n",
    "\n",
    "At the end of most sections, there will be a Markdown cell labeled **Discussion**. In these cells, you will report your findings for the completed section, as well as document the decisions that you made in your approach to each subtask. **Your project will be evaluated not just on the code used to complete the tasks outlined, but also your communication about your observations and conclusions at each stage.**"
   ]
  },
  {
   "cell_type": "code",
   "execution_count": 276,
   "metadata": {},
   "outputs": [
    {
     "name": "stdout",
     "output_type": "stream",
     "text": [
      "Python 3.6.3\r\n"
     ]
    }
   ],
   "source": [
    "# Import libraries here; add more as necessary\n",
    "import numpy as np\n",
    "import pandas as pd\n",
    "import matplotlib.pyplot as plt\n",
    "import seaborn as sns\n",
    "import random\n",
    "import matplotlib.ticker as ticker\n",
    "\n",
    "from ast import literal_eval\n",
    "from sklearn.preprocessing import Imputer, StandardScaler\n",
    "from sklearn.decomposition import PCA\n",
    "from sklearn.cluster import KMeans\n",
    "\n",
    "# For producing visualizations in notebook\n",
    "%matplotlib inline\n",
    "\n",
    "!python --version"
   ]
  },
  {
   "cell_type": "markdown",
   "metadata": {},
   "source": [
    "### Step 0: Load the Data\n",
    "\n",
    "There are four files associated with this project (not including this one):\n",
    "\n",
    "- `Udacity_AZDIAS_Subset.csv`: Demographics data for the general population of Germany; 891211 persons (rows) x 85 features (columns).\n",
    "- `Udacity_CUSTOMERS_Subset.csv`: Demographics data for customers of a mail-order company; 191652 persons (rows) x 85 features (columns).\n",
    "- `Data_Dictionary.md`: Detailed information file about the features in the provided datasets.\n",
    "- `AZDIAS_Feature_Summary.csv`: Summary of feature attributes for demographics data; 85 features (rows) x 4 columns\n",
    "\n",
    "Each row of the demographics files represents a single person, but also includes information outside of individuals, including information about their household, building, and neighborhood. You will use this information to cluster the general population into groups with similar demographic properties. Then, you will see how the people in the customers dataset fit into those created clusters. The hope here is that certain clusters are over-represented in the customers data, as compared to the general population; those over-represented clusters will be assumed to be part of the core userbase. This information can then be used for further applications, such as targeting for a marketing campaign.\n",
    "\n",
    "To start off with, load in the demographics data for the general population into a pandas DataFrame, and do the same for the feature attributes summary. Note for all of the `.csv` data files in this project: they're semicolon (`;`) delimited, so you'll need an additional argument in your [`read_csv()`](https://pandas.pydata.org/pandas-docs/stable/generated/pandas.read_csv.html) call to read in the data properly. Also, considering the size of the main dataset, it may take some time for it to load completely.\n",
    "\n",
    "Once the dataset is loaded, it's recommended that you take a little bit of time just browsing the general structure of the dataset and feature summary file. You'll be getting deep into the innards of the cleaning in the first major step of the project, so gaining some general familiarity can help you get your bearings."
   ]
  },
  {
   "cell_type": "code",
   "execution_count": 277,
   "metadata": {},
   "outputs": [],
   "source": [
    "# Load in the general demographics data.\n",
    "azdias = pd.read_csv('Udacity_AZDIAS_Subset.csv', delimiter = ';')\n",
    "len_azdias = len(azdias)\n",
    "\n",
    "# Load in the feature summary file.\n",
    "feat_info = pd.read_csv('AZDIAS_Feature_Summary.csv', delimiter = ';')"
   ]
  },
  {
   "cell_type": "code",
   "execution_count": 278,
   "metadata": {},
   "outputs": [
    {
     "name": "stdout",
     "output_type": "stream",
     "text": [
      "Number of rows: 891221\n",
      "Number of columns: 85\n"
     ]
    },
    {
     "data": {
      "text/html": [
       "<div>\n",
       "<style>\n",
       "    .dataframe thead tr:only-child th {\n",
       "        text-align: right;\n",
       "    }\n",
       "\n",
       "    .dataframe thead th {\n",
       "        text-align: left;\n",
       "    }\n",
       "\n",
       "    .dataframe tbody tr th {\n",
       "        vertical-align: top;\n",
       "    }\n",
       "</style>\n",
       "<table border=\"1\" class=\"dataframe\">\n",
       "  <thead>\n",
       "    <tr style=\"text-align: right;\">\n",
       "      <th></th>\n",
       "      <th>AGER_TYP</th>\n",
       "      <th>ALTERSKATEGORIE_GROB</th>\n",
       "      <th>ANREDE_KZ</th>\n",
       "      <th>CJT_GESAMTTYP</th>\n",
       "      <th>FINANZ_MINIMALIST</th>\n",
       "      <th>FINANZ_SPARER</th>\n",
       "      <th>FINANZ_VORSORGER</th>\n",
       "      <th>FINANZ_ANLEGER</th>\n",
       "      <th>FINANZ_UNAUFFAELLIGER</th>\n",
       "      <th>FINANZ_HAUSBAUER</th>\n",
       "      <th>...</th>\n",
       "      <th>PLZ8_ANTG1</th>\n",
       "      <th>PLZ8_ANTG2</th>\n",
       "      <th>PLZ8_ANTG3</th>\n",
       "      <th>PLZ8_ANTG4</th>\n",
       "      <th>PLZ8_BAUMAX</th>\n",
       "      <th>PLZ8_HHZ</th>\n",
       "      <th>PLZ8_GBZ</th>\n",
       "      <th>ARBEIT</th>\n",
       "      <th>ORTSGR_KLS9</th>\n",
       "      <th>RELAT_AB</th>\n",
       "    </tr>\n",
       "  </thead>\n",
       "  <tbody>\n",
       "    <tr>\n",
       "      <th>0</th>\n",
       "      <td>-1</td>\n",
       "      <td>2</td>\n",
       "      <td>1</td>\n",
       "      <td>2.0</td>\n",
       "      <td>3</td>\n",
       "      <td>4</td>\n",
       "      <td>3</td>\n",
       "      <td>5</td>\n",
       "      <td>5</td>\n",
       "      <td>3</td>\n",
       "      <td>...</td>\n",
       "      <td>NaN</td>\n",
       "      <td>NaN</td>\n",
       "      <td>NaN</td>\n",
       "      <td>NaN</td>\n",
       "      <td>NaN</td>\n",
       "      <td>NaN</td>\n",
       "      <td>NaN</td>\n",
       "      <td>NaN</td>\n",
       "      <td>NaN</td>\n",
       "      <td>NaN</td>\n",
       "    </tr>\n",
       "    <tr>\n",
       "      <th>1</th>\n",
       "      <td>-1</td>\n",
       "      <td>1</td>\n",
       "      <td>2</td>\n",
       "      <td>5.0</td>\n",
       "      <td>1</td>\n",
       "      <td>5</td>\n",
       "      <td>2</td>\n",
       "      <td>5</td>\n",
       "      <td>4</td>\n",
       "      <td>5</td>\n",
       "      <td>...</td>\n",
       "      <td>2.0</td>\n",
       "      <td>3.0</td>\n",
       "      <td>2.0</td>\n",
       "      <td>1.0</td>\n",
       "      <td>1.0</td>\n",
       "      <td>5.0</td>\n",
       "      <td>4.0</td>\n",
       "      <td>3.0</td>\n",
       "      <td>5.0</td>\n",
       "      <td>4.0</td>\n",
       "    </tr>\n",
       "    <tr>\n",
       "      <th>2</th>\n",
       "      <td>-1</td>\n",
       "      <td>3</td>\n",
       "      <td>2</td>\n",
       "      <td>3.0</td>\n",
       "      <td>1</td>\n",
       "      <td>4</td>\n",
       "      <td>1</td>\n",
       "      <td>2</td>\n",
       "      <td>3</td>\n",
       "      <td>5</td>\n",
       "      <td>...</td>\n",
       "      <td>3.0</td>\n",
       "      <td>3.0</td>\n",
       "      <td>1.0</td>\n",
       "      <td>0.0</td>\n",
       "      <td>1.0</td>\n",
       "      <td>4.0</td>\n",
       "      <td>4.0</td>\n",
       "      <td>3.0</td>\n",
       "      <td>5.0</td>\n",
       "      <td>2.0</td>\n",
       "    </tr>\n",
       "    <tr>\n",
       "      <th>3</th>\n",
       "      <td>2</td>\n",
       "      <td>4</td>\n",
       "      <td>2</td>\n",
       "      <td>2.0</td>\n",
       "      <td>4</td>\n",
       "      <td>2</td>\n",
       "      <td>5</td>\n",
       "      <td>2</td>\n",
       "      <td>1</td>\n",
       "      <td>2</td>\n",
       "      <td>...</td>\n",
       "      <td>2.0</td>\n",
       "      <td>2.0</td>\n",
       "      <td>2.0</td>\n",
       "      <td>0.0</td>\n",
       "      <td>1.0</td>\n",
       "      <td>3.0</td>\n",
       "      <td>4.0</td>\n",
       "      <td>2.0</td>\n",
       "      <td>3.0</td>\n",
       "      <td>3.0</td>\n",
       "    </tr>\n",
       "    <tr>\n",
       "      <th>4</th>\n",
       "      <td>-1</td>\n",
       "      <td>3</td>\n",
       "      <td>1</td>\n",
       "      <td>5.0</td>\n",
       "      <td>4</td>\n",
       "      <td>3</td>\n",
       "      <td>4</td>\n",
       "      <td>1</td>\n",
       "      <td>3</td>\n",
       "      <td>2</td>\n",
       "      <td>...</td>\n",
       "      <td>2.0</td>\n",
       "      <td>4.0</td>\n",
       "      <td>2.0</td>\n",
       "      <td>1.0</td>\n",
       "      <td>2.0</td>\n",
       "      <td>3.0</td>\n",
       "      <td>3.0</td>\n",
       "      <td>4.0</td>\n",
       "      <td>6.0</td>\n",
       "      <td>5.0</td>\n",
       "    </tr>\n",
       "  </tbody>\n",
       "</table>\n",
       "<p>5 rows × 85 columns</p>\n",
       "</div>"
      ],
      "text/plain": [
       "   AGER_TYP  ALTERSKATEGORIE_GROB  ANREDE_KZ  CJT_GESAMTTYP  \\\n",
       "0        -1                     2          1            2.0   \n",
       "1        -1                     1          2            5.0   \n",
       "2        -1                     3          2            3.0   \n",
       "3         2                     4          2            2.0   \n",
       "4        -1                     3          1            5.0   \n",
       "\n",
       "   FINANZ_MINIMALIST  FINANZ_SPARER  FINANZ_VORSORGER  FINANZ_ANLEGER  \\\n",
       "0                  3              4                 3               5   \n",
       "1                  1              5                 2               5   \n",
       "2                  1              4                 1               2   \n",
       "3                  4              2                 5               2   \n",
       "4                  4              3                 4               1   \n",
       "\n",
       "   FINANZ_UNAUFFAELLIGER  FINANZ_HAUSBAUER    ...     PLZ8_ANTG1  PLZ8_ANTG2  \\\n",
       "0                      5                 3    ...            NaN         NaN   \n",
       "1                      4                 5    ...            2.0         3.0   \n",
       "2                      3                 5    ...            3.0         3.0   \n",
       "3                      1                 2    ...            2.0         2.0   \n",
       "4                      3                 2    ...            2.0         4.0   \n",
       "\n",
       "   PLZ8_ANTG3  PLZ8_ANTG4  PLZ8_BAUMAX  PLZ8_HHZ  PLZ8_GBZ  ARBEIT  \\\n",
       "0         NaN         NaN          NaN       NaN       NaN     NaN   \n",
       "1         2.0         1.0          1.0       5.0       4.0     3.0   \n",
       "2         1.0         0.0          1.0       4.0       4.0     3.0   \n",
       "3         2.0         0.0          1.0       3.0       4.0     2.0   \n",
       "4         2.0         1.0          2.0       3.0       3.0     4.0   \n",
       "\n",
       "   ORTSGR_KLS9  RELAT_AB  \n",
       "0          NaN       NaN  \n",
       "1          5.0       4.0  \n",
       "2          5.0       2.0  \n",
       "3          3.0       3.0  \n",
       "4          6.0       5.0  \n",
       "\n",
       "[5 rows x 85 columns]"
      ]
     },
     "execution_count": 278,
     "metadata": {},
     "output_type": "execute_result"
    }
   ],
   "source": [
    "# Check the structure of the data after it's loaded (e.g. print the number of\n",
    "# rows and columns, print the first few rows).\n",
    "num_rows, num_cols = azdias.shape\n",
    "print('Number of rows: {}'.format(num_rows))\n",
    "print('Number of columns: {}'.format(num_cols))\n",
    "azdias.head(5)"
   ]
  },
  {
   "cell_type": "code",
   "execution_count": 279,
   "metadata": {},
   "outputs": [
    {
     "data": {
      "image/png": "[encoded data removed]",
      "text/plain": [
       "<matplotlib.figure.Figure at 0x7ff176b86d68>"
      ]
     },
     "metadata": {
      "needs_background": "light"
     },
     "output_type": "display_data"
    }
   ],
   "source": [
    "# Take a closer look at Feature Summary file columns\n",
    "feat_type = feat_info.groupby('type').count()['attribute'].sort_values(ascending = False)\n",
    "feat_type.plot(kind = 'bar', figsize = (10, 7), rot = 45)\n",
    "plt.title('Distribution of Feature Type')\n",
    "plt.ylabel('count')\n",
    "plt.show()"
   ]
  },
  {
   "cell_type": "code",
   "execution_count": 280,
   "metadata": {},
   "outputs": [
    {
     "data": {
      "image/png": "[encoded data removed]",
      "text/plain": [
       "<matplotlib.figure.Figure at 0x7ff176b6a400>"
      ]
     },
     "metadata": {
      "needs_background": "light"
     },
     "output_type": "display_data"
    }
   ],
   "source": [
    "feat_inform = feat_info.groupby('information_level').count()['attribute'].sort_values(ascending = False)\n",
    "feat_inform.plot(kind = 'bar', figsize = (10, 7), rot = 45)\n",
    "plt.title('Distribution of Information Level')\n",
    "plt.ylabel('count')\n",
    "plt.show()"
   ]
  },
  {
   "cell_type": "code",
   "execution_count": 281,
   "metadata": {},
   "outputs": [
    {
     "data": {
      "image/png": "[encoded data removed]",
      "text/plain": [
       "<matplotlib.figure.Figure at 0x7ff176aab7b8>"
      ]
     },
     "metadata": {
      "needs_background": "light"
     },
     "output_type": "display_data"
    }
   ],
   "source": [
    "feat_miss_unk = feat_info.groupby('missing_or_unknown').count()['attribute'].sort_values(ascending = False)\n",
    "feat_miss_unk.plot(kind = 'bar', figsize = (10, 7), rot = 45)\n",
    "plt.title('Distribution of \"Missing or Unknown\" Values')\n",
    "plt.ylabel('count')\n",
    "plt.show()"
   ]
  },
  {
   "cell_type": "markdown",
   "metadata": {},
   "source": [
    "## Step 1: Preprocessing\n",
    "\n",
    "### Step 1.1: Assess Missing Data\n",
    "\n",
    "The feature summary file contains a summary of properties for each demographics data column. You will use this file to help you make cleaning decisions during this stage of the project. First of all, you should assess the demographics data in terms of missing data. Pay attention to the following points as you perform your analysis, and take notes on what you observe. Make sure that you fill in the **Discussion** cell with your findings and decisions at the end of each step that has one!\n",
    "\n",
    "#### Step 1.1.1: Convert Missing Value Codes to NaNs\n",
    "The fourth column of the feature attributes summary (loaded in above as `feat_info`) documents the codes from the data dictionary that indicate missing or unknown data. While the file encodes this as a list (e.g. `[-1,0]`), this will get read in as a string object. You'll need to do a little bit of parsing to make use of it to identify and clean the data. Convert data that matches a 'missing' or 'unknown' value code into a numpy NaN value. You might want to see how much data takes on a 'missing' or 'unknown' code, and how much data is naturally missing, as a point of interest.\n",
    "\n",
    "**As one more reminder, you are encouraged to add additional cells to break up your analysis into manageable chunks.**"
   ]
  },
  {
   "cell_type": "code",
   "execution_count": 282,
   "metadata": {},
   "outputs": [],
   "source": [
    "# Identify missing or unknown data values and convert them to NaNs.\n",
    "# Some cleanup \n",
    "for i, column in enumerate(azdias.columns):\n",
    "    str_n = feat_info['missing_or_unknown'].iloc[i]\n",
    "    if i in [57, 58, 59]:  # to accomodate for [*X] unknown values\n",
    "        list_n = str_n[1: -1].split(',')\n",
    "    else:\n",
    "        list_n = literal_eval(str_n)\n",
    "    for j in list_n:\n",
    "        azdias[column].replace(j, np.NaN, inplace = True)"
   ]
  },
  {
   "cell_type": "markdown",
   "metadata": {},
   "source": [
    "#### Step 1.1.2: Assess Missing Data in Each Column\n",
    "\n",
    "How much missing data is present in each column? There are a few columns that are outliers in terms of the proportion of values that are missing. You will want to use matplotlib's [`hist()`](https://matplotlib.org/api/_as_gen/matplotlib.pyplot.hist.html) function to visualize the distribution of missing value counts to find these columns. Identify and document these columns. While some of these columns might have justifications for keeping or re-encoding the data, for this project you should just remove them from the dataframe. (Feel free to make remarks about these outlier columns in the discussion, however!)\n",
    "\n",
    "For the remaining features, are there any patterns in which columns have, or share, missing data?"
   ]
  },
  {
   "cell_type": "code",
   "execution_count": 283,
   "metadata": {},
   "outputs": [
    {
     "name": "stdout",
     "output_type": "stream",
     "text": [
      "71.76% of the features in the dataset contain one or more missing values (61 out of the 85 total features).\n"
     ]
    }
   ],
   "source": [
    "# Perform an assessment of how much missing data there is in each column of the dataset.\n",
    "null_count_col = azdias.isnull().sum()\n",
    "null_perc_col = null_count_col / len(azdias) * 100\n",
    "\n",
    "num_cols_missing = len(null_count_col[null_count_col != 0])\n",
    "perc_cols_missing = num_cols_missing / len(null_count_col) * 100\n",
    "print('{}% of the features in the dataset contain one or more missing values ({} out of the {} total features).'.format(round(perc_cols_missing, 2), num_cols_missing, num_cols))"
   ]
  },
  {
   "cell_type": "code",
   "execution_count": 284,
   "metadata": {},
   "outputs": [
    {
     "data": {
      "text/plain": [
       "Text(0,0.5,'Number of Attributes (Features)')"
      ]
     },
     "execution_count": 284,
     "metadata": {},
     "output_type": "execute_result"
    },
    {
     "data": {
      "image/png": "[encoded data removed]",
      "text/plain": [
       "<matplotlib.figure.Figure at 0x7ff1768dc2e8>"
      ]
     },
     "metadata": {
      "needs_background": "light"
     },
     "output_type": "display_data"
    }
   ],
   "source": [
    "# Investigate patterns in the amount of missing data in each column.\n",
    "null_perc_col.plot(kind = 'hist', figsize = (10, 7), bins = 60,\n",
    "                                            title = 'Distribution of Missing Values ')       \n",
    "plt.xlabel('Percent of Missing Data (%)')\n",
    "plt.ylabel('Number of Attributes (Features)')"
   ]
  },
  {
   "cell_type": "markdown",
   "metadata": {},
   "source": [
    "**In this plot, you can see that there are a few features that are outliers in terms of the proportion of values that are missing, let's see which columns have more than 20% missing values.**"
   ]
  },
  {
   "cell_type": "code",
   "execution_count": 285,
   "metadata": {},
   "outputs": [
    {
     "data": {
      "text/plain": [
       "AGER_TYP        76.955435\n",
       "GEBURTSJAHR     44.020282\n",
       "TITEL_KZ        99.757636\n",
       "ALTER_HH        34.813699\n",
       "KK_KUNDENTYP    65.596749\n",
       "KBA05_BAUMAX    53.468668\n",
       "dtype: float64"
      ]
     },
     "execution_count": 285,
     "metadata": {},
     "output_type": "execute_result"
    }
   ],
   "source": [
    "# List the features with missing values > 20% \n",
    "null_perc_col[null_perc_col > 20]"
   ]
  },
  {
   "cell_type": "code",
   "execution_count": 286,
   "metadata": {},
   "outputs": [],
   "source": [
    "# Remove the outlier columns from the dataset. (You'll perform other data\n",
    "# engineering tasks such as re-encoding and imputation later.)\n",
    "azdias.drop(['AGER_TYP', 'GEBURTSJAHR', 'TITEL_KZ', 'ALTER_HH', 'KK_KUNDENTYP', 'KBA05_BAUMAX'], axis = 1, inplace = True)"
   ]
  },
  {
   "cell_type": "code",
   "execution_count": 287,
   "metadata": {},
   "outputs": [
    {
     "name": "stdout",
     "output_type": "stream",
     "text": [
      "Original number of columns: 85\n",
      "New number of columns: 79\n"
     ]
    }
   ],
   "source": [
    "# Check the structure of the data after dropping the outlier columns\n",
    "# Original num of rows and columns\n",
    "#print('Original number of rows: {}'.format(num_rows))\n",
    "print('Original number of columns: {}'.format(num_cols))\n",
    "\n",
    "# New num of rows and columns\n",
    "new_num_rows, new_num_cols = azdias.shape\n",
    "#print('Number of rows: {}'.format(new_num_rows)) # to make sure same num of rows still\n",
    "print('New number of columns: {}'.format(new_num_cols))"
   ]
  },
  {
   "cell_type": "code",
   "execution_count": 288,
   "metadata": {},
   "outputs": [],
   "source": [
    "# Remove the outlier columns from feat_info as well\n",
    "drop_columns = ['AGER_TYP', 'GEBURTSJAHR', 'TITEL_KZ', 'ALTER_HH', 'KK_KUNDENTYP', 'KBA05_BAUMAX']\n",
    "for col in drop_columns:\n",
    "    drop_index = feat_info[feat_info['attribute'] == col].index[0]\n",
    "    feat_info.drop(drop_index, axis = 0, inplace = True)"
   ]
  },
  {
   "cell_type": "markdown",
   "metadata": {},
   "source": [
    "**For the *remaining features*, let's look for any patterns in which columns have, or share, missing data, starting with looking at information level.**"
   ]
  },
  {
   "cell_type": "code",
   "execution_count": 289,
   "metadata": {},
   "outputs": [
    {
     "name": "stderr",
     "output_type": "stream",
     "text": [
      "/opt/conda/lib/python3.6/site-packages/pandas/core/generic.py:4959: RuntimeWarning: '<' not supported between instances of 'int' and 'str', sort order is undefined for incomparable objects\n",
      "  other.columns, how=join, level=level, return_indexers=True)\n"
     ]
    },
    {
     "data": {
      "text/plain": [
       "(array([0, 1, 2, 3, 4, 5, 6, 7, 8]), <a list of 9 Text xticklabel objects>)"
      ]
     },
     "execution_count": 289,
     "metadata": {},
     "output_type": "execute_result"
    },
    {
     "data": {
      "image/png": "[encoded data removed]",
      "text/plain": [
       "<matplotlib.figure.Figure at 0x7ff176a6d6d8>"
      ]
     },
     "metadata": {
      "needs_background": "light"
     },
     "output_type": "display_data"
    }
   ],
   "source": [
    "# See if any patterns just by information level\n",
    "feat_info_joined = feat_info.set_index('attribute').join(pd.DataFrame(null_count_col))\n",
    "missing_by_info = (feat_info_joined.groupby('information_level').sum()/(feat_info_joined.groupby('information_level').count()\n",
    "                                                                   *len(azdias))*100) \n",
    "missing_by_info[0].plot(kind = 'bar', figsize = (10, 7), title = 'Distribution of Missing Values by Information Level')\n",
    "plt.ylabel('Percent of Missing Data (%)')\n",
    "plt.xlabel('Information Level')\n",
    "plt.xticks(rotation = 45)"
   ]
  },
  {
   "cell_type": "markdown",
   "metadata": {},
   "source": [
    "**From this plot above, it appears that there are more missing values in features pertaining to *housing surroundings/characteristics* (as compared to the more granular features such as person-level features) such as:**\n",
    "* micro/macro-cell features (e.g. N-family member houses, life stage typology)\n",
    "* region (e.g. neighborhood topology, movement patterns) and \n",
    "* community (e.g. size, share of unemployment in community) \n",
    "    \n",
    "**Let's next take a closer look at how many features share the same number of missing values to see if there is a pattern.** "
   ]
  },
  {
   "cell_type": "code",
   "execution_count": 290,
   "metadata": {},
   "outputs": [],
   "source": [
    "# New null counts per feature after dropping the outlier features\n",
    "null_count_col_new = azdias.isnull().sum()\n",
    "df_null_col = pd.DataFrame({'attribute': null_count_col_new.index, 'num_nulls': null_count_col_new.values})"
   ]
  },
  {
   "cell_type": "code",
   "execution_count": 291,
   "metadata": {},
   "outputs": [
    {
     "data": {
      "text/plain": [
       "[Text(0,0.5,'Number of Missing Values'),\n",
       " Text(0.5,0,'Number of Features'),\n",
       " Text(0.5,1,'Number of Features by Missing Value Counts')]"
      ]
     },
     "execution_count": 291,
     "metadata": {},
     "output_type": "execute_result"
    },
    {
     "data": {
      "image/png": "[encoded data removed]",
      "text/plain": [
       "<matplotlib.figure.Figure at 0x7ff176a8c240>"
      ]
     },
     "metadata": {
      "needs_background": "light"
     },
     "output_type": "display_data"
    }
   ],
   "source": [
    "# Let's play with seaborn\n",
    "plt.figure(figsize = (10,10))\n",
    "val_cnts = df_null_col['num_nulls'].value_counts().index\n",
    "ax = sns.countplot(y = 'num_nulls' , data = df_null_col, order = val_cnts)\n",
    "ax.set(xlabel = 'Number of Features', ylabel = 'Number of Missing Values', title = 'Number of Features by Missing Value Counts')"
   ]
  },
  {
   "cell_type": "markdown",
   "metadata": {},
   "source": [
    "**This plot above shows that there are 24 features (attributes) that have no missing values, as well as (interestingly enough) varying numbers of features that share same numbers of missing values.  Let's look more granularly to see if there is any pattern between the specific features and common missing value counts.**"
   ]
  },
  {
   "cell_type": "code",
   "execution_count": 292,
   "metadata": {},
   "outputs": [
    {
     "data": {
      "text/plain": [
       "[Text(0,0.5,'Features'),\n",
       " Text(0.5,0,'Number of Missing Values'),\n",
       " Text(0.5,1,'Distribution of Shared Missing Values Across Features')]"
      ]
     },
     "execution_count": 292,
     "metadata": {},
     "output_type": "execute_result"
    },
    {
     "data": {
      "image/png": "[encoded data removed]",
      "text/plain": [
       "<matplotlib.figure.Figure at 0x7ff17dc67940>"
      ]
     },
     "metadata": {
      "needs_background": "light"
     },
     "output_type": "display_data"
    }
   ],
   "source": [
    "# Exclude features with NO missing values and sort for plotting\n",
    "missing_shared = df_null_col.loc[df_null_col['num_nulls'] != 0]\n",
    "missing_shared.reset_index(drop = True, inplace = True)\n",
    "shared_sorted = missing_shared.sort_values('num_nulls')\n",
    "\n",
    "# Exclude features with UNIQUE num of missing values since we only want features that share SAME num of nulls\n",
    "grouped = shared_sorted.groupby('num_nulls').filter(lambda x: len(x) > 1)\n",
    "plt.figure(figsize = (15,15))\n",
    "shared_plt = sns.barplot(y = 'attribute', x = 'num_nulls', data = grouped, color = 'salmon')\n",
    "for p in shared_plt.patches:\n",
    "    width = p.get_width()\n",
    "    shared_plt.text(width,\n",
    "            p.get_y() + p.get_height()/2 + 0.2,\n",
    "            '{:.0f}'.format(width),\n",
    "            ha=\"left\")\n",
    "shared_plt.set(xlabel = 'Number of Missing Values', ylabel = 'Features', title = \"Distribution of Shared Missing Values Across Features\")"
   ]
  },
  {
   "cell_type": "markdown",
   "metadata": {},
   "source": [
    "#### Discussion 1.1.2: Assess Missing Data in Each Column\n",
    "From the original dataset, a majority (almost 72%) of the features contained missing data, and six particular features (**AGER_TYP**, **GEBURTSJAHR**, **TITEL_KZ**, **ALTER_HH**, **KK_KUNDENTYP**, **KBA05_BAUMAX**) each contained over 20% of missing values.  As a result, these six features have been removed from the dataset. \n",
    "\n",
    "When looking to see if there were any patterns in missing values from the remaining features, I looked at the following:\n",
    "1. Information Level\n",
    "    * It appeared that there were more missing values in features pertaining to **housing surroundings/characteristics** such as micro/macro-cell features (e.g. N-family member houses, life stage typology), region (e.g. neighborhood topology, movement patterns), and community (e.g. size, share of unemployment in community), as compared to the more granular features in the data set such as person-level features.\n",
    "2. Shared missing data \n",
    "    * Going one step further, it appeared that there were varying numbers of features that interestingly enough shared the *same exact* numbers of missing values.  When looking at these specific groupings, it appeared that features that shared the same **level of measurement** also shared the same number of missing values.  For example, the majority of PLZ8 macro-cell features in the data set (PLZ8* in the plot above) all shared the same number of missing values, similarly the majority of RR3 micro-cell features (KBA05* in the plot above) in the dataset also reflected the same, etc.. \n",
    "\n"
   ]
  },
  {
   "cell_type": "markdown",
   "metadata": {},
   "source": [
    "#### Step 1.1.3: Assess Missing Data in Each Row\n",
    "\n",
    "Now, you'll perform a similar assessment for the rows of the dataset. How much data is missing in each row? As with the columns, you should see some groups of points that have a very different numbers of missing values. Divide the data into two subsets: one for data points that are above some threshold for missing values, and a second subset for points below that threshold.\n",
    "\n",
    "In order to know what to do with the outlier rows, we should see if the distribution of data values on columns that are not missing data (or are missing very little data) are similar or different between the two groups. Select at least five of these columns and compare the distribution of values.\n",
    "- You can use seaborn's [`countplot()`](https://seaborn.pydata.org/generated/seaborn.countplot.html) function to create a bar chart of code frequencies and matplotlib's [`subplot()`](https://matplotlib.org/api/_as_gen/matplotlib.pyplot.subplot.html) function to put bar charts for the two subplots side by side.\n",
    "- To reduce repeated code, you might want to write a function that can perform this comparison, taking as one of its arguments a column to be compared.\n",
    "\n",
    "Depending on what you observe in your comparison, this will have implications on how you approach your conclusions later in the analysis. If the distributions of non-missing features look similar between the data with many missing values and the data with few or no missing values, then we could argue that simply dropping those points from the analysis won't present a major issue. On the other hand, if the data with many missing values looks very different from the data with few or no missing values, then we should make a note on those data as special. We'll revisit these data later on. **Either way, you should continue your analysis for now using just the subset of the data with few or no missing values.**"
   ]
  },
  {
   "cell_type": "code",
   "execution_count": 293,
   "metadata": {},
   "outputs": [
    {
     "name": "stdout",
     "output_type": "stream",
     "text": [
      "30.07% of rows in the dataset contain one or more missing values (268012 out of 891221 total rows).\n"
     ]
    }
   ],
   "source": [
    "# How much data is missing in each row of the dataset?\n",
    "null_count_row = azdias.isnull().sum(axis = 1)\n",
    "null_perc_row = null_count_row / len(azdias.columns) * 100\n",
    "\n",
    "# Calculate ratio\n",
    "num_row_missing = len(null_count_row[null_count_row > 0])\n",
    "perc_row_missing = num_row_missing / len(null_count_row) * 100\n",
    "print('{}% of rows in the dataset contain one or more missing values ({} out of {} total rows).'.format(round(perc_row_missing, 2), num_row_missing, num_rows))\n"
   ]
  },
  {
   "cell_type": "code",
   "execution_count": 294,
   "metadata": {},
   "outputs": [
    {
     "data": {
      "text/plain": [
       "Text(0,0.5,'Number of Rows')"
      ]
     },
     "execution_count": 294,
     "metadata": {},
     "output_type": "execute_result"
    },
    {
     "data": {
      "image/png": "[encoded data removed]",
      "text/plain": [
       "<matplotlib.figure.Figure at 0x7ff176c1cb38>"
      ]
     },
     "metadata": {
      "needs_background": "light"
     },
     "output_type": "display_data"
    }
   ],
   "source": [
    "null_count_row.plot(kind = 'hist', figsize = (10, 7), bins = 20,\n",
    "                                            title = 'Missing Values Distribution by Rows')       \n",
    "plt.xlabel('Number of Missing Values')\n",
    "plt.ylabel('Number of Rows')"
   ]
  },
  {
   "cell_type": "markdown",
   "metadata": {},
   "source": [
    "**There are number of rows that have more than 10 missing values, so let's set a threshold to 10 and examine the distributions.**"
   ]
  },
  {
   "cell_type": "code",
   "execution_count": 295,
   "metadata": {},
   "outputs": [],
   "source": [
    "# Write code to divide the data into two subsets based on the number of missing values in each row.\n",
    "# Using threshold = 10 missing values\n",
    "less_missing = azdias[azdias.isnull().sum(axis = 1) <= 10].reset_index(drop = True)\n",
    "more_missing = azdias[azdias.isnull().sum(axis = 1) > 10].reset_index(drop = True)"
   ]
  },
  {
   "cell_type": "code",
   "execution_count": 296,
   "metadata": {},
   "outputs": [],
   "source": [
    "# Function that compare the distribution of values for at least five columns where there are no or few missing values, \n",
    "# between the two subsets.\n",
    "def compare_distribs(col_name):\n",
    "    plt.figure(figsize = (12,4))\n",
    "    plt.subplot(121)\n",
    "    ax = sns.countplot(x = col_name, data = less_missing)\n",
    "    plt.title(\"<= 10 Missing Values\")\n",
    "    plt.subplot(122)\n",
    "    ax = sns.countplot(x = col_name, data = more_missing)\n",
    "    plt.title(\"> 10 Missing Values\")"
   ]
  },
  {
   "cell_type": "code",
   "execution_count": 297,
   "metadata": {},
   "outputs": [
    {
     "data": {
      "image/png": "[encoded data removed]",
      "text/plain": [
       "<matplotlib.figure.Figure at 0x7ff176bd3f28>"
      ]
     },
     "metadata": {
      "needs_background": "light"
     },
     "output_type": "display_data"
    },
    {
     "data": {
      "image/png": "[encoded data removed]",
      "text/plain": [
       "<matplotlib.figure.Figure at 0x7ff170e2e1d0>"
      ]
     },
     "metadata": {
      "needs_background": "light"
     },
     "output_type": "display_data"
    },
    {
     "data": {
      "image/png": "[encoded data removed]",
      "text/plain": [
       "<matplotlib.figure.Figure at 0x7ff170cbb208>"
      ]
     },
     "metadata": {
      "needs_background": "light"
     },
     "output_type": "display_data"
    },
    {
     "data": {
      "image/png": "[encoded data removed]",
      "text/plain": [
       "<matplotlib.figure.Figure at 0x7ff170eff550>"
      ]
     },
     "metadata": {
      "needs_background": "light"
     },
     "output_type": "display_data"
    },
    {
     "data": {
      "image/png": "[encoded data removed]",
      "text/plain": [
       "<matplotlib.figure.Figure at 0x7ff170e84908>"
      ]
     },
     "metadata": {
      "needs_background": "light"
     },
     "output_type": "display_data"
    }
   ],
   "source": [
    "# Columns that are not missing data (or are missing very little data)\n",
    "cols_few_null = list(less_missing.columns)\n",
    "random.shuffle(cols_few_null)\n",
    "\n",
    "# Prints plots that compare distributions for 5 random columns that have few nulls\n",
    "for i in cols_few_null[:5]:\n",
    "    compare_distribs(i)"
   ]
  },
  {
   "cell_type": "markdown",
   "metadata": {},
   "source": [
    "#### Discussion 1.1.3: Assess Missing Data in Each Row\n",
    "\n",
    "**About a third of the rows in the data set contained missing values. Looking at the distribution of missing values by number of rows, there were a number of rows that had more than 10 missing values and so I decided to divide the data into two subsets using the missing value threshold of n=10. Using this threshold and looking at the compared distribution plots on columns that are not missing data (or are missing very little data) above, you can see that there are indeed differences between the rows that have a lesser number of missing values and a large number of missing values for various columns.**\n",
    "\n",
    "**These said columns will be treated separately rather than dropped.** \n"
   ]
  },
  {
   "cell_type": "markdown",
   "metadata": {},
   "source": [
    "### Step 1.2: Select and Re-Encode Features\n",
    "\n",
    "Checking for missing data isn't the only way in which you can prepare a dataset for analysis. Since the unsupervised learning techniques to be used will only work on data that is encoded numerically, you need to make a few encoding changes or additional assumptions to be able to make progress. In addition, while almost all of the values in the dataset are encoded using numbers, not all of them represent numeric values. Check the third column of the feature summary (`feat_info`) for a summary of types of measurement.\n",
    "- For numeric and interval data, these features can be kept without changes.\n",
    "- Most of the variables in the dataset are ordinal in nature. While ordinal values may technically be non-linear in spacing, make the simplifying assumption that the ordinal variables can be treated as being interval in nature (that is, kept without any changes).\n",
    "- Special handling may be necessary for the remaining two variable types: categorical, and 'mixed'.\n",
    "\n",
    "In the first two parts of this sub-step, you will perform an investigation of the categorical and mixed-type features and make a decision on each of them, whether you will keep, drop, or re-encode each. Then, in the last part, you will create a new data frame with only the selected and engineered columns.\n",
    "\n",
    "Data wrangling is often the trickiest part of the data analysis process, and there's a lot of it to be done here. But stick with it: once you're done with this step, you'll be ready to get to the machine learning parts of the project!"
   ]
  },
  {
   "cell_type": "code",
   "execution_count": 298,
   "metadata": {},
   "outputs": [
    {
     "data": {
      "text/plain": [
       "ordinal        49\n",
       "categorical    18\n",
       "numeric         6\n",
       "mixed           6\n",
       "Name: type, dtype: int64"
      ]
     },
     "execution_count": 298,
     "metadata": {},
     "output_type": "execute_result"
    }
   ],
   "source": [
    "# How many features are there of each data type?\n",
    "feat_info.type.value_counts()"
   ]
  },
  {
   "cell_type": "markdown",
   "metadata": {},
   "source": [
    "#### Step 1.2.1: Re-Encode Categorical Features\n",
    "\n",
    "For categorical data, you would ordinarily need to encode the levels as dummy variables. Depending on the number of categories, perform one of the following:\n",
    "- For binary (two-level) categoricals that take numeric values, you can keep them without needing to do anything.\n",
    "- There is one binary variable that takes on non-numeric values. For this one, you need to re-encode the values as numbers or create a dummy variable.\n",
    "- For multi-level categoricals (three or more values), you can choose to encode the values using multiple dummy variables (e.g. via [OneHotEncoder](http://scikit-learn.org/stable/modules/generated/sklearn.preprocessing.OneHotEncoder.html)), or (to keep things straightforward) just drop them from the analysis. As always, document your choices in the Discussion section."
   ]
  },
  {
   "cell_type": "code",
   "execution_count": 299,
   "metadata": {},
   "outputs": [
    {
     "name": "stdout",
     "output_type": "stream",
     "text": [
      "Categorical features and their unique values:\n",
      "\n",
      "ANREDE_KZ : [1 2]\n",
      "CJT_GESAMTTYP : [2.0 5.0 3.0 4.0 1.0 6.0 nan]\n",
      "FINANZTYP : [4 1 6 5 2 3]\n",
      "GFK_URLAUBERTYP : [10.0 1.0 5.0 12.0 9.0 3.0 8.0 11.0 4.0 2.0 7.0 6.0 nan]\n",
      "GREEN_AVANTGARDE : [0 1]\n",
      "LP_FAMILIE_FEIN : [2.0 5.0 1.0 nan 10.0 7.0 11.0 3.0 8.0 4.0 6.0 9.0]\n",
      "LP_FAMILIE_GROB : [2.0 3.0 1.0 nan 5.0 4.0]\n",
      "LP_STATUS_FEIN : [1.0 2.0 3.0 9.0 4.0 10.0 5.0 8.0 6.0 7.0 nan]\n",
      "LP_STATUS_GROB : [1.0 2.0 4.0 5.0 3.0 nan]\n",
      "NATIONALITAET_KZ : [nan 1.0 3.0 2.0]\n",
      "SHOPPER_TYP : [nan 3.0 2.0 1.0 0.0]\n",
      "SOHO_KZ : [nan 1.0 0.0]\n",
      "VERS_TYP : [nan 2.0 1.0]\n",
      "ZABEOTYP : [3 5 4 1 6 2]\n",
      "GEBAEUDETYP : [nan 8.0 1.0 3.0 2.0 6.0 4.0 5.0]\n",
      "OST_WEST_KZ : [nan 'W' 'O']\n",
      "CAMEO_DEUG_2015 : [nan '8' '4' '2' '6' '1' '9' '5' '7' '3']\n",
      "CAMEO_DEU_2015 : [nan '8A' '4C' '2A' '6B' '8C' '4A' '2D' '1A' '1E' '9D' '5C' '8B' '7A' '5D'\n",
      " '9E' '9B' '1B' '3D' '4E' '4B' '3C' '5A' '7B' '9A' '6D' '6E' '2C' '7C' '9C'\n",
      " '7D' '5E' '1D' '8D' '6C' '6A' '5B' '4D' '3A' '2B' '7E' '3B' '6F' '5F' '1C']\n"
     ]
    }
   ],
   "source": [
    "# Assess categorical variables: which are binary, which are multi-level, and which one needs to be re-encoded?\n",
    "categorical_features = list(feat_info[feat_info['type'] == 'categorical']['attribute'].values)\n",
    "print('Categorical features and their unique values:\\n')\n",
    "_ = azdias[categorical_features].apply(lambda x: print(x.name, ':', x.unique()))"
   ]
  },
  {
   "cell_type": "code",
   "execution_count": 300,
   "metadata": {},
   "outputs": [],
   "source": [
    "# Re-encode categorical variable(s) to be kept in the analysis\n",
    "less_missing = pd.get_dummies(less_missing, columns = ['CJT_GESAMTTYP','FINANZTYP', 'LP_FAMILIE_GROB', 'LP_STATUS_GROB', \n",
    "                                               'NATIONALITAET_KZ', 'SHOPPER_TYP', 'ZABEOTYP', 'OST_WEST_KZ'])\n",
    "\n",
    "# Dropping multi-level categoricals with more than 6 distinct values\n",
    "azdias_encoded = less_missing.drop(['GFK_URLAUBERTYP', 'LP_FAMILIE_FEIN', 'LP_STATUS_FEIN', 'GEBAEUDETYP', 'CAMEO_DEUG_2015', 'CAMEO_DEU_2015'], axis = 1)\n"
   ]
  },
  {
   "cell_type": "code",
   "execution_count": 301,
   "metadata": {},
   "outputs": [
    {
     "name": "stdout",
     "output_type": "stream",
     "text": [
      "Number of columns: 102\n"
     ]
    }
   ],
   "source": [
    "azdias_encoded\n",
    "num_rows_enc, num_cols_enc = azdias_encoded.shape\n",
    "print('Number of columns: {}'.format(num_cols_enc))"
   ]
  },
  {
   "cell_type": "markdown",
   "metadata": {},
   "source": [
    "#### Discussion 1.2.1: Re-Encode Categorical Features\n",
    "\n",
    "**There were a total of 18 categorical features in the data set:**\n",
    "* **4 binary categoricals that took on numeric values - kept as is**\n",
    "* **1 binary categorical that took on non-numeric values (OST_WEST_KZ) - kept/re-encoded with dummy variable**\n",
    "* **13 multi-level categoricals - kept/re-encoded 7 of these (that had at most 6 distinct values) with dummy variables, dropped the remaining 6 features (that had more than 6 distinct values)**\n",
    "    - **Kept/re-encoded columns:** 'CJT_GESAMTTYP','FINANZTYP', 'LP_FAMILIE_GROB', 'LP_STATUS_GROB', 'NATIONALITAET_KZ', 'SHOPPER_TYP', 'ZABEOTYP'\n",
    "    - **Dropped columns:** 'GFK_URLAUBERTYP', 'LP_FAMILIE_FEIN', 'LP_STATUS_FEIN', 'GEBAEUDETYP', 'CAMEO_DEUG_2015', 'CAMEO_DEU_2015'\n",
    "    \n",
    "**After feature selection/engineering of these categoricals, we are now left with 102 columns in the dataset.** "
   ]
  },
  {
   "cell_type": "markdown",
   "metadata": {},
   "source": [
    "#### Step 1.2.2: Engineer Mixed-Type Features\n",
    "\n",
    "There are a handful of features that are marked as \"mixed\" in the feature summary that require special treatment in order to be included in the analysis. There are two in particular that deserve attention; the handling of the rest are up to your own choices:\n",
    "- \"PRAEGENDE_JUGENDJAHRE\" combines information on three dimensions: generation by decade, movement (mainstream vs. avantgarde), and nation (east vs. west). While there aren't enough levels to disentangle east from west, you should create two new variables to capture the other two dimensions: an interval-type variable for decade, and a binary variable for movement.\n",
    "- \"CAMEO_INTL_2015\" combines information on two axes: wealth and life stage. Break up the two-digit codes by their 'tens'-place and 'ones'-place digits into two new ordinal variables (which, for the purposes of this project, is equivalent to just treating them as their raw numeric values).\n",
    "- If you decide to keep or engineer new features around the other mixed-type features, make sure you note your steps in the Discussion section.\n",
    "\n",
    "Be sure to check `Data_Dictionary.md` for the details needed to finish these tasks."
   ]
  },
  {
   "cell_type": "code",
   "execution_count": 302,
   "metadata": {},
   "outputs": [
    {
     "data": {
      "text/plain": [
       "['LP_LEBENSPHASE_FEIN',\n",
       " 'LP_LEBENSPHASE_GROB',\n",
       " 'PRAEGENDE_JUGENDJAHRE',\n",
       " 'WOHNLAGE',\n",
       " 'CAMEO_INTL_2015',\n",
       " 'PLZ8_BAUMAX']"
      ]
     },
     "execution_count": 302,
     "metadata": {},
     "output_type": "execute_result"
    }
   ],
   "source": [
    "# Features of 'Mixed' type\n",
    "list(feat_info[feat_info['type'] == 'mixed']['attribute'].values)"
   ]
  },
  {
   "cell_type": "markdown",
   "metadata": {},
   "source": [
    "**Looking at the feature *PRAEGENDE_JUGENDJAHRE*:** \n",
    "\n",
    "Dominating movement of person's youth (avantgarde vs. mainstream; east vs. west)\n",
    "\n",
    "- -1: unknown\n",
    "-  0: unknown\n",
    "-  1: 40s - war years (Mainstream, E+W)\n",
    "-  2: 40s - reconstruction years (Avantgarde, E+W)\n",
    "-  3: 50s - economic miracle (Mainstream, E+W)\n",
    "-  4: 50s - milk bar / Individualisation (Avantgarde, E+W)\n",
    "-  5: 60s - economic miracle (Mainstream, E+W)\n",
    "-  6: 60s - generation 68 / student protestors (Avantgarde, W)\n",
    "-  7: 60s - opponents to the building of the Wall (Avantgarde, E)\n",
    "-  8: 70s - family orientation (Mainstream, E+W)\n",
    "-  9: 70s - peace movement (Avantgarde, E+W)\n",
    "- 10: 80s - Generation Golf (Mainstream, W)\n",
    "- 11: 80s - ecological awareness (Avantgarde, W)\n",
    "- 12: 80s - FDJ / communist party youth organisation (Mainstream, E)\n",
    "- 13: 80s - Swords into ploughshares (Avantgarde, E)\n",
    "- 14: 90s - digital media kids (Mainstream, E+W)\n",
    "- 15: 90s - ecological awareness (Avantgarde, E+W)"
   ]
  },
  {
   "cell_type": "code",
   "execution_count": 303,
   "metadata": {},
   "outputs": [],
   "source": [
    "# Engineer two new variables, decade and movement, for 'PRAEGENDE_JUGENDJAHRE'\n",
    "# For movement:\n",
    "#    Mainstream = 1\n",
    "#    Avantgarde = 0\n",
    "full_mapping = pd.DataFrame({-1: [np.nan, np.nan],\n",
    "                          0: [np.nan, np.nan],\n",
    "                          1: [40, 1],\n",
    "                          2: [40, 0],\n",
    "                          3: [50, 1],\n",
    "                          4: [50, 0],\n",
    "                          5: [60, 1],\n",
    "                          6: [60, 0],\n",
    "                          7: [60, 0],\n",
    "                          8: [70, 1],\n",
    "                          9: [70, 0],\n",
    "                          10: [80, 1],\n",
    "                          11: [80, 0],\n",
    "                          12: [80, 1],\n",
    "                          13: [80, 0],\n",
    "                          14: [90, 1],\n",
    "                          15: [90, 0]}).T\n",
    "\n",
    "# Create column that encodes decade\n",
    "decade_mapping = full_mapping[0].to_dict()\n",
    "azdias_encoded['DECADE'] = azdias_encoded['PRAEGENDE_JUGENDJAHRE'].map(decade_mapping)\n",
    "\n",
    "# Create column that encodes movement \n",
    "movement_mapping = full_mapping[1].to_dict()\n",
    "azdias_encoded['MOVEMENT'] = azdias_encoded['PRAEGENDE_JUGENDJAHRE'].map(movement_mapping)"
   ]
  },
  {
   "cell_type": "markdown",
   "metadata": {},
   "source": [
    "**Looking at the feature *CAMEO_INTL_2015*:**\n",
    "\n",
    "German CAMEO: Wealth / Life Stage Typology, mapped to international code\n",
    "\n",
    "- -1: unknown\n",
    "- 11: Wealthy Households - Pre-Family Couples & Singles\n",
    "- 12: Wealthy Households - Young Couples With Children\n",
    "- 13: Wealthy Households - Families With School Age Children\n",
    "- 14: Wealthy Households - Older Families &  Mature Couples\n",
    "- 15: Wealthy Households - Elders In Retirement\n",
    "- 21: Prosperous Households - Pre-Family Couples & Singles\n",
    "- 22: Prosperous Households - Young Couples With Children\n",
    "- 23: Prosperous Households - Families With School Age Children\n",
    "- 24: Prosperous Households - Older Families & Mature Couples\n",
    "- 25: Prosperous Households - Elders In Retirement\n",
    "- 31: Comfortable Households - Pre-Family Couples & Singles\n",
    "- 32: Comfortable Households - Young Couples With Children\n",
    "- 33: Comfortable Households - Families With School Age Children\n",
    "- 34: Comfortable Households - Older Families & Mature Couples\n",
    "- 35: Comfortable Households - Elders In Retirement\n",
    "- 41: Less Affluent Households - Pre-Family Couples & Singles\n",
    "- 42: Less Affluent Households - Young Couples With Children\n",
    "- 43: Less Affluent Households - Families With School Age Children\n",
    "- 44: Less Affluent Households - Older Families & Mature Couples\n",
    "- 45: Less Affluent Households - Elders In Retirement\n",
    "- 51: Poorer Households - Pre-Family Couples & Singles\n",
    "- 52: Poorer Households - Young Couples With Children\n",
    "- 53: Poorer Households - Families With School Age Children\n",
    "- 54: Poorer Households - Older Families & Mature Couples\n",
    "- 55: Poorer Households - Elders In Retirement\n",
    "- XX: unknown\n"
   ]
  },
  {
   "cell_type": "code",
   "execution_count": 304,
   "metadata": {},
   "outputs": [],
   "source": [
    "# Engineer two new variables, wealth and life stage, for 'CAMEO_INTL_2015'\n",
    "# We do this by breaking up the two-digit codes by their 'tens'-place and 'ones'-place digits \n",
    "# into two new ordinal variables\n",
    "azdias_encoded['WEALTH'] = pd.to_numeric(azdias_encoded['CAMEO_INTL_2015']) // 10\n",
    "azdias_encoded['LIFE_STAGE'] = pd.to_numeric(azdias_encoded['CAMEO_INTL_2015']) % 10"
   ]
  },
  {
   "cell_type": "markdown",
   "metadata": {},
   "source": [
    "#### Discussion 1.2.2: Engineer Mixed-Type Features\n",
    "\n",
    "**There were a total of six 'mixed' features in the data set.  Given that the features PRAEGENDE_JUGENDJAHRE and CAMEO_INTL_2015 were both multi-dimensional, I performed feature engineering on both by splitting each into two new features:**\n",
    "* *PRAEGENDE_JUGENDJAHRE*: **created two new variables, decade and movement**\n",
    "* *CAMEO_INTL_2015*: **created two new variables, wealth and life stage**\n",
    "\n",
    "**The other four features were all one dimensional, therefore I kept those as is.**"
   ]
  },
  {
   "cell_type": "markdown",
   "metadata": {},
   "source": [
    "#### Step 1.2.3: Complete Feature Selection\n",
    "\n",
    "In order to finish this step up, you need to make sure that your data frame now only has the columns that you want to keep. To summarize, the dataframe should consist of the following:\n",
    "- All numeric, interval, and ordinal type columns from the original dataset.\n",
    "- Binary categorical features (all numerically-encoded).\n",
    "- Engineered features from other multi-level categorical features and mixed features.\n",
    "\n",
    "Make sure that for any new columns that you have engineered, that you've excluded the original columns from the final dataset. Otherwise, their values will interfere with the analysis later on the project. For example, you should not keep \"PRAEGENDE_JUGENDJAHRE\", since its values won't be useful for the algorithm: only the values derived from it in the engineered features you created should be retained. As a reminder, your data should only be from **the subset with few or no missing values**."
   ]
  },
  {
   "cell_type": "code",
   "execution_count": 305,
   "metadata": {},
   "outputs": [],
   "source": [
    "# If there are other re-engineering tasks you need to perform, make sure you\n",
    "# take care of them here. (Dealing with missing data will come in step 2.1.)"
   ]
  },
  {
   "cell_type": "code",
   "execution_count": 306,
   "metadata": {},
   "outputs": [],
   "source": [
    "# Do whatever you need to in order to ensure that the dataframe only contains\n",
    "# the columns that should be passed to the algorithm functions.\n",
    "# Dropping the original PRAEGENDE_JUGENDJAHRE and CAMEO_INTL_2015 columns from the dataset\n",
    "azdias_encoded.drop(['PRAEGENDE_JUGENDJAHRE', 'CAMEO_INTL_2015'], axis = 1, inplace = True)"
   ]
  },
  {
   "cell_type": "code",
   "execution_count": 307,
   "metadata": {},
   "outputs": [
    {
     "name": "stdout",
     "output_type": "stream",
     "text": [
      "New number of columns: 104\n"
     ]
    }
   ],
   "source": [
    "num_rows_enc, num_cols_enc = azdias_encoded.shape\n",
    "print('New number of columns: {}'.format(num_cols_enc))"
   ]
  },
  {
   "cell_type": "markdown",
   "metadata": {},
   "source": [
    "### Step 1.3: Create a Cleaning Function\n",
    "\n",
    "Even though you've finished cleaning up the general population demographics data, it's important to look ahead to the future and realize that you'll need to perform the same cleaning steps on the customer demographics data. In this substep, complete the function below to execute the main feature selection, encoding, and re-engineering steps you performed above. Then, when it comes to looking at the customer data in Step 3, you can just run this function on that DataFrame to get the trimmed dataset in a single step."
   ]
  },
  {
   "cell_type": "code",
   "execution_count": 308,
   "metadata": {},
   "outputs": [],
   "source": [
    "def clean_data(df):\n",
    "    \"\"\"\n",
    "    Perform feature trimming, re-encoding, and engineering for demographics\n",
    "    data\n",
    "    \n",
    "    INPUT: Demographics DataFrame\n",
    "    OUTPUT: Trimmed and cleaned demographics DataFrame\n",
    "    \"\"\"\n",
    "    # Load in the feature summary file.\n",
    "    feat_info = pd.read_csv('AZDIAS_Feature_Summary.csv', delimiter = ';')\n",
    "    \n",
    "    # execute all main cleaning steps:\n",
    "    # Identify missing or unknown data values and convert them to NaNs.\n",
    "    for i, column in enumerate(df.columns):\n",
    "        str_n = feat_info['missing_or_unknown'].iloc[i]\n",
    "        if i in [57, 58, 59]:  # to accomodate for [*X] unknown values\n",
    "            list_n = str_n[1: -1].split(',')\n",
    "        else:\n",
    "            list_n = literal_eval(str_n)\n",
    "        for j in list_n:\n",
    "            df[column].replace(j, np.NaN, inplace = True)\n",
    "\n",
    "    # Remove the outlier columns from the dataset\n",
    "    df.drop(['AGER_TYP', 'GEBURTSJAHR', 'TITEL_KZ', 'ALTER_HH', 'KK_KUNDENTYP', 'KBA05_BAUMAX'], axis = 1, inplace = True)\n",
    "            \n",
    "    # Divide the data into two subsets based on the number of missing values in each row.\n",
    "    # Using threshold = 10 missing values\n",
    "    less_missing_df = df[df.isnull().sum(axis = 1) <= 10].reset_index(drop = True)\n",
    "\n",
    "    # Re-encode categorical variable(s) to be kept in the analysis\n",
    "    less_missing_df = pd.get_dummies(less_missing_df, columns = ['CJT_GESAMTTYP','FINANZTYP', 'LP_FAMILIE_GROB', 'LP_STATUS_GROB', \n",
    "                                                   'NATIONALITAET_KZ', 'SHOPPER_TYP', 'ZABEOTYP', 'OST_WEST_KZ'])\n",
    "\n",
    "    # Dropping multi-level categoricals with more than 6 distinct values\n",
    "    df = less_missing_df.drop(['GFK_URLAUBERTYP', 'LP_FAMILIE_FEIN', 'LP_STATUS_FEIN', 'GEBAEUDETYP', 'CAMEO_DEUG_2015', 'CAMEO_DEU_2015'], axis = 1)\n",
    "\n",
    "    # Engineer two new variables, decade and movement, for 'PRAEGENDE_JUGENDJAHRE'\n",
    "    # For movement:\n",
    "    #    Mainstream = 1\n",
    "    #    Avantgarde = 0\n",
    "    full_mapping = pd.DataFrame({-1: [np.nan, np.nan],\n",
    "                              0: [np.nan, np.nan],\n",
    "                              1: [40, 1],\n",
    "                              2: [40, 0],\n",
    "                              3: [50, 1],\n",
    "                              4: [50, 0],\n",
    "                              5: [60, 1],\n",
    "                              6: [60, 0],\n",
    "                              7: [60, 0],\n",
    "                              8: [70, 1],\n",
    "                              9: [70, 0],\n",
    "                              10: [80, 1],\n",
    "                              11: [80, 0],\n",
    "                              12: [80, 1],\n",
    "                              13: [80, 0],\n",
    "                              14: [90, 1],\n",
    "                              15: [90, 0]}).T\n",
    "\n",
    "    # Create column that encodes decade\n",
    "    decade_mapping = full_mapping[0].to_dict()\n",
    "    df['DECADE'] = df['PRAEGENDE_JUGENDJAHRE'].map(decade_mapping)\n",
    "\n",
    "    # Create column that encodes movement \n",
    "    movement_mapping = full_mapping[1].to_dict()\n",
    "    df['MOVEMENT'] = df['PRAEGENDE_JUGENDJAHRE'].map(movement_mapping)\n",
    "\n",
    "\n",
    "    # Engineer two new variables, wealth and life stage, for 'CAMEO_INTL_2015'\n",
    "    # We do this by breaking up the two-digit codes by their 'tens'-place and 'ones'-place digits \n",
    "    # into two new ordinal variables\n",
    "    df['WEALTH'] = pd.to_numeric(df['CAMEO_INTL_2015']) // 10\n",
    "    df['LIFE_STAGE'] = pd.to_numeric(df['CAMEO_INTL_2015']) % 10\n",
    "\n",
    "    # Drop the original PRAEGENDE_JUGENDJAHRE and CAMEO_INTL_2015 columns from the dataset\n",
    "    df.drop(['PRAEGENDE_JUGENDJAHRE', 'CAMEO_INTL_2015'], axis = 1, inplace = True)\n",
    "\n",
    "    # Return the cleaned dataframe.\n",
    "    return df"
   ]
  },
  {
   "cell_type": "code",
   "execution_count": 309,
   "metadata": {},
   "outputs": [
    {
     "name": "stdout",
     "output_type": "stream",
     "text": [
      "Number of columns: 104\n"
     ]
    }
   ],
   "source": [
    "# To check clean_data function above:\n",
    "# Load in the general demographics data\n",
    "azdias = pd.read_csv('Udacity_AZDIAS_Subset.csv', delimiter=';')\n",
    "\n",
    "# Run azdias through clean data and make sure the columns are the same\n",
    "azdias = clean_data(azdias)\n",
    "feature_names = list(azdias.columns)\n",
    "rows_enc, cols_enc = azdias.shape\n",
    "print('Number of columns: {}'.format(cols_enc))"
   ]
  },
  {
   "cell_type": "markdown",
   "metadata": {},
   "source": [
    "## Step 2: Feature Transformation\n",
    "\n",
    "### Step 2.1: Apply Feature Scaling\n",
    "\n",
    "Before we apply dimensionality reduction techniques to the data, we need to perform feature scaling so that the principal component vectors are not influenced by the natural differences in scale for features. Starting from this part of the project, you'll want to keep an eye on the [API reference page for sklearn](http://scikit-learn.org/stable/modules/classes.html) to help you navigate to all of the classes and functions that you'll need. In this substep, you'll need to check the following:\n",
    "\n",
    "- sklearn requires that data not have missing values in order for its estimators to work properly. So, before applying the scaler to your data, make sure that you've cleaned the DataFrame of the remaining missing values. This can be as simple as just removing all data points with missing data, or applying an [Imputer](http://scikit-learn.org/stable/modules/generated/sklearn.preprocessing.Imputer.html) to replace all missing values. You might also try a more complicated procedure where you temporarily remove missing values in order to compute the scaling parameters before re-introducing those missing values and applying imputation. Think about how much missing data you have and what possible effects each approach might have on your analysis, and justify your decision in the discussion section below.\n",
    "- For the actual scaling function, a [StandardScaler](http://scikit-learn.org/stable/modules/generated/sklearn.preprocessing.StandardScaler.html) instance is suggested, scaling each feature to mean 0 and standard deviation 1.\n",
    "- For these classes, you can make use of the `.fit_transform()` method to both fit a procedure to the data as well as apply the transformation to the data at the same time. Don't forget to keep the fit sklearn objects handy, since you'll be applying them to the customer demographics data towards the end of the project."
   ]
  },
  {
   "cell_type": "code",
   "execution_count": 310,
   "metadata": {},
   "outputs": [],
   "source": [
    "# Apply Imputer to replace all missing values\n",
    "# Apply feature scaling to the general population demographics data (azdias)\n",
    "imputer = Imputer(missing_values = float(\"NaN\"), strategy = \"mean\", axis = 1, copy = False)\n",
    "scaler = StandardScaler()\n",
    "azdias[azdias.columns] = scaler.fit_transform(imputer.fit_transform(azdias))"
   ]
  },
  {
   "cell_type": "code",
   "execution_count": 311,
   "metadata": {},
   "outputs": [
    {
     "data": {
      "text/plain": [
       "0"
      ]
     },
     "execution_count": 311,
     "metadata": {},
     "output_type": "execute_result"
    }
   ],
   "source": [
    "# Check that all 'NAN's are transformed\n",
    "azdias.isnull().sum().sum()"
   ]
  },
  {
   "cell_type": "code",
   "execution_count": 312,
   "metadata": {},
   "outputs": [
    {
     "data": {
      "text/html": [
       "<div>\n",
       "<style>\n",
       "    .dataframe thead tr:only-child th {\n",
       "        text-align: right;\n",
       "    }\n",
       "\n",
       "    .dataframe thead th {\n",
       "        text-align: left;\n",
       "    }\n",
       "\n",
       "    .dataframe tbody tr th {\n",
       "        vertical-align: top;\n",
       "    }\n",
       "</style>\n",
       "<table border=\"1\" class=\"dataframe\">\n",
       "  <thead>\n",
       "    <tr style=\"text-align: right;\">\n",
       "      <th></th>\n",
       "      <th>ALTERSKATEGORIE_GROB</th>\n",
       "      <th>ANREDE_KZ</th>\n",
       "      <th>FINANZ_MINIMALIST</th>\n",
       "      <th>FINANZ_SPARER</th>\n",
       "      <th>FINANZ_VORSORGER</th>\n",
       "      <th>FINANZ_ANLEGER</th>\n",
       "      <th>FINANZ_UNAUFFAELLIGER</th>\n",
       "      <th>FINANZ_HAUSBAUER</th>\n",
       "      <th>GREEN_AVANTGARDE</th>\n",
       "      <th>HEALTH_TYP</th>\n",
       "      <th>...</th>\n",
       "      <th>ZABEOTYP_3</th>\n",
       "      <th>ZABEOTYP_4</th>\n",
       "      <th>ZABEOTYP_5</th>\n",
       "      <th>ZABEOTYP_6</th>\n",
       "      <th>OST_WEST_KZ_O</th>\n",
       "      <th>OST_WEST_KZ_W</th>\n",
       "      <th>DECADE</th>\n",
       "      <th>MOVEMENT</th>\n",
       "      <th>WEALTH</th>\n",
       "      <th>LIFE_STAGE</th>\n",
       "    </tr>\n",
       "  </thead>\n",
       "  <tbody>\n",
       "    <tr>\n",
       "      <th>count</th>\n",
       "      <td>7.801530e+05</td>\n",
       "      <td>7.801530e+05</td>\n",
       "      <td>7.801530e+05</td>\n",
       "      <td>7.801530e+05</td>\n",
       "      <td>7.801530e+05</td>\n",
       "      <td>7.801530e+05</td>\n",
       "      <td>7.801530e+05</td>\n",
       "      <td>7.801530e+05</td>\n",
       "      <td>7.801530e+05</td>\n",
       "      <td>7.801530e+05</td>\n",
       "      <td>...</td>\n",
       "      <td>7.801530e+05</td>\n",
       "      <td>7.801530e+05</td>\n",
       "      <td>7.801530e+05</td>\n",
       "      <td>7.801530e+05</td>\n",
       "      <td>7.801530e+05</td>\n",
       "      <td>7.801530e+05</td>\n",
       "      <td>7.801530e+05</td>\n",
       "      <td>7.801530e+05</td>\n",
       "      <td>7.801530e+05</td>\n",
       "      <td>7.801530e+05</td>\n",
       "    </tr>\n",
       "    <tr>\n",
       "      <th>mean</th>\n",
       "      <td>-4.521080e-17</td>\n",
       "      <td>4.519714e-17</td>\n",
       "      <td>1.012780e-16</td>\n",
       "      <td>7.527544e-17</td>\n",
       "      <td>8.963834e-17</td>\n",
       "      <td>1.339657e-16</td>\n",
       "      <td>9.701560e-17</td>\n",
       "      <td>-1.161965e-16</td>\n",
       "      <td>-8.288040e-17</td>\n",
       "      <td>3.880624e-16</td>\n",
       "      <td>...</td>\n",
       "      <td>-5.663190e-17</td>\n",
       "      <td>1.210418e-17</td>\n",
       "      <td>-1.741399e-17</td>\n",
       "      <td>-2.975497e-17</td>\n",
       "      <td>6.870876e-17</td>\n",
       "      <td>-1.216793e-16</td>\n",
       "      <td>1.222843e-15</td>\n",
       "      <td>3.134883e-17</td>\n",
       "      <td>6.164480e-16</td>\n",
       "      <td>2.724215e-16</td>\n",
       "    </tr>\n",
       "    <tr>\n",
       "      <th>std</th>\n",
       "      <td>1.000001e+00</td>\n",
       "      <td>1.000001e+00</td>\n",
       "      <td>1.000001e+00</td>\n",
       "      <td>1.000001e+00</td>\n",
       "      <td>1.000001e+00</td>\n",
       "      <td>1.000001e+00</td>\n",
       "      <td>1.000001e+00</td>\n",
       "      <td>1.000001e+00</td>\n",
       "      <td>1.000001e+00</td>\n",
       "      <td>1.000001e+00</td>\n",
       "      <td>...</td>\n",
       "      <td>1.000001e+00</td>\n",
       "      <td>1.000001e+00</td>\n",
       "      <td>1.000001e+00</td>\n",
       "      <td>1.000001e+00</td>\n",
       "      <td>1.000001e+00</td>\n",
       "      <td>1.000001e+00</td>\n",
       "      <td>1.000001e+00</td>\n",
       "      <td>1.000001e+00</td>\n",
       "      <td>1.000001e+00</td>\n",
       "      <td>1.000001e+00</td>\n",
       "    </tr>\n",
       "    <tr>\n",
       "      <th>min</th>\n",
       "      <td>-1.023329e+00</td>\n",
       "      <td>-1.043411e+00</td>\n",
       "      <td>-1.488140e+00</td>\n",
       "      <td>-1.151087e+00</td>\n",
       "      <td>-1.771610e+00</td>\n",
       "      <td>-1.247812e+00</td>\n",
       "      <td>-1.172510e+00</td>\n",
       "      <td>-1.532818e+00</td>\n",
       "      <td>-5.311987e-01</td>\n",
       "      <td>-4.288664e-01</td>\n",
       "      <td>...</td>\n",
       "      <td>-7.412825e-01</td>\n",
       "      <td>-5.944357e-01</td>\n",
       "      <td>-3.369173e-01</td>\n",
       "      <td>-3.134834e-01</td>\n",
       "      <td>-5.187691e-01</td>\n",
       "      <td>-1.927640e+00</td>\n",
       "      <td>-3.045877e+00</td>\n",
       "      <td>-3.375977e-01</td>\n",
       "      <td>-1.075618e+00</td>\n",
       "      <td>-8.806844e-01</td>\n",
       "    </tr>\n",
       "    <tr>\n",
       "      <th>25%</th>\n",
       "      <td>-4.808505e-01</td>\n",
       "      <td>-1.043411e+00</td>\n",
       "      <td>-7.624505e-01</td>\n",
       "      <td>-1.151087e+00</td>\n",
       "      <td>-1.045251e+00</td>\n",
       "      <td>-1.247812e+00</td>\n",
       "      <td>-1.172510e+00</td>\n",
       "      <td>-8.178947e-01</td>\n",
       "      <td>-5.311987e-01</td>\n",
       "      <td>-2.483434e-01</td>\n",
       "      <td>...</td>\n",
       "      <td>-7.412825e-01</td>\n",
       "      <td>-5.944357e-01</td>\n",
       "      <td>-3.369173e-01</td>\n",
       "      <td>-3.134834e-01</td>\n",
       "      <td>-5.187691e-01</td>\n",
       "      <td>5.187691e-01</td>\n",
       "      <td>-7.109739e-01</td>\n",
       "      <td>-1.403664e-01</td>\n",
       "      <td>-6.251444e-01</td>\n",
       "      <td>-8.806844e-01</td>\n",
       "    </tr>\n",
       "    <tr>\n",
       "      <th>50%</th>\n",
       "      <td>6.162847e-02</td>\n",
       "      <td>9.583948e-01</td>\n",
       "      <td>-3.676105e-02</td>\n",
       "      <td>1.939963e-01</td>\n",
       "      <td>4.074683e-01</td>\n",
       "      <td>1.097306e-01</td>\n",
       "      <td>-4.549831e-01</td>\n",
       "      <td>-1.029710e-01</td>\n",
       "      <td>-5.311987e-01</td>\n",
       "      <td>-2.483434e-01</td>\n",
       "      <td>...</td>\n",
       "      <td>-7.412825e-01</td>\n",
       "      <td>-5.944357e-01</td>\n",
       "      <td>-3.369173e-01</td>\n",
       "      <td>-3.134834e-01</td>\n",
       "      <td>-5.187691e-01</td>\n",
       "      <td>5.187691e-01</td>\n",
       "      <td>-1.041965e-01</td>\n",
       "      <td>-1.403664e-01</td>\n",
       "      <td>2.758023e-01</td>\n",
       "      <td>6.182818e-03</td>\n",
       "    </tr>\n",
       "    <tr>\n",
       "      <th>75%</th>\n",
       "      <td>6.041074e-01</td>\n",
       "      <td>9.583948e-01</td>\n",
       "      <td>6.889284e-01</td>\n",
       "      <td>8.665379e-01</td>\n",
       "      <td>1.133828e+00</td>\n",
       "      <td>7.885020e-01</td>\n",
       "      <td>9.800714e-01</td>\n",
       "      <td>6.119528e-01</td>\n",
       "      <td>-5.311987e-01</td>\n",
       "      <td>-6.782041e-02</td>\n",
       "      <td>...</td>\n",
       "      <td>1.349013e+00</td>\n",
       "      <td>1.682268e+00</td>\n",
       "      <td>-3.369173e-01</td>\n",
       "      <td>-3.134834e-01</td>\n",
       "      <td>-5.187691e-01</td>\n",
       "      <td>5.187691e-01</td>\n",
       "      <td>1.109358e+00</td>\n",
       "      <td>-1.403664e-01</td>\n",
       "      <td>7.262757e-01</td>\n",
       "      <td>4.496164e-01</td>\n",
       "    </tr>\n",
       "    <tr>\n",
       "      <th>max</th>\n",
       "      <td>2.278547e+01</td>\n",
       "      <td>9.583948e-01</td>\n",
       "      <td>1.414618e+00</td>\n",
       "      <td>1.539080e+00</td>\n",
       "      <td>1.133828e+00</td>\n",
       "      <td>1.467273e+00</td>\n",
       "      <td>1.697599e+00</td>\n",
       "      <td>1.326876e+00</td>\n",
       "      <td>1.882535e+00</td>\n",
       "      <td>7.903695e+00</td>\n",
       "      <td>...</td>\n",
       "      <td>1.349013e+00</td>\n",
       "      <td>1.682268e+00</td>\n",
       "      <td>2.968088e+00</td>\n",
       "      <td>3.189962e+00</td>\n",
       "      <td>1.927640e+00</td>\n",
       "      <td>5.187691e-01</td>\n",
       "      <td>1.109358e+00</td>\n",
       "      <td>9.104322e+00</td>\n",
       "      <td>1.919113e+01</td>\n",
       "      <td>1.906935e+01</td>\n",
       "    </tr>\n",
       "  </tbody>\n",
       "</table>\n",
       "<p>8 rows × 104 columns</p>\n",
       "</div>"
      ],
      "text/plain": [
       "       ALTERSKATEGORIE_GROB     ANREDE_KZ  FINANZ_MINIMALIST  FINANZ_SPARER  \\\n",
       "count          7.801530e+05  7.801530e+05       7.801530e+05   7.801530e+05   \n",
       "mean          -4.521080e-17  4.519714e-17       1.012780e-16   7.527544e-17   \n",
       "std            1.000001e+00  1.000001e+00       1.000001e+00   1.000001e+00   \n",
       "min           -1.023329e+00 -1.043411e+00      -1.488140e+00  -1.151087e+00   \n",
       "25%           -4.808505e-01 -1.043411e+00      -7.624505e-01  -1.151087e+00   \n",
       "50%            6.162847e-02  9.583948e-01      -3.676105e-02   1.939963e-01   \n",
       "75%            6.041074e-01  9.583948e-01       6.889284e-01   8.665379e-01   \n",
       "max            2.278547e+01  9.583948e-01       1.414618e+00   1.539080e+00   \n",
       "\n",
       "       FINANZ_VORSORGER  FINANZ_ANLEGER  FINANZ_UNAUFFAELLIGER  \\\n",
       "count      7.801530e+05    7.801530e+05           7.801530e+05   \n",
       "mean       8.963834e-17    1.339657e-16           9.701560e-17   \n",
       "std        1.000001e+00    1.000001e+00           1.000001e+00   \n",
       "min       -1.771610e+00   -1.247812e+00          -1.172510e+00   \n",
       "25%       -1.045251e+00   -1.247812e+00          -1.172510e+00   \n",
       "50%        4.074683e-01    1.097306e-01          -4.549831e-01   \n",
       "75%        1.133828e+00    7.885020e-01           9.800714e-01   \n",
       "max        1.133828e+00    1.467273e+00           1.697599e+00   \n",
       "\n",
       "       FINANZ_HAUSBAUER  GREEN_AVANTGARDE    HEALTH_TYP      ...       \\\n",
       "count      7.801530e+05      7.801530e+05  7.801530e+05      ...        \n",
       "mean      -1.161965e-16     -8.288040e-17  3.880624e-16      ...        \n",
       "std        1.000001e+00      1.000001e+00  1.000001e+00      ...        \n",
       "min       -1.532818e+00     -5.311987e-01 -4.288664e-01      ...        \n",
       "25%       -8.178947e-01     -5.311987e-01 -2.483434e-01      ...        \n",
       "50%       -1.029710e-01     -5.311987e-01 -2.483434e-01      ...        \n",
       "75%        6.119528e-01     -5.311987e-01 -6.782041e-02      ...        \n",
       "max        1.326876e+00      1.882535e+00  7.903695e+00      ...        \n",
       "\n",
       "         ZABEOTYP_3    ZABEOTYP_4    ZABEOTYP_5    ZABEOTYP_6  OST_WEST_KZ_O  \\\n",
       "count  7.801530e+05  7.801530e+05  7.801530e+05  7.801530e+05   7.801530e+05   \n",
       "mean  -5.663190e-17  1.210418e-17 -1.741399e-17 -2.975497e-17   6.870876e-17   \n",
       "std    1.000001e+00  1.000001e+00  1.000001e+00  1.000001e+00   1.000001e+00   \n",
       "min   -7.412825e-01 -5.944357e-01 -3.369173e-01 -3.134834e-01  -5.187691e-01   \n",
       "25%   -7.412825e-01 -5.944357e-01 -3.369173e-01 -3.134834e-01  -5.187691e-01   \n",
       "50%   -7.412825e-01 -5.944357e-01 -3.369173e-01 -3.134834e-01  -5.187691e-01   \n",
       "75%    1.349013e+00  1.682268e+00 -3.369173e-01 -3.134834e-01  -5.187691e-01   \n",
       "max    1.349013e+00  1.682268e+00  2.968088e+00  3.189962e+00   1.927640e+00   \n",
       "\n",
       "       OST_WEST_KZ_W        DECADE      MOVEMENT        WEALTH    LIFE_STAGE  \n",
       "count   7.801530e+05  7.801530e+05  7.801530e+05  7.801530e+05  7.801530e+05  \n",
       "mean   -1.216793e-16  1.222843e-15  3.134883e-17  6.164480e-16  2.724215e-16  \n",
       "std     1.000001e+00  1.000001e+00  1.000001e+00  1.000001e+00  1.000001e+00  \n",
       "min    -1.927640e+00 -3.045877e+00 -3.375977e-01 -1.075618e+00 -8.806844e-01  \n",
       "25%     5.187691e-01 -7.109739e-01 -1.403664e-01 -6.251444e-01 -8.806844e-01  \n",
       "50%     5.187691e-01 -1.041965e-01 -1.403664e-01  2.758023e-01  6.182818e-03  \n",
       "75%     5.187691e-01  1.109358e+00 -1.403664e-01  7.262757e-01  4.496164e-01  \n",
       "max     5.187691e-01  1.109358e+00  9.104322e+00  1.919113e+01  1.906935e+01  \n",
       "\n",
       "[8 rows x 104 columns]"
      ]
     },
     "execution_count": 312,
     "metadata": {},
     "output_type": "execute_result"
    }
   ],
   "source": [
    "# Check StandardScaler\n",
    "azdias.describe()"
   ]
  },
  {
   "cell_type": "markdown",
   "metadata": {},
   "source": [
    "### Discussion 2.1: Apply Feature Scaling\n",
    "\n",
    "**I applied an Imputer to replace all missing values using the mean, then scaled the data via StandardScaler. As far as effects/impact, imputing the missing values here shouldn't have a significant impact given that the rows that had large counts of missing values in the dataset were dropped earlier on.**"
   ]
  },
  {
   "cell_type": "markdown",
   "metadata": {},
   "source": [
    "### Step 2.2: Perform Dimensionality Reduction\n",
    "\n",
    "On your scaled data, you are now ready to apply dimensionality reduction techniques.\n",
    "\n",
    "- Use sklearn's [PCA](http://scikit-learn.org/stable/modules/generated/sklearn.decomposition.PCA.html) class to apply principal component analysis on the data, thus finding the vectors of maximal variance in the data. To start, you should not set any parameters (so all components are computed) or set a number of components that is at least half the number of features (so there's enough features to see the general trend in variability).\n",
    "- Check out the ratio of variance explained by each principal component as well as the cumulative variance explained. Try plotting the cumulative or sequential values using matplotlib's [`plot()`](https://matplotlib.org/api/_as_gen/matplotlib.pyplot.plot.html) function. Based on what you find, select a value for the number of transformed features you'll retain for the clustering part of the project.\n",
    "- Once you've made a choice for the number of components to keep, make sure you re-fit a PCA instance to perform the decided-on transformation."
   ]
  },
  {
   "cell_type": "code",
   "execution_count": 313,
   "metadata": {},
   "outputs": [],
   "source": [
    "# Apply PCA to the data.\n",
    "pca = PCA()\n",
    "pca_model = pca.fit_transform(azdias)"
   ]
  },
  {
   "cell_type": "code",
   "execution_count": 314,
   "metadata": {},
   "outputs": [],
   "source": [
    "# Investigate the variance accounted for by each principal component.\n",
    "def scree_plot(pca):\n",
    "    num_components = len(pca.explained_variance_ratio_)\n",
    "    ind = np.arange(num_components)\n",
    "    vals = pca.explained_variance_ratio_\n",
    " \n",
    "    plt.figure(figsize=(15, 8))\n",
    "    ax = plt.subplot(111)\n",
    "    cumvals = np.cumsum(vals)\n",
    "    ax.bar(ind, vals)\n",
    "    ax.plot(ind, cumvals)\n",
    "    ax.xaxis.set_tick_params(width = 0)\n",
    "    ax.yaxis.set_tick_params(width = 2, length = 12)\n",
    "    \n",
    "    ax.set_xlabel(\"Principal Component\")\n",
    "    ax.set_ylabel(\"Variance Explained (%)\")\n",
    "    plt.title('Explained Variance Per Principal Component')"
   ]
  },
  {
   "cell_type": "code",
   "execution_count": 315,
   "metadata": {},
   "outputs": [
    {
     "data": {
      "image/png": "[encoded data removed]",
      "text/plain": [
       "<matplotlib.figure.Figure at 0x7ff1807b20b8>"
      ]
     },
     "metadata": {
      "needs_background": "light"
     },
     "output_type": "display_data"
    }
   ],
   "source": [
    "scree_plot(pca)"
   ]
  },
  {
   "cell_type": "code",
   "execution_count": 316,
   "metadata": {},
   "outputs": [],
   "source": [
    "# Re-apply PCA to the data while selecting for number of components to retain.\n",
    "pca = PCA(75)\n",
    "pca_model = pca.fit_transform(azdias)"
   ]
  },
  {
   "cell_type": "code",
   "execution_count": 317,
   "metadata": {},
   "outputs": [
    {
     "data": {
      "image/png": "[encoded data removed]",
      "text/plain": [
       "<matplotlib.figure.Figure at 0x7ff17dbfdef0>"
      ]
     },
     "metadata": {
      "needs_background": "light"
     },
     "output_type": "display_data"
    }
   ],
   "source": [
    "scree_plot(pca)"
   ]
  },
  {
   "cell_type": "markdown",
   "metadata": {},
   "source": [
    "### Discussion 2.2: Perform Dimensionality Reduction\n",
    "\n",
    "**The first scree plot above shows the beginning of a \"leveling off\" in explained variance at around 75 components; therefore I chose to retain 75 components for clustering which represent at least 95% of the cumulative variance.**"
   ]
  },
  {
   "cell_type": "markdown",
   "metadata": {},
   "source": [
    "### Step 2.3: Interpret Principal Components\n",
    "\n",
    "Now that we have our transformed principal components, it's a nice idea to check out the weight of each variable on the first few components to see if they can be interpreted in some fashion.\n",
    "\n",
    "As a reminder, each principal component is a unit vector that points in the direction of highest variance (after accounting for the variance captured by earlier principal components). The further a weight is from zero, the more the principal component is in the direction of the corresponding feature. If two features have large weights of the same sign (both positive or both negative), then increases in one tend expect to be associated with increases in the other. To contrast, features with different signs can be expected to show a negative correlation: increases in one variable should result in a decrease in the other.\n",
    "\n",
    "- To investigate the features, you should map each weight to their corresponding feature name, then sort the features according to weight. The most interesting features for each principal component, then, will be those at the beginning and end of the sorted list. Use the data dictionary document to help you understand these most prominent features, their relationships, and what a positive or negative value on the principal component might indicate.\n",
    "- You should investigate and interpret feature associations from the first three principal components in this substep. To help facilitate this, you should write a function that you can call at any time to print the sorted list of feature weights, for the *i*-th principal component. This might come in handy in the next step of the project, when you interpret the tendencies of the discovered clusters."
   ]
  },
  {
   "cell_type": "code",
   "execution_count": 318,
   "metadata": {},
   "outputs": [],
   "source": [
    "def pca_weights(num_components):\n",
    "    components = pd.DataFrame(np.round(pca.components_[num_components - 1: num_components], 4), columns = azdias.keys())\n",
    "    components.index = ['Weights']\n",
    "    components = components.sort_values(by = 'Weights', axis = 1, ascending = False)\n",
    "    components = components.T\n",
    "    print('Top five (+) weighted features:\\n', components.head(5))\n",
    "    print('\\nTop five (-) weighted features:\\n', components.tail(5))\n",
    "    return components"
   ]
  },
  {
   "cell_type": "code",
   "execution_count": 319,
   "metadata": {},
   "outputs": [
    {
     "name": "stdout",
     "output_type": "stream",
     "text": [
      "Top five (+) weighted features:\n",
      "                        Weights\n",
      "FINANZ_SPARER           0.2639\n",
      "SEMIO_REL               0.2326\n",
      "SEMIO_PFLICHT           0.2277\n",
      "SEMIO_TRADV             0.2090\n",
      "FINANZ_UNAUFFAELLIGER   0.2034\n",
      "\n",
      "Top five (-) weighted features:\n",
      "                    Weights\n",
      "ZABEOTYP_3         -0.1582\n",
      "SEMIO_LUST         -0.1582\n",
      "SEMIO_ERL          -0.1802\n",
      "FINANZ_MINIMALIST  -0.2253\n",
      "FINANZ_VORSORGER   -0.2336\n"
     ]
    }
   ],
   "source": [
    "# Map weights for the first principal component to corresponding feature names\n",
    "# and then print the linked values, sorted by weight.\n",
    "pca1 = pca_weights(1)"
   ]
  },
  {
   "cell_type": "code",
   "execution_count": 320,
   "metadata": {},
   "outputs": [
    {
     "name": "stdout",
     "output_type": "stream",
     "text": [
      "Top five (+) weighted features:\n",
      "              Weights\n",
      "MOBI_REGIO    0.2350\n",
      "KBA05_GBZ     0.2297\n",
      "KBA05_ANTG1   0.2296\n",
      "KBA05_ANTG2   0.1930\n",
      "KBA05_ANTG4   0.1866\n",
      "\n",
      "Top five (-) weighted features:\n",
      "                     Weights\n",
      "EWDICHTE            -0.1338\n",
      "ZABEOTYP_3          -0.1399\n",
      "LP_STATUS_GROB_1.0  -0.1558\n",
      "HH_EINKOMMEN_SCORE  -0.1716\n",
      "FINANZ_HAUSBAUER    -0.2042\n"
     ]
    }
   ],
   "source": [
    "# Map weights for the second principal component to corresponding feature names\n",
    "# and then print the linked values, sorted by weight.\n",
    "pca2 = pca_weights(2)"
   ]
  },
  {
   "cell_type": "code",
   "execution_count": 321,
   "metadata": {},
   "outputs": [
    {
     "name": "stdout",
     "output_type": "stream",
     "text": [
      "Top five (+) weighted features:\n",
      "             Weights\n",
      "ANREDE_KZ    0.3157\n",
      "SEMIO_KAEM   0.2980\n",
      "SEMIO_DOM    0.2584\n",
      "SEMIO_KRIT   0.2575\n",
      "SEMIO_ERL    0.1744\n",
      "\n",
      "Top five (-) weighted features:\n",
      "                    Weights\n",
      "FINANZ_MINIMALIST  -0.1344\n",
      "SEMIO_FAM          -0.2216\n",
      "SEMIO_KULT         -0.2243\n",
      "SEMIO_SOZ          -0.2398\n",
      "SEMIO_VERT         -0.2850\n"
     ]
    }
   ],
   "source": [
    "# Map weights for the third principal component to corresponding feature names\n",
    "# and then print the linked values, sorted by weight.\n",
    "pca3 = pca_weights(3)"
   ]
  },
  {
   "cell_type": "markdown",
   "metadata": {},
   "source": [
    "### Discussion 2.3: Interpret Principal Components\n",
    "\n",
    "**First Component**\n",
    "\n",
    "**For the first component, we see a hybrid between financial and personality topologies (all person-level features) that complement one another. It makes sense that religious people have a tendancy to feel/be more dutiful (weights with same sign), and likewise people that are more event-oriented tend to be more prepared (again weights with same sign). Notice that low financial interest is negatively correlated with money-saving which also makese sense; since interest is simply the cost of borrowing money, the more money you save, the lower the financial interest.** \n",
    "\n",
    "Top positively correlated features for PC1:\n",
    "* Financial typology - money-saver (**FINANZ_SPARER**) ~26.4%\n",
    "* Personality typology - religious (**SEMIO_REL**) ~23.3%\n",
    "* Personality typology - dutiful (**SEMIO_PFLICHT**) ~22.8%\n",
    "\n",
    "Top negatively correlated features for PC1:\n",
    "* Financial typology - be prepared (**FINANZ_VORSORGER**) ~ -23.4%\n",
    "* Financial typology - low financial interest (**FINANZ_MINIMALIST**) ~ -22.5%\n",
    "* Personality typology - event-oriented (**SEMIO_ERL**) ~ -18.0%\n",
    "\n",
    "---------\n",
    "**Second Component**\n",
    "\n",
    "**For the second component, the strong correlations pertain to a variety of different feature levels i.e. region, micro-cell, person and household-level features. It makes sense that the more frequent a person/family moves from place to place (movement patterns), the less likely they are to actually fit into the home ownership category when considering financial topology as it is very costly to move. Complementing this, given the high expense of frequent moving, the negative correlation with low-income earners/estimated household net income also makes sense since it's unlikely that people with lower incomes can afford to move frequently.  Finally, people with lower (individual/household) incomes tend to not be able to afford moving into a place within a larger housing complex/micro-cell.**\n",
    "\n",
    "Top positively correlated features for PC2:\n",
    "* Movement patterns (**MOBI_REGIO**) ~23.5%\n",
    "* Number of buildings in the microcell (**KBA05_GBZ**) ~23.0%\n",
    "* Number of 1-2 family houses in the microcell (**KBA05_ANTG1**) ~23.0%\n",
    "\n",
    "Top negatively correlated features for PC2:\n",
    "* Financial typology - home ownership (**FINANZ_HAUSBAUER**) ~ -20.4%\n",
    "* Estimated household net income (**HH_EINKOMMEN_SCORE**) ~ -17.2%\n",
    "* Social status - low-income earners (**LP_STATUS_GROB_1.0**) ~ -15.6%\n",
    "\n",
    "----\n",
    "**Third Component**\n",
    "\n",
    "**For the third component, gender and personality traits reflect the highest weights. The more dominant-minded a person is, the more likely they are to be combative. Likewise, the less socially-minded someone is, the less likely they are to be culturely-minded as well. It then makes sense that the more combative one is, the less likely they are to be dreamful and socially-minded.  In summary, it's natural that an individual's personality and attitude go hand-in-hand.** \n",
    "\n",
    "Top positively correlated features for PC3:\n",
    "* Gender (**ANREDE_KZ**) ~31.6%\n",
    "* Personality typology - combative attitude (**SEMIO_KAEM**) ~30.0%\n",
    "* Personality typology - dominant-minded (**SEMIO_DOM**) ~25.8%\n",
    "\n",
    "Top negatively correlated features for PC3:\n",
    "* Personality typology - dreamful (**SEMIO_VERT**) ~ -28.5%\n",
    "* Personality typology - socially-minded (**SEMIO_SOZ**) ~ -24.0%\n",
    "* Personality typology - cultural-minded (**SEMIO_KULT**) ~ -22.4%"
   ]
  },
  {
   "cell_type": "markdown",
   "metadata": {},
   "source": [
    "## Step 3: Clustering\n",
    "\n",
    "### Step 3.1: Apply Clustering to General Population\n",
    "\n",
    "You've assessed and cleaned the demographics data, then scaled and transformed them. Now, it's time to see how the data clusters in the principal components space. In this substep, you will apply k-means clustering to the dataset and use the average within-cluster distances from each point to their assigned cluster's centroid to decide on a number of clusters to keep.\n",
    "\n",
    "- Use sklearn's [KMeans](http://scikit-learn.org/stable/modules/generated/sklearn.cluster.KMeans.html#sklearn.cluster.KMeans) class to perform k-means clustering on the PCA-transformed data.\n",
    "- Then, compute the average difference from each point to its assigned cluster's center. **Hint**: The KMeans object's `.score()` method might be useful here, but note that in sklearn, scores tend to be defined so that larger is better. Try applying it to a small, toy dataset, or use an internet search to help your understanding.\n",
    "- Perform the above two steps for a number of different cluster counts. You can then see how the average distance decreases with an increasing number of clusters. However, each additional cluster provides a smaller net benefit. Use this fact to select a final number of clusters in which to group the data. **Warning**: because of the large size of the dataset, it can take a long time for the algorithm to resolve. The more clusters to fit, the longer the algorithm will take. You should test for cluster counts through at least 10 clusters to get the full picture, but you shouldn't need to test for a number of clusters above about 30.\n",
    "- Once you've selected a final number of clusters to use, re-fit a KMeans instance to perform the clustering operation. Make sure that you also obtain the cluster assignments for the general demographics data, since you'll be using them in the final Step 3.3."
   ]
  },
  {
   "cell_type": "code",
   "execution_count": 324,
   "metadata": {},
   "outputs": [],
   "source": [
    "def get_scores(data, k):\n",
    "    kmeans = KMeans(k)\n",
    "    km_model = kmeans.fit(data)\n",
    "    return abs(km_model.score(data))"
   ]
  },
  {
   "cell_type": "code",
   "execution_count": 325,
   "metadata": {},
   "outputs": [],
   "source": [
    "# Over a number of different cluster counts, run k-means clustering on the data and \n",
    "#   compute the average within-cluster distances.\n",
    "scores = []\n",
    "centroids = [1, 4, 8] + list(np.arange(10, 31, 5)) \n",
    "for i in centroids:\n",
    "    scores.append(get_scores(pca_model, i))  \n",
    "    "
   ]
  },
  {
   "cell_type": "code",
   "execution_count": 326,
   "metadata": {},
   "outputs": [
    {
     "data": {
      "image/png": "[encoded data removed]",
      "text/plain": [
       "<matplotlib.figure.Figure at 0x7ff177c18c50>"
      ]
     },
     "metadata": {
      "needs_background": "light"
     },
     "output_type": "display_data"
    }
   ],
   "source": [
    "# Investigate the change in within-cluster distance across number of clusters.\n",
    "# Use matplotlib's plot function to visualize this relationship.\n",
    "plt.figure(figsize = (10, 7))\n",
    "plt.plot(centroids, scores, linestyle = '--', marker='o')\n",
    "\n",
    "plt.xlabel('Number of Clusters')\n",
    "plt.ylabel('Average Distance')\n",
    "plt.title('Average Distance Between Points and Cluster Centroid by Number of Clusters')\n",
    "plt.show()\n"
   ]
  },
  {
   "cell_type": "code",
   "execution_count": 327,
   "metadata": {},
   "outputs": [
    {
     "data": {
      "text/plain": [
       "20"
      ]
     },
     "execution_count": 327,
     "metadata": {},
     "output_type": "execute_result"
    }
   ],
   "source": [
    "dist_change = np.diff(scores)\n",
    "n_clusters = centroids[np.argmin(abs(dist_change)) - 1]\n",
    "n_clusters"
   ]
  },
  {
   "cell_type": "code",
   "execution_count": 328,
   "metadata": {},
   "outputs": [],
   "source": [
    "# Re-fit the k-means model with the selected number of clusters and obtain\n",
    "# cluster predictions for the general population demographics data.\n",
    "kmeans = KMeans(20)\n",
    "km_model = kmeans.fit(pca_model)\n",
    "prediction_azdias = km_model.predict(pca_model)"
   ]
  },
  {
   "cell_type": "markdown",
   "metadata": {},
   "source": [
    "### Discussion 3.1: Apply Clustering to General Population\n",
    "\n",
    "**Looking at the plot above, particularly where the average distance stops decreasing as much, the 'elbow' is very subtle and looks to be at k = 20. Thus, the final number of clusters I decided on is 20.**"
   ]
  },
  {
   "cell_type": "markdown",
   "metadata": {},
   "source": [
    "### Step 3.2: Apply All Steps to the Customer Data\n",
    "\n",
    "Now that you have clusters and cluster centers for the general population, it's time to see how the customer data maps on to those clusters. Take care to not confuse this for re-fitting all of the models to the customer data. Instead, you're going to use the fits from the general population to clean, transform, and cluster the customer data. In the last step of the project, you will interpret how the general population fits apply to the customer data.\n",
    "\n",
    "- Don't forget when loading in the customers data, that it is semicolon (`;`) delimited.\n",
    "- Apply the same feature wrangling, selection, and engineering steps to the customer demographics using the `clean_data()` function you created earlier. (You can assume that the customer demographics data has similar meaning behind missing data patterns as the general demographics data.)\n",
    "- Use the sklearn objects from the general demographics data, and apply their transformations to the customers data. That is, you should not be using a `.fit()` or `.fit_transform()` method to re-fit the old objects, nor should you be creating new sklearn objects! Carry the data through the feature scaling, PCA, and clustering steps, obtaining cluster assignments for all of the data in the customer demographics data."
   ]
  },
  {
   "cell_type": "code",
   "execution_count": 329,
   "metadata": {},
   "outputs": [],
   "source": [
    "# Load in the customer demographics data.\n",
    "customers = pd.read_csv('Udacity_CUSTOMERS_Subset.csv', sep = ';')\n",
    "len_customers = len(customers)"
   ]
  },
  {
   "cell_type": "code",
   "execution_count": 330,
   "metadata": {},
   "outputs": [],
   "source": [
    "# Apply preprocessing, feature transformation, and clustering from the general\n",
    "# demographics onto the customer data, obtaining cluster predictions for the\n",
    "# customer demographics data.\n",
    "customers = clean_data(customers)\n",
    "customers[customers.columns] = scaler.transform(imputer.transform(customers))\n",
    "customers_pca = pca.transform(customers)\n",
    "prediction_customers = km_model.predict(customers_pca)"
   ]
  },
  {
   "cell_type": "markdown",
   "metadata": {},
   "source": [
    "### Step 3.3: Compare Customer Data to Demographics Data\n",
    "\n",
    "At this point, you have clustered data based on demographics of the general population of Germany, and seen how the customer data for a mail-order sales company maps onto those demographic clusters. In this final substep, you will compare the two cluster distributions to see where the strongest customer base for the company is.\n",
    "\n",
    "Consider the proportion of persons in each cluster for the general population, and the proportions for the customers. If we think the company's customer base to be universal, then the cluster assignment proportions should be fairly similar between the two. If there are only particular segments of the population that are interested in the company's products, then we should see a mismatch from one to the other. If there is a higher proportion of persons in a cluster for the customer data compared to the general population (e.g. 5% of persons are assigned to a cluster for the general population, but 15% of the customer data is closest to that cluster's centroid) then that suggests the people in that cluster to be a target audience for the company. On the other hand, the proportion of the data in a cluster being larger in the general population than the customer data (e.g. only 2% of customers closest to a population centroid that captures 6% of the data) suggests that group of persons to be outside of the target demographics.\n",
    "\n",
    "Take a look at the following points in this step:\n",
    "\n",
    "- Compute the proportion of data points in each cluster for the general population and the customer data. Visualizations will be useful here: both for the individual dataset proportions, but also to visualize the ratios in cluster representation between groups. Seaborn's [`countplot()`](https://seaborn.pydata.org/generated/seaborn.countplot.html) or [`barplot()`](https://seaborn.pydata.org/generated/seaborn.barplot.html) function could be handy.\n",
    "  - Recall the analysis you performed in step 1.1.3 of the project, where you separated out certain data points from the dataset if they had more than a specified threshold of missing values. If you found that this group was qualitatively different from the main bulk of the data, you should treat this as an additional data cluster in this analysis. Make sure that you account for the number of data points in this subset, for both the general population and customer datasets, when making your computations!\n",
    "- Which cluster or clusters are overrepresented in the customer dataset compared to the general population? Select at least one such cluster and infer what kind of people might be represented by that cluster. Use the principal component interpretations from step 2.3 or look at additional components to help you make this inference. Alternatively, you can use the `.inverse_transform()` method of the PCA and StandardScaler objects to transform centroids back to the original data space and interpret the retrieved values directly.\n",
    "- Perform a similar investigation for the underrepresented clusters. Which cluster or clusters are underrepresented in the customer dataset compared to the general population, and what kinds of people are typified by these clusters?"
   ]
  },
  {
   "cell_type": "markdown",
   "metadata": {},
   "source": [
    "**In step 1.1.3 above, I separated out certain data points from the dataset if they had more than 10 missing values. Since I found that this group was qualitatively different from the main bulk of the data, I will treat this as an additional data cluster in this analysis and assign it to cluster '20'.**"
   ]
  },
  {
   "cell_type": "code",
   "execution_count": 331,
   "metadata": {},
   "outputs": [],
   "source": [
    "# Assign the dropped rows (missing values) from 1.1.3 to an additional cluster (tagged 20) to include \n",
    "#   in the proportion plot below\n",
    "prediction_azdias_new = np.append(prediction_azdias, [20] * (len_azdias - len(prediction_azdias)))\n",
    "prediction_customers_new = np.append(prediction_customers, [20] * (len_customers - len(prediction_customers)))"
   ]
  },
  {
   "cell_type": "code",
   "execution_count": 332,
   "metadata": {},
   "outputs": [],
   "source": [
    "# Compare the proportion of data in each cluster for the customer data to the\n",
    "# proportion of data in each cluster for the general population.\n",
    "\n",
    "# Initialize proportion lists for both datasets\n",
    "general_props = []\n",
    "customers_props = []\n",
    "\n",
    "cluster = [i for i in range(21)]\n",
    "for i in range(21):\n",
    "    general_props.append((prediction_azdias_new == i).sum()/len(prediction_azdias_new) * 100)\n",
    "    customers_props.append((prediction_customers_new == i).sum()/len(prediction_customers_new) * 100)\n",
    "    \n",
    "general_props_df = pd.DataFrame({'Cluster' : cluster, 'Percentage (%)' : general_props})\n",
    "general_props_df['dataset'] = 'General'\n",
    "\n",
    "customers_props_df = pd.DataFrame({'Cluster' : cluster, 'Percentage (%)' : customers_props})\n",
    "customers_props_df['dataset'] = 'Customers'"
   ]
  },
  {
   "cell_type": "code",
   "execution_count": 333,
   "metadata": {},
   "outputs": [],
   "source": [
    "# Concatenate cluster proportions from both datasets\n",
    "cluster_props = pd.concat([general_props_df, customers_props_df])\n",
    "cluster_props.columns = ['Cluster', 'Percentage (%)', 'dataset']"
   ]
  },
  {
   "cell_type": "code",
   "execution_count": 334,
   "metadata": {},
   "outputs": [
    {
     "data": {
      "image/png": "[encoded data removed]",
      "text/plain": [
       "<matplotlib.figure.Figure at 0x7ff17dba4c18>"
      ]
     },
     "metadata": {
      "needs_background": "light"
     },
     "output_type": "display_data"
    }
   ],
   "source": [
    "# Plot the proportion of data points in each cluster for each dataset\n",
    "plt.figure(figsize = (10, 7))\n",
    "sns.barplot(data = cluster_props, x = 'Cluster', y ='Percentage (%)',  hue = 'dataset')\n",
    "plt.title('Proportion of Data Points in each Cluster by Dataset')\n",
    "plt.show()"
   ]
  },
  {
   "cell_type": "markdown",
   "metadata": {},
   "source": [
    "**In the above plot, the mismatches of the cluster assignment proportions between the two datasets implies that there are only particular segments of the population that are interested in the company's products.  Let's take a closer look at the proportion differences.**"
   ]
  },
  {
   "cell_type": "code",
   "execution_count": 335,
   "metadata": {},
   "outputs": [
    {
     "data": {
      "text/html": [
       "<div>\n",
       "<style>\n",
       "    .dataframe thead tr:only-child th {\n",
       "        text-align: right;\n",
       "    }\n",
       "\n",
       "    .dataframe thead th {\n",
       "        text-align: left;\n",
       "    }\n",
       "\n",
       "    .dataframe tbody tr th {\n",
       "        vertical-align: top;\n",
       "    }\n",
       "</style>\n",
       "<table border=\"1\" class=\"dataframe\">\n",
       "  <thead>\n",
       "    <tr style=\"text-align: right;\">\n",
       "      <th>dataset</th>\n",
       "      <th>Customers</th>\n",
       "      <th>General</th>\n",
       "      <th>% Difference</th>\n",
       "    </tr>\n",
       "    <tr>\n",
       "      <th>Cluster</th>\n",
       "      <th></th>\n",
       "      <th></th>\n",
       "      <th></th>\n",
       "    </tr>\n",
       "  </thead>\n",
       "  <tbody>\n",
       "    <tr>\n",
       "      <th>0</th>\n",
       "      <td>6.399620</td>\n",
       "      <td>10.262101</td>\n",
       "      <td>-3.862481</td>\n",
       "    </tr>\n",
       "    <tr>\n",
       "      <th>1</th>\n",
       "      <td>0.460731</td>\n",
       "      <td>8.309387</td>\n",
       "      <td>-7.848656</td>\n",
       "    </tr>\n",
       "    <tr>\n",
       "      <th>2</th>\n",
       "      <td>24.255421</td>\n",
       "      <td>8.030107</td>\n",
       "      <td>16.225314</td>\n",
       "    </tr>\n",
       "    <tr>\n",
       "      <th>3</th>\n",
       "      <td>11.470269</td>\n",
       "      <td>6.639543</td>\n",
       "      <td>4.830726</td>\n",
       "    </tr>\n",
       "    <tr>\n",
       "      <th>4</th>\n",
       "      <td>1.221485</td>\n",
       "      <td>2.959535</td>\n",
       "      <td>-1.738051</td>\n",
       "    </tr>\n",
       "    <tr>\n",
       "      <th>5</th>\n",
       "      <td>2.013545</td>\n",
       "      <td>2.730748</td>\n",
       "      <td>-0.717203</td>\n",
       "    </tr>\n",
       "    <tr>\n",
       "      <th>6</th>\n",
       "      <td>0.846847</td>\n",
       "      <td>5.911104</td>\n",
       "      <td>-5.064257</td>\n",
       "    </tr>\n",
       "    <tr>\n",
       "      <th>7</th>\n",
       "      <td>0.420032</td>\n",
       "      <td>0.910549</td>\n",
       "      <td>-0.490516</td>\n",
       "    </tr>\n",
       "    <tr>\n",
       "      <th>8</th>\n",
       "      <td>0.472210</td>\n",
       "      <td>7.038434</td>\n",
       "      <td>-6.566224</td>\n",
       "    </tr>\n",
       "    <tr>\n",
       "      <th>9</th>\n",
       "      <td>6.286394</td>\n",
       "      <td>8.084527</td>\n",
       "      <td>-1.798133</td>\n",
       "    </tr>\n",
       "    <tr>\n",
       "      <th>10</th>\n",
       "      <td>2.875003</td>\n",
       "      <td>3.609991</td>\n",
       "      <td>-0.734989</td>\n",
       "    </tr>\n",
       "    <tr>\n",
       "      <th>11</th>\n",
       "      <td>1.074865</td>\n",
       "      <td>4.100554</td>\n",
       "      <td>-3.025689</td>\n",
       "    </tr>\n",
       "    <tr>\n",
       "      <th>12</th>\n",
       "      <td>0.887024</td>\n",
       "      <td>1.870692</td>\n",
       "      <td>-0.983668</td>\n",
       "    </tr>\n",
       "    <tr>\n",
       "      <th>13</th>\n",
       "      <td>0.282282</td>\n",
       "      <td>0.447700</td>\n",
       "      <td>-0.165418</td>\n",
       "    </tr>\n",
       "    <tr>\n",
       "      <th>14</th>\n",
       "      <td>0.183144</td>\n",
       "      <td>1.944299</td>\n",
       "      <td>-1.761154</td>\n",
       "    </tr>\n",
       "    <tr>\n",
       "      <th>15</th>\n",
       "      <td>0.479515</td>\n",
       "      <td>3.108769</td>\n",
       "      <td>-2.629254</td>\n",
       "    </tr>\n",
       "    <tr>\n",
       "      <th>16</th>\n",
       "      <td>9.286624</td>\n",
       "      <td>5.682541</td>\n",
       "      <td>3.604083</td>\n",
       "    </tr>\n",
       "    <tr>\n",
       "      <th>17</th>\n",
       "      <td>0.141924</td>\n",
       "      <td>0.392383</td>\n",
       "      <td>-0.250459</td>\n",
       "    </tr>\n",
       "    <tr>\n",
       "      <th>18</th>\n",
       "      <td>1.427588</td>\n",
       "      <td>0.430196</td>\n",
       "      <td>0.997391</td>\n",
       "    </tr>\n",
       "    <tr>\n",
       "      <th>19</th>\n",
       "      <td>2.078246</td>\n",
       "      <td>5.074387</td>\n",
       "      <td>-2.996141</td>\n",
       "    </tr>\n",
       "    <tr>\n",
       "      <th>20</th>\n",
       "      <td>27.437230</td>\n",
       "      <td>12.462453</td>\n",
       "      <td>14.974777</td>\n",
       "    </tr>\n",
       "  </tbody>\n",
       "</table>\n",
       "</div>"
      ],
      "text/plain": [
       "dataset  Customers    General  % Difference\n",
       "Cluster                                    \n",
       "0         6.399620  10.262101     -3.862481\n",
       "1         0.460731   8.309387     -7.848656\n",
       "2        24.255421   8.030107     16.225314\n",
       "3        11.470269   6.639543      4.830726\n",
       "4         1.221485   2.959535     -1.738051\n",
       "5         2.013545   2.730748     -0.717203\n",
       "6         0.846847   5.911104     -5.064257\n",
       "7         0.420032   0.910549     -0.490516\n",
       "8         0.472210   7.038434     -6.566224\n",
       "9         6.286394   8.084527     -1.798133\n",
       "10        2.875003   3.609991     -0.734989\n",
       "11        1.074865   4.100554     -3.025689\n",
       "12        0.887024   1.870692     -0.983668\n",
       "13        0.282282   0.447700     -0.165418\n",
       "14        0.183144   1.944299     -1.761154\n",
       "15        0.479515   3.108769     -2.629254\n",
       "16        9.286624   5.682541      3.604083\n",
       "17        0.141924   0.392383     -0.250459\n",
       "18        1.427588   0.430196      0.997391\n",
       "19        2.078246   5.074387     -2.996141\n",
       "20       27.437230  12.462453     14.974777"
      ]
     },
     "execution_count": 335,
     "metadata": {},
     "output_type": "execute_result"
    }
   ],
   "source": [
    "# Pivot to see actual % difference between data sets for every cluster\n",
    "prop_diff = cluster_props.pivot(index = 'Cluster',  columns = 'dataset', values= 'Percentage (%)')\n",
    "# Calcualte proportion differences\n",
    "prop_diff['% Difference'] = prop_diff['Customers'] - prop_diff['General']\n",
    "prop_diff"
   ]
  },
  {
   "cell_type": "code",
   "execution_count": 336,
   "metadata": {},
   "outputs": [],
   "source": [
    "# Slightly modified function from clean_data(df) from above.\n",
    "def drop_data(df):\n",
    "    # Load in the feature summary file.\n",
    "    feat_info = pd.read_csv('AZDIAS_Feature_Summary.csv', delimiter = ';')\n",
    "    \n",
    "    # execute all main cleaning steps:\n",
    "    # Identify missing or unknown data values and convert them to NaNs.\n",
    "    for i, column in enumerate(df.columns):\n",
    "        str_n = feat_info['missing_or_unknown'].iloc[i]\n",
    "        if i in [57, 58, 59]:  # to accomodate for [*X] unknown values\n",
    "            list_n = str_n[1: -1].split(',')\n",
    "        else:\n",
    "            list_n = literal_eval(str_n)\n",
    "        for j in list_n:\n",
    "            df[column].replace(j, np.NaN, inplace = True)\n",
    "\n",
    "    # Remove the outlier columns from the dataset\n",
    "    df.drop(['AGER_TYP', 'GEBURTSJAHR', 'TITEL_KZ', 'ALTER_HH', 'KK_KUNDENTYP', 'KBA05_BAUMAX'], axis = 1, inplace = True)\n",
    "            \n",
    "    # Divide the data into two subsets based on the number of missing values in each row.\n",
    "    # Using threshold = 10 missing values\n",
    "    less_missing_df = df[df.isnull().sum(axis = 1) <= 10].reset_index(drop = True)\n",
    "\n",
    "    # Engineer two new variables, decade and movement, for 'PRAEGENDE_JUGENDJAHRE'\n",
    "    # For movement:\n",
    "    #    Mainstream = 1\n",
    "    #    Avantgarde = 0\n",
    "    full_mapping = pd.DataFrame({-1: [np.nan, np.nan],\n",
    "                              0: [np.nan, np.nan],\n",
    "                              1: [40, 1],\n",
    "                              2: [40, 0],\n",
    "                              3: [50, 1],\n",
    "                              4: [50, 0],\n",
    "                              5: [60, 1],\n",
    "                              6: [60, 0],\n",
    "                              7: [60, 0],\n",
    "                              8: [70, 1],\n",
    "                              9: [70, 0],\n",
    "                              10: [80, 1],\n",
    "                              11: [80, 0],\n",
    "                              12: [80, 1],\n",
    "                              13: [80, 0],\n",
    "                              14: [90, 1],\n",
    "                              15: [90, 0]}).T\n",
    "\n",
    "    # Create column that encodes decade\n",
    "    decade_mapping = full_mapping[0].to_dict()\n",
    "    less_missing_df['DECADE'] = less_missing_df['PRAEGENDE_JUGENDJAHRE'].map(decade_mapping)\n",
    "\n",
    "    # Create column that encodes movement \n",
    "    movement_mapping = full_mapping[1].to_dict()\n",
    "    less_missing_df['MOVEMENT'] = less_missing_df['PRAEGENDE_JUGENDJAHRE'].map(movement_mapping)\n",
    "\n",
    "    # Engineer two new variables, wealth and life stage, for 'CAMEO_INTL_2015'\n",
    "    # We do this by breaking up the two-digit codes by their 'tens'-place and 'ones'-place digits \n",
    "    # into two new ordinal variables\n",
    "    less_missing_df['WEALTH'] = pd.to_numeric(less_missing_df['CAMEO_INTL_2015']) // 10\n",
    "    less_missing_df['LIFE_STAGE'] = pd.to_numeric(less_missing_df['CAMEO_INTL_2015']) % 10\n",
    "\n",
    "    # Return the cleaned dataframe.\n",
    "    return less_missing_df"
   ]
  },
  {
   "cell_type": "code",
   "execution_count": 337,
   "metadata": {},
   "outputs": [],
   "source": [
    "# Reload datasets and do column/row dropping to use in next part\n",
    "azdias_fresh = pd.read_csv('Udacity_AZDIAS_Subset.csv', sep = ';')\n",
    "customers_fresh = pd.read_csv('Udacity_CUSTOMERS_Subset.csv', sep = ';')\n",
    "azdias1 = drop_data(azdias_fresh)\n",
    "customers1 = drop_data(customers_fresh)"
   ]
  },
  {
   "cell_type": "markdown",
   "metadata": {},
   "source": [
    "**First, let's look at what kinds of people are part of a cluster that is *overrepresented* in the customer data compared to the general population.**"
   ]
  },
  {
   "cell_type": "code",
   "execution_count": 338,
   "metadata": {},
   "outputs": [
    {
     "data": {
      "text/plain": [
       "Cluster\n",
       "2     16.225314\n",
       "20    14.974777\n",
       "3      4.830726\n",
       "16     3.604083\n",
       "18     0.997391\n",
       "Name: % Difference, dtype: float64"
      ]
     },
     "execution_count": 338,
     "metadata": {},
     "output_type": "execute_result"
    }
   ],
   "source": [
    "# What kinds of people are part of a cluster that is overrepresented in the\n",
    "#   customer data compared to the general population?\n",
    "\n",
    "prop_diff['% Difference'].sort_values(ascending = False).head(5)"
   ]
  },
  {
   "cell_type": "markdown",
   "metadata": {},
   "source": [
    "**Recall, from the principal component interpretations from step 2.3, a majority of the top positively/negatively weighted features fell into financial and personality-type topologies.  Let's take a look at those features and topologies, as well as some others, for cluster 2.  My findings are under the Discussion section at the end.**"
   ]
  },
  {
   "cell_type": "code",
   "execution_count": 339,
   "metadata": {},
   "outputs": [],
   "source": [
    "# Looking at cluster 2\n",
    "overrep = customers_props_df[customers_props_df['Cluster'] == 2].index\n",
    "overrep_df = customers1.iloc[overrep]\n",
    "#overrep_df"
   ]
  },
  {
   "cell_type": "code",
   "execution_count": 340,
   "metadata": {},
   "outputs": [
    {
     "data": {
      "text/html": [
       "<div>\n",
       "<style>\n",
       "    .dataframe thead tr:only-child th {\n",
       "        text-align: right;\n",
       "    }\n",
       "\n",
       "    .dataframe thead th {\n",
       "        text-align: left;\n",
       "    }\n",
       "\n",
       "    .dataframe tbody tr th {\n",
       "        vertical-align: top;\n",
       "    }\n",
       "</style>\n",
       "<table border=\"1\" class=\"dataframe\">\n",
       "  <thead>\n",
       "    <tr style=\"text-align: right;\">\n",
       "      <th></th>\n",
       "      <th>FINANZ_SPARER</th>\n",
       "      <th>FINANZ_VORSORGER</th>\n",
       "      <th>FINANZ_MINIMALIST</th>\n",
       "      <th>FINANZ_HAUSBAUER</th>\n",
       "      <th>HH_EINKOMMEN_SCORE</th>\n",
       "      <th>LP_STATUS_GROB</th>\n",
       "    </tr>\n",
       "  </thead>\n",
       "  <tbody>\n",
       "    <tr>\n",
       "      <th>2</th>\n",
       "      <td>1</td>\n",
       "      <td>5</td>\n",
       "      <td>5</td>\n",
       "      <td>2</td>\n",
       "      <td>4.0</td>\n",
       "      <td>4.0</td>\n",
       "    </tr>\n",
       "  </tbody>\n",
       "</table>\n",
       "</div>"
      ],
      "text/plain": [
       "   FINANZ_SPARER  FINANZ_VORSORGER  FINANZ_MINIMALIST  FINANZ_HAUSBAUER  \\\n",
       "2              1                 5                  5                 2   \n",
       "\n",
       "   HH_EINKOMMEN_SCORE  LP_STATUS_GROB  \n",
       "2                 4.0             4.0  "
      ]
     },
     "execution_count": 340,
     "metadata": {},
     "output_type": "execute_result"
    }
   ],
   "source": [
    "# Financial typologies from PCA\n",
    "overrep_df.filter(items=['FINANZ_SPARER', 'FINANZ_VORSORGER', 'FINANZ_MINIMALIST', 'FINANZ_HAUSBAUER', 'HH_EINKOMMEN_SCORE', 'LP_STATUS_GROB'])"
   ]
  },
  {
   "cell_type": "code",
   "execution_count": 341,
   "metadata": {},
   "outputs": [
    {
     "data": {
      "text/html": [
       "<div>\n",
       "<style>\n",
       "    .dataframe thead tr:only-child th {\n",
       "        text-align: right;\n",
       "    }\n",
       "\n",
       "    .dataframe thead th {\n",
       "        text-align: left;\n",
       "    }\n",
       "\n",
       "    .dataframe tbody tr th {\n",
       "        vertical-align: top;\n",
       "    }\n",
       "</style>\n",
       "<table border=\"1\" class=\"dataframe\">\n",
       "  <thead>\n",
       "    <tr style=\"text-align: right;\">\n",
       "      <th></th>\n",
       "      <th>SEMIO_REL</th>\n",
       "      <th>SEMIO_PFLICHT</th>\n",
       "      <th>SEMIO_ERL</th>\n",
       "      <th>SEMIO_KAEM</th>\n",
       "      <th>SEMIO_DOM</th>\n",
       "      <th>SEMIO_VERT</th>\n",
       "      <th>SEMIO_SOZ</th>\n",
       "      <th>SEMIO_KULT</th>\n",
       "    </tr>\n",
       "  </thead>\n",
       "  <tbody>\n",
       "    <tr>\n",
       "      <th>2</th>\n",
       "      <td>3</td>\n",
       "      <td>3</td>\n",
       "      <td>3</td>\n",
       "      <td>3</td>\n",
       "      <td>3</td>\n",
       "      <td>7</td>\n",
       "      <td>6</td>\n",
       "      <td>4</td>\n",
       "    </tr>\n",
       "  </tbody>\n",
       "</table>\n",
       "</div>"
      ],
      "text/plain": [
       "   SEMIO_REL  SEMIO_PFLICHT  SEMIO_ERL  SEMIO_KAEM  SEMIO_DOM  SEMIO_VERT  \\\n",
       "2          3              3          3           3          3           7   \n",
       "\n",
       "   SEMIO_SOZ  SEMIO_KULT  \n",
       "2          6           4  "
      ]
     },
     "execution_count": 341,
     "metadata": {},
     "output_type": "execute_result"
    }
   ],
   "source": [
    "# Personality typologies from PCA\n",
    "overrep_df.filter(items=['SEMIO_REL', 'SEMIO_PFLICHT', 'SEMIO_ERL', 'SEMIO_KAEM', 'SEMIO_DOM', 'SEMIO_VERT', 'SEMIO_SOZ', 'SEMIO_KULT'])"
   ]
  },
  {
   "cell_type": "code",
   "execution_count": 342,
   "metadata": {},
   "outputs": [
    {
     "data": {
      "text/html": [
       "<div>\n",
       "<style>\n",
       "    .dataframe thead tr:only-child th {\n",
       "        text-align: right;\n",
       "    }\n",
       "\n",
       "    .dataframe thead th {\n",
       "        text-align: left;\n",
       "    }\n",
       "\n",
       "    .dataframe tbody tr th {\n",
       "        vertical-align: top;\n",
       "    }\n",
       "</style>\n",
       "<table border=\"1\" class=\"dataframe\">\n",
       "  <thead>\n",
       "    <tr style=\"text-align: right;\">\n",
       "      <th></th>\n",
       "      <th>MOBI_REGIO</th>\n",
       "      <th>KBA05_GBZ</th>\n",
       "      <th>KBA05_ANTG1</th>\n",
       "      <th>ANREDE_KZ</th>\n",
       "      <th>ORTSGR_KLS9</th>\n",
       "      <th>CAMEO_DEUG_2015</th>\n",
       "      <th>ALTERSKATEGORIE_GROB</th>\n",
       "      <th>LP_FAMILIE_GROB</th>\n",
       "      <th>CJT_GESAMTTYP</th>\n",
       "      <th>DECADE</th>\n",
       "      <th>MOVEMENT</th>\n",
       "      <th>WEALTH</th>\n",
       "      <th>LIFE_STAGE</th>\n",
       "    </tr>\n",
       "  </thead>\n",
       "  <tbody>\n",
       "    <tr>\n",
       "      <th>2</th>\n",
       "      <td>4.0</td>\n",
       "      <td>4.0</td>\n",
       "      <td>3.0</td>\n",
       "      <td>1</td>\n",
       "      <td>3.0</td>\n",
       "      <td>4</td>\n",
       "      <td>4.0</td>\n",
       "      <td>NaN</td>\n",
       "      <td>2.0</td>\n",
       "      <td>40.0</td>\n",
       "      <td>1.0</td>\n",
       "      <td>2.0</td>\n",
       "      <td>4.0</td>\n",
       "    </tr>\n",
       "  </tbody>\n",
       "</table>\n",
       "</div>"
      ],
      "text/plain": [
       "   MOBI_REGIO  KBA05_GBZ  KBA05_ANTG1  ANREDE_KZ  ORTSGR_KLS9 CAMEO_DEUG_2015  \\\n",
       "2         4.0        4.0          3.0          1          3.0               4   \n",
       "\n",
       "   ALTERSKATEGORIE_GROB  LP_FAMILIE_GROB  CJT_GESAMTTYP  DECADE  MOVEMENT  \\\n",
       "2                   4.0              NaN            2.0    40.0       1.0   \n",
       "\n",
       "   WEALTH  LIFE_STAGE  \n",
       "2     2.0         4.0  "
      ]
     },
     "execution_count": 342,
     "metadata": {},
     "output_type": "execute_result"
    }
   ],
   "source": [
    "# Other features that could be relevant\n",
    "overrep_df.filter(items=['MOBI_REGIO', 'KBA05_GBZ', 'KBA05_ANTG1', 'ANREDE_KZ', 'ORTSGR_KLS9', 'CAMEO_DEUG_2015', 'ALTERSKATEGORIE_GROB', 'LP_FAMILIE_GROB', 'CJT_GESAMTTYP', 'DECADE', 'MOVEMENT', 'WEALTH', 'LIFE_STAGE'])"
   ]
  },
  {
   "cell_type": "markdown",
   "metadata": {},
   "source": [
    "**Next, let's look at what kinds of people are part of a cluster that is *underrepresented* in the customer data compared to the general population.**"
   ]
  },
  {
   "cell_type": "code",
   "execution_count": 343,
   "metadata": {},
   "outputs": [
    {
     "data": {
      "text/plain": [
       "Cluster\n",
       "1    -7.848656\n",
       "8    -6.566224\n",
       "6    -5.064257\n",
       "0    -3.862481\n",
       "11   -3.025689\n",
       "Name: % Difference, dtype: float64"
      ]
     },
     "execution_count": 343,
     "metadata": {},
     "output_type": "execute_result"
    }
   ],
   "source": [
    "# What kinds of people are part of a cluster that is underrepresented in the\n",
    "#   customer data compared to the general population?\n",
    "\n",
    "prop_diff['% Difference'].sort_values(ascending = True).head(5)"
   ]
  },
  {
   "cell_type": "markdown",
   "metadata": {},
   "source": [
    "**Cluster 1 looks to be the most underepresented (as you can see in the proportion plot as well) so let's take a closer look at the topologies/features for this cluster next.**"
   ]
  },
  {
   "cell_type": "code",
   "execution_count": 347,
   "metadata": {},
   "outputs": [],
   "source": [
    "# Looking at Cluster 1\n",
    "underrep = general_props_df[general_props_df['Cluster'] == 1].index\n",
    "underrep_df = azdias1.iloc[underrep]\n",
    "#underrep_df"
   ]
  },
  {
   "cell_type": "code",
   "execution_count": 348,
   "metadata": {},
   "outputs": [
    {
     "data": {
      "text/html": [
       "<div>\n",
       "<style>\n",
       "    .dataframe thead tr:only-child th {\n",
       "        text-align: right;\n",
       "    }\n",
       "\n",
       "    .dataframe thead th {\n",
       "        text-align: left;\n",
       "    }\n",
       "\n",
       "    .dataframe tbody tr th {\n",
       "        vertical-align: top;\n",
       "    }\n",
       "</style>\n",
       "<table border=\"1\" class=\"dataframe\">\n",
       "  <thead>\n",
       "    <tr style=\"text-align: right;\">\n",
       "      <th></th>\n",
       "      <th>FINANZ_SPARER</th>\n",
       "      <th>FINANZ_VORSORGER</th>\n",
       "      <th>FINANZ_MINIMALIST</th>\n",
       "      <th>FINANZ_HAUSBAUER</th>\n",
       "      <th>HH_EINKOMMEN_SCORE</th>\n",
       "      <th>LP_STATUS_GROB</th>\n",
       "    </tr>\n",
       "  </thead>\n",
       "  <tbody>\n",
       "    <tr>\n",
       "      <th>1</th>\n",
       "      <td>4</td>\n",
       "      <td>1</td>\n",
       "      <td>1</td>\n",
       "      <td>5</td>\n",
       "      <td>4.0</td>\n",
       "      <td>2.0</td>\n",
       "    </tr>\n",
       "  </tbody>\n",
       "</table>\n",
       "</div>"
      ],
      "text/plain": [
       "   FINANZ_SPARER  FINANZ_VORSORGER  FINANZ_MINIMALIST  FINANZ_HAUSBAUER  \\\n",
       "1              4                 1                  1                 5   \n",
       "\n",
       "   HH_EINKOMMEN_SCORE  LP_STATUS_GROB  \n",
       "1                 4.0             2.0  "
      ]
     },
     "execution_count": 348,
     "metadata": {},
     "output_type": "execute_result"
    }
   ],
   "source": [
    "# Financial typologies from PCA\n",
    "underrep_df.filter(items=['FINANZ_SPARER', 'FINANZ_VORSORGER', 'FINANZ_MINIMALIST', 'FINANZ_HAUSBAUER', 'HH_EINKOMMEN_SCORE', 'LP_STATUS_GROB'])"
   ]
  },
  {
   "cell_type": "code",
   "execution_count": 349,
   "metadata": {},
   "outputs": [
    {
     "data": {
      "text/html": [
       "<div>\n",
       "<style>\n",
       "    .dataframe thead tr:only-child th {\n",
       "        text-align: right;\n",
       "    }\n",
       "\n",
       "    .dataframe thead th {\n",
       "        text-align: left;\n",
       "    }\n",
       "\n",
       "    .dataframe tbody tr th {\n",
       "        vertical-align: top;\n",
       "    }\n",
       "</style>\n",
       "<table border=\"1\" class=\"dataframe\">\n",
       "  <thead>\n",
       "    <tr style=\"text-align: right;\">\n",
       "      <th></th>\n",
       "      <th>SEMIO_REL</th>\n",
       "      <th>SEMIO_PFLICHT</th>\n",
       "      <th>SEMIO_ERL</th>\n",
       "      <th>SEMIO_KAEM</th>\n",
       "      <th>SEMIO_DOM</th>\n",
       "      <th>SEMIO_VERT</th>\n",
       "      <th>SEMIO_SOZ</th>\n",
       "      <th>SEMIO_KULT</th>\n",
       "    </tr>\n",
       "  </thead>\n",
       "  <tbody>\n",
       "    <tr>\n",
       "      <th>1</th>\n",
       "      <td>3</td>\n",
       "      <td>3</td>\n",
       "      <td>6</td>\n",
       "      <td>7</td>\n",
       "      <td>7</td>\n",
       "      <td>4</td>\n",
       "      <td>4</td>\n",
       "      <td>3</td>\n",
       "    </tr>\n",
       "  </tbody>\n",
       "</table>\n",
       "</div>"
      ],
      "text/plain": [
       "   SEMIO_REL  SEMIO_PFLICHT  SEMIO_ERL  SEMIO_KAEM  SEMIO_DOM  SEMIO_VERT  \\\n",
       "1          3              3          6           7          7           4   \n",
       "\n",
       "   SEMIO_SOZ  SEMIO_KULT  \n",
       "1          4           3  "
      ]
     },
     "execution_count": 349,
     "metadata": {},
     "output_type": "execute_result"
    }
   ],
   "source": [
    "# Personality typologies from PCA\n",
    "underrep_df.filter(items=['SEMIO_REL', 'SEMIO_PFLICHT', 'SEMIO_ERL', 'SEMIO_KAEM', 'SEMIO_DOM', 'SEMIO_VERT', 'SEMIO_SOZ', 'SEMIO_KULT'])"
   ]
  },
  {
   "cell_type": "code",
   "execution_count": 350,
   "metadata": {},
   "outputs": [
    {
     "data": {
      "text/html": [
       "<div>\n",
       "<style>\n",
       "    .dataframe thead tr:only-child th {\n",
       "        text-align: right;\n",
       "    }\n",
       "\n",
       "    .dataframe thead th {\n",
       "        text-align: left;\n",
       "    }\n",
       "\n",
       "    .dataframe tbody tr th {\n",
       "        vertical-align: top;\n",
       "    }\n",
       "</style>\n",
       "<table border=\"1\" class=\"dataframe\">\n",
       "  <thead>\n",
       "    <tr style=\"text-align: right;\">\n",
       "      <th></th>\n",
       "      <th>MOBI_REGIO</th>\n",
       "      <th>KBA05_GBZ</th>\n",
       "      <th>KBA05_ANTG1</th>\n",
       "      <th>ANREDE_KZ</th>\n",
       "      <th>ORTSGR_KLS9</th>\n",
       "      <th>CAMEO_DEUG_2015</th>\n",
       "      <th>ALTERSKATEGORIE_GROB</th>\n",
       "      <th>LP_FAMILIE_GROB</th>\n",
       "      <th>CJT_GESAMTTYP</th>\n",
       "      <th>DECADE</th>\n",
       "      <th>MOVEMENT</th>\n",
       "      <th>WEALTH</th>\n",
       "      <th>LIFE_STAGE</th>\n",
       "    </tr>\n",
       "  </thead>\n",
       "  <tbody>\n",
       "    <tr>\n",
       "      <th>1</th>\n",
       "      <td>3.0</td>\n",
       "      <td>3.0</td>\n",
       "      <td>1.0</td>\n",
       "      <td>2</td>\n",
       "      <td>5.0</td>\n",
       "      <td>4</td>\n",
       "      <td>3.0</td>\n",
       "      <td>1.0</td>\n",
       "      <td>3.0</td>\n",
       "      <td>90.0</td>\n",
       "      <td>0.0</td>\n",
       "      <td>2.0</td>\n",
       "      <td>4.0</td>\n",
       "    </tr>\n",
       "  </tbody>\n",
       "</table>\n",
       "</div>"
      ],
      "text/plain": [
       "   MOBI_REGIO  KBA05_GBZ  KBA05_ANTG1  ANREDE_KZ  ORTSGR_KLS9 CAMEO_DEUG_2015  \\\n",
       "1         3.0        3.0          1.0          2          5.0               4   \n",
       "\n",
       "   ALTERSKATEGORIE_GROB  LP_FAMILIE_GROB  CJT_GESAMTTYP  DECADE  MOVEMENT  \\\n",
       "1                   3.0              1.0            3.0    90.0       0.0   \n",
       "\n",
       "   WEALTH  LIFE_STAGE  \n",
       "1     2.0         4.0  "
      ]
     },
     "execution_count": 350,
     "metadata": {},
     "output_type": "execute_result"
    }
   ],
   "source": [
    "# Other features that could be relevant\n",
    "underrep_df.filter(items=['MOBI_REGIO', 'KBA05_GBZ', 'KBA05_ANTG1', 'ANREDE_KZ', 'ORTSGR_KLS9', 'CAMEO_DEUG_2015', 'ALTERSKATEGORIE_GROB', 'LP_FAMILIE_GROB', 'CJT_GESAMTTYP', 'DECADE', 'MOVEMENT', 'WEALTH', 'LIFE_STAGE'])"
   ]
  },
  {
   "cell_type": "markdown",
   "metadata": {},
   "source": [
    "### Discussion 3.3: Compare Customer Data to Demographics Data\n",
    "\n",
    "**After considering the proportion of persons in each cluster for the general population, and the proportions for the customers, it's clear (from the proportion plot above) that there are mismatches from one to the other which implies that there are only particular segments of the population that are interested in the company's products.**\n",
    "\n",
    "\n",
    "**When looking to see what kinds of people that were *overrepresented* in the customer data compared to the general population, the two clusters that showed the highest differences were cluster 2 and cluster 20.** \n",
    "\n",
    "* Cluster **20** was the additional cluster that I assigned the dropped rows (n > 10 missing values) from section 1.1.3 since I found that this group was qualitatively different from the main bulk of the data, therefore I treated it as an additional data cluster in this analysis. \n",
    "\n",
    "* For cluster **2**, 8% of persons were assigned to a cluster for the general population, but ~24% of the customer data was closest to its centroid, which suggests the people in this cluster are a target audience for the company.  \n",
    "\n",
    "**From the principal component interpretations from step 2.3, recall that there was a handful of strongly correlated features that represented both financial and personality-based typologies. I examined some of these features (and a few others) from cluster 2 to infer what kind of people might be represented.** \n",
    "\n",
    "Using the Data Dictionary to interpret the feature values:\n",
    "* Financial typologies: very high money saver, very low not prepared, very low low financial interest, very low home ownership, average estimated household net income, houseowner\n",
    "* Personality (SEMIO_*): more likely to be religious, dutiful, event-oriented, combative, and dominant-minded; not likely to be dreamful or socially-minded, cultural-minded on average\n",
    "* Movement pattern (MOBI_REGIO): doesn't move often\n",
    "* Micro-cell (KBA05_GBZ, KBA05_ANTG1): 5-16 buildings, high share of 1-2 family homes in micro-cell\n",
    "* Estimated age (ALTERSKATEGORIE_GROB): > 60 years old\n",
    "* Gender (ANREDE_KZ): male\n",
    "* Preferred information and buying channels for consumer (CJT_GESAMTTYP): Advertising- Consumption traditionalist\n",
    "* Size of community (ORTSGR_KLS9): 5,001 to  10,000 inhabitants\n",
    "* Decade: 40s - war years\n",
    "* Movement: mainstream\n",
    "* Wealth: consumption-oriented middleclass, prosperous households\n",
    "* Life stage: older families & mature couples\n",
    "\n",
    "\n",
    "**In summary, the segments of the population that seem to be relatively popular with the mail-order company appear to be older males (over 60 years of age) that are big money savers (and thus have very low financial interest), and that are in prosperous households.  They are unlikely to move often and are consumption-oriented middleclass. From a personality perspective, they are more likely to be religious, dutiful, and event-oriented (as these characteristics tend to be complementary to one another). Therefore, they are more likely combative/dominant-minded, and not as much socially-minded.**\n",
    "\n",
    "---\n",
    "\n",
    "**When looking to see what kinds of people that were *underrepresented* in the customer data compared to the general population, the top cluster was cluster 1.**\n",
    "* For this cluster, less than 1% of customers closest to the population centroid captured ~8.3% of the data, which suggests that this group of persons is outside of the target demographics.\n",
    "\n",
    "**I again examined some feature values to infer what kind of people might be represented.** \n",
    "\n",
    "Using the Data Dictionary to interpret the feature values:\n",
    "* Financial typologies: low money saver, very prepared, very high low financial interest, average investor, probably no home ownership, average earner, average estimated household income\n",
    "* Personality (SEMIO_*): very religious, very dutiful, uncombative, dreamful, socially/cultural-minded, unlikely to be event-oriented and dominant-minded\n",
    "* Movement pattern (MOBI_REGIO): moves from time to time\n",
    "* Micro-cell (KBA05_GBZ, KBA05_ANTG1): 17-22 buildings, lower share of 1-2 family homes in micro-cell\n",
    "* Estimated age (ALTERSKATEGORIE_GROB): 46 - 60 years old\n",
    "* Gender (ANREDE_KZ): female\n",
    "* Preferred information and buying channels for consumer (CJT_GESAMTTYP): advertisinginterested Store-shopper\n",
    "* Size of community (ORTSGR_KLS9): 20,001 to  50,000 inhabitants\n",
    "* Decade: 90s - ecological awareness\n",
    "* Movement: avantgarde\n",
    "* Wealth: consumption-oriented middleclass, prosperous households\n",
    "* Life stage: single, older families & mature couples\n",
    "\n",
    "**In summary, the segments of the population that are relatively unpopular with the mail-order company appear to be middle-aged single (typically) females that are average earners and investors, who live in larger communities (but don't necessarily own a house) and who occasionally move from time to time. This audience tends to prefer shopping in-store (which makes sense that they are not in the targeted audience!), and unlike the targeted audience, they are not big money-savers and so have much higher financial interest. Lastly, these individuals tend to be less event-oriented and dominant-minded, and more so socially/cultural-minded and uncombative.**\n",
    "\n",
    "\n",
    "\n",
    "\n"
   ]
  },
  {
   "cell_type": "markdown",
   "metadata": {},
   "source": [
    "> Congratulations on making it this far in the project! Before you finish, make sure to check through the entire notebook from top to bottom to make sure that your analysis follows a logical flow and all of your findings are documented in **Discussion** cells. Once you've checked over all of your work, you should export the notebook as an HTML document to submit for evaluation. You can do this from the menu, navigating to **File -> Download as -> HTML (.html)**. You will submit both that document and this notebook for your project submission."
   ]
  },
  {
   "cell_type": "code",
   "execution_count": null,
   "metadata": {},
   "outputs": [],
   "source": []
  }
 ],
 "metadata": {
  "kernelspec": {
   "display_name": "Python 3",
   "language": "python",
   "name": "python3"
  },
  "language_info": {
   "codemirror_mode": {
    "name": "ipython",
    "version": 3
   },
   "file_extension": ".py",
   "mimetype": "text/x-python",
   "name": "python",
   "nbconvert_exporter": "python",
   "pygments_lexer": "ipython3",
   "version": "3.6.3"
  }
 },
 "nbformat": 4,
 "nbformat_minor": 2
}
